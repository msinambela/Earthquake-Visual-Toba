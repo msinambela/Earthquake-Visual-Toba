{
 "cells": [
  {
   "cell_type": "markdown",
   "metadata": {},
   "source": [
    "In this study, I try to explore and visualize \"Significant Earthquakes, 1965-2016\" dataset. Additionally, there are basic analysis about parameters. The graphs are:\n",
    "* Bar Plot (Frequency of Earthquakes by Year\n",
    "* Bubble Chart\n",
    "* Mixed Line Plot (Maximum and Average Magnitude of Each Year)\n",
    "* 3D Scatter Plot\n",
    "* Animation Map"
   ]
  },
  {
   "cell_type": "code",
   "execution_count": 12,
   "metadata": {
    "_cell_guid": "b1076dfc-b9ad-4769-8c92-a6c4dae69d19",
    "_kg_hide-input": false,
    "_uuid": "8f2839f25d086af736a60e9eeb907d3b93b6e0e5"
   },
   "outputs": [
    {
     "data": {
      "text/html": [
       "        <script type=\"text/javascript\">\n",
       "        window.PlotlyConfig = {MathJaxConfig: 'local'};\n",
       "        if (window.MathJax) {MathJax.Hub.Config({SVG: {font: \"STIX-Web\"}});}\n",
       "        if (typeof require !== 'undefined') {\n",
       "        require.undef(\"plotly\");\n",
       "        requirejs.config({\n",
       "            paths: {\n",
       "                'plotly': ['https://cdn.plot.ly/plotly-2.8.3.min']\n",
       "            }\n",
       "        });\n",
       "        require(['plotly'], function(Plotly) {\n",
       "            window._Plotly = Plotly;\n",
       "        });\n",
       "        }\n",
       "        </script>\n",
       "        "
      ]
     },
     "metadata": {},
     "output_type": "display_data"
    }
   ],
   "source": [
    "# This Python 3 environment comes with many helpful analytics libraries installed\n",
    "# It is defined by the kaggle/python docker image: https://github.com/kaggle/docker-python\n",
    "# For example, here's several helpful packages to load in \n",
    "\n",
    "import numpy as np # linear algebra\n",
    "import pandas as pd # data processing, CSV file I/O (e.g. pd.read_csv)\n",
    "import seaborn as sns\n",
    "import matplotlib.pyplot as plt\n",
    "from collections import Counter\n",
    "%matplotlib inline\n",
    "import chart_studio.plotly as py\n",
    "from plotly.offline import init_notebook_mode, iplot\n",
    "init_notebook_mode(connected=True)\n",
    "import plotly.graph_objs as go\n",
    "from wordcloud import WordCloud\n",
    "import matplotlib.pyplot as plt\n",
    "# Input data files are available in the \"../input/\" directory.\n",
    "# For example, running this (by clicking run or pressing Shift+Enter) will list the files in the input directory\n",
    "\n",
    "#import os\n",
    "#print(os.listdir(\"\"))\n",
    "\n",
    "# Any results you write to the current directory are saved as output."
   ]
  },
  {
   "cell_type": "markdown",
   "metadata": {},
   "source": [
    "First of all, we import the dataset and append a new column for year by \"Date\" column."
   ]
  },
  {
   "cell_type": "code",
   "execution_count": 13,
   "metadata": {
    "_cell_guid": "79c7e3d0-c299-4dcb-8224-4455121ee9b0",
    "_uuid": "d629ff2d2480ee46fbb7e2d37f6b5fab8052498a"
   },
   "outputs": [],
   "source": [
    "data=pd.read_csv(\"databasetoba.csv\")\n",
    "#data=data.drop([3378, 7512, 20650])\n",
    "data[\"Month\"]=[int(each.split(\"/\")[0]) for each in data.iloc[:,0]]"
   ]
  },
  {
   "cell_type": "code",
   "execution_count": 14,
   "metadata": {},
   "outputs": [
    {
     "name": "stdout",
     "output_type": "stream",
     "text": [
      "<class 'pandas.core.frame.DataFrame'>\n",
      "RangeIndex: 144 entries, 0 to 143\n",
      "Data columns (total 22 columns):\n",
      " #   Column                      Non-Null Count  Dtype  \n",
      "---  ------                      --------------  -----  \n",
      " 0   Date                        144 non-null    object \n",
      " 1   Time                        60 non-null     object \n",
      " 2   Latitude                    144 non-null    float64\n",
      " 3   Longitude                   144 non-null    float64\n",
      " 4   Type                        144 non-null    object \n",
      " 5   Depth                       144 non-null    int64  \n",
      " 6   Depth Error                 0 non-null      float64\n",
      " 7   Depth Seismic Stations      0 non-null      float64\n",
      " 8   Magnitude                   144 non-null    float64\n",
      " 9   Magnitude Type              144 non-null    object \n",
      " 10  Magnitude Error             0 non-null      float64\n",
      " 11  Magnitude Seismic Stations  0 non-null      float64\n",
      " 12  Azimuthal Gap               0 non-null      float64\n",
      " 13  Horizontal Distance         0 non-null      float64\n",
      " 14  Horizontal Error            0 non-null      float64\n",
      " 15  Root Mean Square            0 non-null      float64\n",
      " 16  ID                          144 non-null    object \n",
      " 17  Source                      144 non-null    object \n",
      " 18  Location Source             144 non-null    object \n",
      " 19  Magnitude Source            144 non-null    object \n",
      " 20  Status                      144 non-null    object \n",
      " 21  Month                       144 non-null    int64  \n",
      "dtypes: float64(11), int64(2), object(9)\n",
      "memory usage: 24.9+ KB\n"
     ]
    }
   ],
   "source": [
    "data.info()"
   ]
  },
  {
   "cell_type": "code",
   "execution_count": 15,
   "metadata": {
    "_kg_hide-input": false,
    "_uuid": "c05d6cda05c9017af5fb2a752ef1c6f966ee9126"
   },
   "outputs": [
    {
     "data": {
      "text/html": [
       "<div>\n",
       "<style scoped>\n",
       "    .dataframe tbody tr th:only-of-type {\n",
       "        vertical-align: middle;\n",
       "    }\n",
       "\n",
       "    .dataframe tbody tr th {\n",
       "        vertical-align: top;\n",
       "    }\n",
       "\n",
       "    .dataframe thead th {\n",
       "        text-align: right;\n",
       "    }\n",
       "</style>\n",
       "<table border=\"1\" class=\"dataframe\">\n",
       "  <thead>\n",
       "    <tr style=\"text-align: right;\">\n",
       "      <th></th>\n",
       "      <th>Date</th>\n",
       "      <th>Time</th>\n",
       "      <th>Latitude</th>\n",
       "      <th>Longitude</th>\n",
       "      <th>Type</th>\n",
       "      <th>Depth</th>\n",
       "      <th>Depth Error</th>\n",
       "      <th>Depth Seismic Stations</th>\n",
       "      <th>Magnitude</th>\n",
       "      <th>Magnitude Type</th>\n",
       "      <th>...</th>\n",
       "      <th>Azimuthal Gap</th>\n",
       "      <th>Horizontal Distance</th>\n",
       "      <th>Horizontal Error</th>\n",
       "      <th>Root Mean Square</th>\n",
       "      <th>ID</th>\n",
       "      <th>Source</th>\n",
       "      <th>Location Source</th>\n",
       "      <th>Magnitude Source</th>\n",
       "      <th>Status</th>\n",
       "      <th>Month</th>\n",
       "    </tr>\n",
       "  </thead>\n",
       "  <tbody>\n",
       "    <tr>\n",
       "      <th>0</th>\n",
       "      <td>1/23/21</td>\n",
       "      <td>22:29:38</td>\n",
       "      <td>2.50</td>\n",
       "      <td>99.25</td>\n",
       "      <td>Earthquake</td>\n",
       "      <td>5</td>\n",
       "      <td>NaN</td>\n",
       "      <td>NaN</td>\n",
       "      <td>2.7</td>\n",
       "      <td>MW</td>\n",
       "      <td>...</td>\n",
       "      <td>NaN</td>\n",
       "      <td>NaN</td>\n",
       "      <td>NaN</td>\n",
       "      <td>NaN</td>\n",
       "      <td>BMKG</td>\n",
       "      <td>BMKG</td>\n",
       "      <td>IA</td>\n",
       "      <td>IA</td>\n",
       "      <td>Automatic</td>\n",
       "      <td>1</td>\n",
       "    </tr>\n",
       "    <tr>\n",
       "      <th>1</th>\n",
       "      <td>2/17/21</td>\n",
       "      <td>19:01:17</td>\n",
       "      <td>2.73</td>\n",
       "      <td>98.82</td>\n",
       "      <td>Earthquake</td>\n",
       "      <td>3</td>\n",
       "      <td>NaN</td>\n",
       "      <td>NaN</td>\n",
       "      <td>2.8</td>\n",
       "      <td>MW</td>\n",
       "      <td>...</td>\n",
       "      <td>NaN</td>\n",
       "      <td>NaN</td>\n",
       "      <td>NaN</td>\n",
       "      <td>NaN</td>\n",
       "      <td>BMKG</td>\n",
       "      <td>BMKG</td>\n",
       "      <td>IA</td>\n",
       "      <td>IA</td>\n",
       "      <td>Automatic</td>\n",
       "      <td>2</td>\n",
       "    </tr>\n",
       "    <tr>\n",
       "      <th>2</th>\n",
       "      <td>2/17/21</td>\n",
       "      <td>19:02:35</td>\n",
       "      <td>2.71</td>\n",
       "      <td>98.83</td>\n",
       "      <td>Earthquake</td>\n",
       "      <td>2</td>\n",
       "      <td>NaN</td>\n",
       "      <td>NaN</td>\n",
       "      <td>3.3</td>\n",
       "      <td>MW</td>\n",
       "      <td>...</td>\n",
       "      <td>NaN</td>\n",
       "      <td>NaN</td>\n",
       "      <td>NaN</td>\n",
       "      <td>NaN</td>\n",
       "      <td>BMKG</td>\n",
       "      <td>BMKG</td>\n",
       "      <td>IA</td>\n",
       "      <td>IA</td>\n",
       "      <td>Automatic</td>\n",
       "      <td>2</td>\n",
       "    </tr>\n",
       "    <tr>\n",
       "      <th>3</th>\n",
       "      <td>2/18/21</td>\n",
       "      <td>13:26:10</td>\n",
       "      <td>2.37</td>\n",
       "      <td>98.88</td>\n",
       "      <td>Earthquake</td>\n",
       "      <td>3</td>\n",
       "      <td>NaN</td>\n",
       "      <td>NaN</td>\n",
       "      <td>2.0</td>\n",
       "      <td>MW</td>\n",
       "      <td>...</td>\n",
       "      <td>NaN</td>\n",
       "      <td>NaN</td>\n",
       "      <td>NaN</td>\n",
       "      <td>NaN</td>\n",
       "      <td>BMKG</td>\n",
       "      <td>BMKG</td>\n",
       "      <td>IA</td>\n",
       "      <td>IA</td>\n",
       "      <td>Automatic</td>\n",
       "      <td>2</td>\n",
       "    </tr>\n",
       "    <tr>\n",
       "      <th>4</th>\n",
       "      <td>2/19/21</td>\n",
       "      <td>13:51:04</td>\n",
       "      <td>2.62</td>\n",
       "      <td>98.85</td>\n",
       "      <td>Earthquake</td>\n",
       "      <td>15</td>\n",
       "      <td>NaN</td>\n",
       "      <td>NaN</td>\n",
       "      <td>2.0</td>\n",
       "      <td>MW</td>\n",
       "      <td>...</td>\n",
       "      <td>NaN</td>\n",
       "      <td>NaN</td>\n",
       "      <td>NaN</td>\n",
       "      <td>NaN</td>\n",
       "      <td>BMKG</td>\n",
       "      <td>BMKG</td>\n",
       "      <td>IA</td>\n",
       "      <td>IA</td>\n",
       "      <td>Automatic</td>\n",
       "      <td>2</td>\n",
       "    </tr>\n",
       "  </tbody>\n",
       "</table>\n",
       "<p>5 rows × 22 columns</p>\n",
       "</div>"
      ],
      "text/plain": [
       "      Date      Time  Latitude  Longitude        Type  Depth  Depth Error  \\\n",
       "0  1/23/21  22:29:38      2.50      99.25  Earthquake      5          NaN   \n",
       "1  2/17/21  19:01:17      2.73      98.82  Earthquake      3          NaN   \n",
       "2  2/17/21  19:02:35      2.71      98.83  Earthquake      2          NaN   \n",
       "3  2/18/21  13:26:10      2.37      98.88  Earthquake      3          NaN   \n",
       "4  2/19/21  13:51:04      2.62      98.85  Earthquake     15          NaN   \n",
       "\n",
       "   Depth Seismic Stations  Magnitude Magnitude Type  ...  Azimuthal Gap  \\\n",
       "0                     NaN        2.7             MW  ...            NaN   \n",
       "1                     NaN        2.8             MW  ...            NaN   \n",
       "2                     NaN        3.3             MW  ...            NaN   \n",
       "3                     NaN        2.0             MW  ...            NaN   \n",
       "4                     NaN        2.0             MW  ...            NaN   \n",
       "\n",
       "   Horizontal Distance  Horizontal Error  Root Mean Square    ID  Source  \\\n",
       "0                  NaN               NaN               NaN  BMKG    BMKG   \n",
       "1                  NaN               NaN               NaN  BMKG    BMKG   \n",
       "2                  NaN               NaN               NaN  BMKG    BMKG   \n",
       "3                  NaN               NaN               NaN  BMKG    BMKG   \n",
       "4                  NaN               NaN               NaN  BMKG    BMKG   \n",
       "\n",
       "  Location Source Magnitude Source     Status Month  \n",
       "0              IA               IA  Automatic     1  \n",
       "1              IA               IA  Automatic     2  \n",
       "2              IA               IA  Automatic     2  \n",
       "3              IA               IA  Automatic     2  \n",
       "4              IA               IA  Automatic     2  \n",
       "\n",
       "[5 rows x 22 columns]"
      ]
     },
     "execution_count": 15,
     "metadata": {},
     "output_type": "execute_result"
    }
   ],
   "source": [
    "data.head()"
   ]
  },
  {
   "cell_type": "markdown",
   "metadata": {},
   "source": [
    "**- BAR PLOT:**"
   ]
  },
  {
   "cell_type": "code",
   "execution_count": 16,
   "metadata": {
    "_kg_hide-input": false
   },
   "outputs": [
    {
     "data": {
      "image/png": "[encoded data removed]",
      "text/plain": [
       "<Figure size 1080x720 with 1 Axes>"
      ]
     },
     "metadata": {
      "needs_background": "light"
     },
     "output_type": "display_data"
    }
   ],
   "source": [
    "# prepare data frame\n",
    "month_list=list(data['Month'].unique())\n",
    "MonthType=[]\n",
    "    \n",
    "for i in month_list:\n",
    "    val=data[data['Month']==i]\n",
    "    MonthType.append(len(val))\n",
    "            \n",
    "dfType=pd.DataFrame({'month_list':month_list, 'Count_Type':MonthType})\n",
    "new_index=(dfType['month_list'].sort_values(ascending=True)).index.values\n",
    "sorted_data=dfType.reindex(new_index)\n",
    "\n",
    "# bar plot visualization\n",
    "plt.figure(figsize=(15,10))\n",
    "sns.barplot(x=sorted_data['month_list'], y=sorted_data['Count_Type'], palette=\"deep\")\n",
    "plt.xticks(rotation=90)\n",
    "plt.xlabel(\"Months\")\n",
    "plt.ylabel(\"Number of Occurence\")\n",
    "plt.title(\"Frequency of Earthquakes by Month\")\n",
    "plt.show()"
   ]
  },
  {
   "cell_type": "markdown",
   "metadata": {},
   "source": [
    "In this plot, we can see the count of earthquakes for each year. Between 1965-2016, ***1965*** was the most calm year about earthquakes. ***2011*** is the year that has the highest number of earthquakes."
   ]
  },
  {
   "cell_type": "markdown",
   "metadata": {},
   "source": [
    "****- BUBBLE CHART:****"
   ]
  },
  {
   "cell_type": "code",
   "execution_count": 17,
   "metadata": {},
   "outputs": [],
   "source": [
    "# prepare data frame\n",
    "magnitude=[]\n",
    "for i in sorted_data.month_list:\n",
    "    x=data[data['Month']==i]\n",
    "    data_magnitude=sum(x.Magnitude)/len(x.Magnitude)\n",
    "    magnitude.append(data_magnitude)\n",
    "sorted_data[\"Magnitude\"]=magnitude\n",
    "\n",
    "depth=[]\n",
    "for i in sorted_data.month_list:\n",
    "    x=data[data['Month']==i]\n",
    "    data_depth=sum(x.Depth)/len(x.Depth)\n",
    "    depth.append(data_depth)\n",
    "sorted_data[\"Depth\"]=depth\n"
   ]
  },
  {
   "cell_type": "code",
   "execution_count": 18,
   "metadata": {},
   "outputs": [
    {
     "data": {
      "application/vnd.plotly.v1+json": {
       "config": {
        "linkText": "Export to plot.ly",
        "plotlyServerURL": "https://plot.ly",
        "showLink": false
       },
       "data": [
        {
         "marker": {
          "color": [
           1,
           8,
           21,
           55,
           59
          ],
          "showscale": true,
          "size": [
           1,
           8,
           21,
           55,
           59
          ],
          "sizemode": "area",
          "sizeref": 0.07375
         },
         "mode": "markers",
         "text": [
          1,
          2,
          3,
          4,
          5
         ],
         "type": "scatter",
         "x": [
          5,
          4.625,
          22.761904761904763,
          4.1454545454545455,
          4.711864406779661
         ],
         "y": [
          2.7,
          2.5124999999999997,
          2.2904761904761903,
          2.2818181818181817,
          2.0355932203389826
         ]
        }
       ],
       "layout": {
        "template": {
         "data": {
          "bar": [
           {
            "error_x": {
             "color": "#2a3f5f"
            },
            "error_y": {
             "color": "#2a3f5f"
            },
            "marker": {
             "line": {
              "color": "#E5ECF6",
              "width": 0.5
             },
             "pattern": {
              "fillmode": "overlay",
              "size": 10,
              "solidity": 0.2
             }
            },
            "type": "bar"
           }
          ],
          "barpolar": [
           {
            "marker": {
             "line": {
              "color": "#E5ECF6",
              "width": 0.5
             },
             "pattern": {
              "fillmode": "overlay",
              "size": 10,
              "solidity": 0.2
             }
            },
            "type": "barpolar"
           }
          ],
          "carpet": [
           {
            "aaxis": {
             "endlinecolor": "#2a3f5f",
             "gridcolor": "white",
             "linecolor": "white",
             "minorgridcolor": "white",
             "startlinecolor": "#2a3f5f"
            },
            "baxis": {
             "endlinecolor": "#2a3f5f",
             "gridcolor": "white",
             "linecolor": "white",
             "minorgridcolor": "white",
             "startlinecolor": "#2a3f5f"
            },
            "type": "carpet"
           }
          ],
          "choropleth": [
           {
            "colorbar": {
             "outlinewidth": 0,
             "ticks": ""
            },
            "type": "choropleth"
           }
          ],
          "contour": [
           {
            "colorbar": {
             "outlinewidth": 0,
             "ticks": ""
            },
            "colorscale": [
             [
              0,
              "#0d0887"
             ],
             [
              0.1111111111111111,
              "#46039f"
             ],
             [
              0.2222222222222222,
              "#7201a8"
             ],
             [
              0.3333333333333333,
              "#9c179e"
             ],
             [
              0.4444444444444444,
              "#bd3786"
             ],
             [
              0.5555555555555556,
              "#d8576b"
             ],
             [
              0.6666666666666666,
              "#ed7953"
             ],
             [
              0.7777777777777778,
              "#fb9f3a"
             ],
             [
              0.8888888888888888,
              "#fdca26"
             ],
             [
              1,
              "#f0f921"
             ]
            ],
            "type": "contour"
           }
          ],
          "contourcarpet": [
           {
            "colorbar": {
             "outlinewidth": 0,
             "ticks": ""
            },
            "type": "contourcarpet"
           }
          ],
          "heatmap": [
           {
            "colorbar": {
             "outlinewidth": 0,
             "ticks": ""
            },
            "colorscale": [
             [
              0,
              "#0d0887"
             ],
             [
              0.1111111111111111,
              "#46039f"
             ],
             [
              0.2222222222222222,
              "#7201a8"
             ],
             [
              0.3333333333333333,
              "#9c179e"
             ],
             [
              0.4444444444444444,
              "#bd3786"
             ],
             [
              0.5555555555555556,
              "#d8576b"
             ],
             [
              0.6666666666666666,
              "#ed7953"
             ],
             [
              0.7777777777777778,
              "#fb9f3a"
             ],
             [
              0.8888888888888888,
              "#fdca26"
             ],
             [
              1,
              "#f0f921"
             ]
            ],
            "type": "heatmap"
           }
          ],
          "heatmapgl": [
           {
            "colorbar": {
             "outlinewidth": 0,
             "ticks": ""
            },
            "colorscale": [
             [
              0,
              "#0d0887"
             ],
             [
              0.1111111111111111,
              "#46039f"
             ],
             [
              0.2222222222222222,
              "#7201a8"
             ],
             [
              0.3333333333333333,
              "#9c179e"
             ],
             [
              0.4444444444444444,
              "#bd3786"
             ],
             [
              0.5555555555555556,
              "#d8576b"
             ],
             [
              0.6666666666666666,
              "#ed7953"
             ],
             [
              0.7777777777777778,
              "#fb9f3a"
             ],
             [
              0.8888888888888888,
              "#fdca26"
             ],
             [
              1,
              "#f0f921"
             ]
            ],
            "type": "heatmapgl"
           }
          ],
          "histogram": [
           {
            "marker": {
             "pattern": {
              "fillmode": "overlay",
              "size": 10,
              "solidity": 0.2
             }
            },
            "type": "histogram"
           }
          ],
          "histogram2d": [
           {
            "colorbar": {
             "outlinewidth": 0,
             "ticks": ""
            },
            "colorscale": [
             [
              0,
              "#0d0887"
             ],
             [
              0.1111111111111111,
              "#46039f"
             ],
             [
              0.2222222222222222,
              "#7201a8"
             ],
             [
              0.3333333333333333,
              "#9c179e"
             ],
             [
              0.4444444444444444,
              "#bd3786"
             ],
             [
              0.5555555555555556,
              "#d8576b"
             ],
             [
              0.6666666666666666,
              "#ed7953"
             ],
             [
              0.7777777777777778,
              "#fb9f3a"
             ],
             [
              0.8888888888888888,
              "#fdca26"
             ],
             [
              1,
              "#f0f921"
             ]
            ],
            "type": "histogram2d"
           }
          ],
          "histogram2dcontour": [
           {
            "colorbar": {
             "outlinewidth": 0,
             "ticks": ""
            },
            "colorscale": [
             [
              0,
              "#0d0887"
             ],
             [
              0.1111111111111111,
              "#46039f"
             ],
             [
              0.2222222222222222,
              "#7201a8"
             ],
             [
              0.3333333333333333,
              "#9c179e"
             ],
             [
              0.4444444444444444,
              "#bd3786"
             ],
             [
              0.5555555555555556,
              "#d8576b"
             ],
             [
              0.6666666666666666,
              "#ed7953"
             ],
             [
              0.7777777777777778,
              "#fb9f3a"
             ],
             [
              0.8888888888888888,
              "#fdca26"
             ],
             [
              1,
              "#f0f921"
             ]
            ],
            "type": "histogram2dcontour"
           }
          ],
          "mesh3d": [
           {
            "colorbar": {
             "outlinewidth": 0,
             "ticks": ""
            },
            "type": "mesh3d"
           }
          ],
          "parcoords": [
           {
            "line": {
             "colorbar": {
              "outlinewidth": 0,
              "ticks": ""
             }
            },
            "type": "parcoords"
           }
          ],
          "pie": [
           {
            "automargin": true,
            "type": "pie"
           }
          ],
          "scatter": [
           {
            "marker": {
             "colorbar": {
              "outlinewidth": 0,
              "ticks": ""
             }
            },
            "type": "scatter"
           }
          ],
          "scatter3d": [
           {
            "line": {
             "colorbar": {
              "outlinewidth": 0,
              "ticks": ""
             }
            },
            "marker": {
             "colorbar": {
              "outlinewidth": 0,
              "ticks": ""
             }
            },
            "type": "scatter3d"
           }
          ],
          "scattercarpet": [
           {
            "marker": {
             "colorbar": {
              "outlinewidth": 0,
              "ticks": ""
             }
            },
            "type": "scattercarpet"
           }
          ],
          "scattergeo": [
           {
            "marker": {
             "colorbar": {
              "outlinewidth": 0,
              "ticks": ""
             }
            },
            "type": "scattergeo"
           }
          ],
          "scattergl": [
           {
            "marker": {
             "colorbar": {
              "outlinewidth": 0,
              "ticks": ""
             }
            },
            "type": "scattergl"
           }
          ],
          "scattermapbox": [
           {
            "marker": {
             "colorbar": {
              "outlinewidth": 0,
              "ticks": ""
             }
            },
            "type": "scattermapbox"
           }
          ],
          "scatterpolar": [
           {
            "marker": {
             "colorbar": {
              "outlinewidth": 0,
              "ticks": ""
             }
            },
            "type": "scatterpolar"
           }
          ],
          "scatterpolargl": [
           {
            "marker": {
             "colorbar": {
              "outlinewidth": 0,
              "ticks": ""
             }
            },
            "type": "scatterpolargl"
           }
          ],
          "scatterternary": [
           {
            "marker": {
             "colorbar": {
              "outlinewidth": 0,
              "ticks": ""
             }
            },
            "type": "scatterternary"
           }
          ],
          "surface": [
           {
            "colorbar": {
             "outlinewidth": 0,
             "ticks": ""
            },
            "colorscale": [
             [
              0,
              "#0d0887"
             ],
             [
              0.1111111111111111,
              "#46039f"
             ],
             [
              0.2222222222222222,
              "#7201a8"
             ],
             [
              0.3333333333333333,
              "#9c179e"
             ],
             [
              0.4444444444444444,
              "#bd3786"
             ],
             [
              0.5555555555555556,
              "#d8576b"
             ],
             [
              0.6666666666666666,
              "#ed7953"
             ],
             [
              0.7777777777777778,
              "#fb9f3a"
             ],
             [
              0.8888888888888888,
              "#fdca26"
             ],
             [
              1,
              "#f0f921"
             ]
            ],
            "type": "surface"
           }
          ],
          "table": [
           {
            "cells": {
             "fill": {
              "color": "#EBF0F8"
             },
             "line": {
              "color": "white"
             }
            },
            "header": {
             "fill": {
              "color": "#C8D4E3"
             },
             "line": {
              "color": "white"
             }
            },
            "type": "table"
           }
          ]
         },
         "layout": {
          "annotationdefaults": {
           "arrowcolor": "#2a3f5f",
           "arrowhead": 0,
           "arrowwidth": 1
          },
          "autotypenumbers": "strict",
          "coloraxis": {
           "colorbar": {
            "outlinewidth": 0,
            "ticks": ""
           }
          },
          "colorscale": {
           "diverging": [
            [
             0,
             "#8e0152"
            ],
            [
             0.1,
             "#c51b7d"
            ],
            [
             0.2,
             "#de77ae"
            ],
            [
             0.3,
             "#f1b6da"
            ],
            [
             0.4,
             "#fde0ef"
            ],
            [
             0.5,
             "#f7f7f7"
            ],
            [
             0.6,
             "#e6f5d0"
            ],
            [
             0.7,
             "#b8e186"
            ],
            [
             0.8,
             "#7fbc41"
            ],
            [
             0.9,
             "#4d9221"
            ],
            [
             1,
             "#276419"
            ]
           ],
           "sequential": [
            [
             0,
             "#0d0887"
            ],
            [
             0.1111111111111111,
             "#46039f"
            ],
            [
             0.2222222222222222,
             "#7201a8"
            ],
            [
             0.3333333333333333,
             "#9c179e"
            ],
            [
             0.4444444444444444,
             "#bd3786"
            ],
            [
             0.5555555555555556,
             "#d8576b"
            ],
            [
             0.6666666666666666,
             "#ed7953"
            ],
            [
             0.7777777777777778,
             "#fb9f3a"
            ],
            [
             0.8888888888888888,
             "#fdca26"
            ],
            [
             1,
             "#f0f921"
            ]
           ],
           "sequentialminus": [
            [
             0,
             "#0d0887"
            ],
            [
             0.1111111111111111,
             "#46039f"
            ],
            [
             0.2222222222222222,
             "#7201a8"
            ],
            [
             0.3333333333333333,
             "#9c179e"
            ],
            [
             0.4444444444444444,
             "#bd3786"
            ],
            [
             0.5555555555555556,
             "#d8576b"
            ],
            [
             0.6666666666666666,
             "#ed7953"
            ],
            [
             0.7777777777777778,
             "#fb9f3a"
            ],
            [
             0.8888888888888888,
             "#fdca26"
            ],
            [
             1,
             "#f0f921"
            ]
           ]
          },
          "colorway": [
           "#636efa",
           "#EF553B",
           "#00cc96",
           "#ab63fa",
           "#FFA15A",
           "#19d3f3",
           "#FF6692",
           "#B6E880",
           "#FF97FF",
           "#FECB52"
          ],
          "font": {
           "color": "#2a3f5f"
          },
          "geo": {
           "bgcolor": "white",
           "lakecolor": "white",
           "landcolor": "#E5ECF6",
           "showlakes": true,
           "showland": true,
           "subunitcolor": "white"
          },
          "hoverlabel": {
           "align": "left"
          },
          "hovermode": "closest",
          "mapbox": {
           "style": "light"
          },
          "paper_bgcolor": "white",
          "plot_bgcolor": "#E5ECF6",
          "polar": {
           "angularaxis": {
            "gridcolor": "white",
            "linecolor": "white",
            "ticks": ""
           },
           "bgcolor": "#E5ECF6",
           "radialaxis": {
            "gridcolor": "white",
            "linecolor": "white",
            "ticks": ""
           }
          },
          "scene": {
           "xaxis": {
            "backgroundcolor": "#E5ECF6",
            "gridcolor": "white",
            "gridwidth": 2,
            "linecolor": "white",
            "showbackground": true,
            "ticks": "",
            "zerolinecolor": "white"
           },
           "yaxis": {
            "backgroundcolor": "#E5ECF6",
            "gridcolor": "white",
            "gridwidth": 2,
            "linecolor": "white",
            "showbackground": true,
            "ticks": "",
            "zerolinecolor": "white"
           },
           "zaxis": {
            "backgroundcolor": "#E5ECF6",
            "gridcolor": "white",
            "gridwidth": 2,
            "linecolor": "white",
            "showbackground": true,
            "ticks": "",
            "zerolinecolor": "white"
           }
          },
          "shapedefaults": {
           "line": {
            "color": "#2a3f5f"
           }
          },
          "ternary": {
           "aaxis": {
            "gridcolor": "white",
            "linecolor": "white",
            "ticks": ""
           },
           "baxis": {
            "gridcolor": "white",
            "linecolor": "white",
            "ticks": ""
           },
           "bgcolor": "#E5ECF6",
           "caxis": {
            "gridcolor": "white",
            "linecolor": "white",
            "ticks": ""
           }
          },
          "title": {
           "x": 0.05
          },
          "xaxis": {
           "automargin": true,
           "gridcolor": "white",
           "linecolor": "white",
           "ticks": "",
           "title": {
            "standoff": 15
           },
           "zerolinecolor": "white",
           "zerolinewidth": 2
          },
          "yaxis": {
           "automargin": true,
           "gridcolor": "white",
           "linecolor": "white",
           "ticks": "",
           "title": {
            "standoff": 15
           },
           "zerolinecolor": "white",
           "zerolinewidth": 2
          }
         }
        },
        "xaxis": {
         "title": {
          "text": "Average Depth of Each Month"
         }
        },
        "yaxis": {
         "title": {
          "text": "Average Magnitude of Each Month"
         }
        }
       }
      },
      "text/html": [
       "<div>                            <div id=\"24f65d64-2dc0-41f5-bc57-2a0e09eb8670\" class=\"plotly-graph-div\" style=\"height:525px; width:100%;\"></div>            <script type=\"text/javascript\">                require([\"plotly\"], function(Plotly) {                    window.PLOTLYENV=window.PLOTLYENV || {};                                    if (document.getElementById(\"24f65d64-2dc0-41f5-bc57-2a0e09eb8670\")) {                    Plotly.newPlot(                        \"24f65d64-2dc0-41f5-bc57-2a0e09eb8670\",                        [{\"marker\":{\"color\":[1,8,21,55,59],\"showscale\":true,\"size\":[1,8,21,55,59],\"sizemode\":\"area\",\"sizeref\":0.07375},\"mode\":\"markers\",\"text\":[1.0,2.0,3.0,4.0,5.0],\"x\":[5.0,4.625,22.761904761904763,4.1454545454545455,4.711864406779661],\"y\":[2.7,2.5124999999999997,2.2904761904761903,2.2818181818181817,2.0355932203389826],\"type\":\"scatter\"}],                        {\"template\":{\"data\":{\"barpolar\":[{\"marker\":{\"line\":{\"color\":\"#E5ECF6\",\"width\":0.5},\"pattern\":{\"fillmode\":\"overlay\",\"size\":10,\"solidity\":0.2}},\"type\":\"barpolar\"}],\"bar\":[{\"error_x\":{\"color\":\"#2a3f5f\"},\"error_y\":{\"color\":\"#2a3f5f\"},\"marker\":{\"line\":{\"color\":\"#E5ECF6\",\"width\":0.5},\"pattern\":{\"fillmode\":\"overlay\",\"size\":10,\"solidity\":0.2}},\"type\":\"bar\"}],\"carpet\":[{\"aaxis\":{\"endlinecolor\":\"#2a3f5f\",\"gridcolor\":\"white\",\"linecolor\":\"white\",\"minorgridcolor\":\"white\",\"startlinecolor\":\"#2a3f5f\"},\"baxis\":{\"endlinecolor\":\"#2a3f5f\",\"gridcolor\":\"white\",\"linecolor\":\"white\",\"minorgridcolor\":\"white\",\"startlinecolor\":\"#2a3f5f\"},\"type\":\"carpet\"}],\"choropleth\":[{\"colorbar\":{\"outlinewidth\":0,\"ticks\":\"\"},\"type\":\"choropleth\"}],\"contourcarpet\":[{\"colorbar\":{\"outlinewidth\":0,\"ticks\":\"\"},\"type\":\"contourcarpet\"}],\"contour\":[{\"colorbar\":{\"outlinewidth\":0,\"ticks\":\"\"},\"colorscale\":[[0.0,\"#0d0887\"],[0.1111111111111111,\"#46039f\"],[0.2222222222222222,\"#7201a8\"],[0.3333333333333333,\"#9c179e\"],[0.4444444444444444,\"#bd3786\"],[0.5555555555555556,\"#d8576b\"],[0.6666666666666666,\"#ed7953\"],[0.7777777777777778,\"#fb9f3a\"],[0.8888888888888888,\"#fdca26\"],[1.0,\"#f0f921\"]],\"type\":\"contour\"}],\"heatmapgl\":[{\"colorbar\":{\"outlinewidth\":0,\"ticks\":\"\"},\"colorscale\":[[0.0,\"#0d0887\"],[0.1111111111111111,\"#46039f\"],[0.2222222222222222,\"#7201a8\"],[0.3333333333333333,\"#9c179e\"],[0.4444444444444444,\"#bd3786\"],[0.5555555555555556,\"#d8576b\"],[0.6666666666666666,\"#ed7953\"],[0.7777777777777778,\"#fb9f3a\"],[0.8888888888888888,\"#fdca26\"],[1.0,\"#f0f921\"]],\"type\":\"heatmapgl\"}],\"heatmap\":[{\"colorbar\":{\"outlinewidth\":0,\"ticks\":\"\"},\"colorscale\":[[0.0,\"#0d0887\"],[0.1111111111111111,\"#46039f\"],[0.2222222222222222,\"#7201a8\"],[0.3333333333333333,\"#9c179e\"],[0.4444444444444444,\"#bd3786\"],[0.5555555555555556,\"#d8576b\"],[0.6666666666666666,\"#ed7953\"],[0.7777777777777778,\"#fb9f3a\"],[0.8888888888888888,\"#fdca26\"],[1.0,\"#f0f921\"]],\"type\":\"heatmap\"}],\"histogram2dcontour\":[{\"colorbar\":{\"outlinewidth\":0,\"ticks\":\"\"},\"colorscale\":[[0.0,\"#0d0887\"],[0.1111111111111111,\"#46039f\"],[0.2222222222222222,\"#7201a8\"],[0.3333333333333333,\"#9c179e\"],[0.4444444444444444,\"#bd3786\"],[0.5555555555555556,\"#d8576b\"],[0.6666666666666666,\"#ed7953\"],[0.7777777777777778,\"#fb9f3a\"],[0.8888888888888888,\"#fdca26\"],[1.0,\"#f0f921\"]],\"type\":\"histogram2dcontour\"}],\"histogram2d\":[{\"colorbar\":{\"outlinewidth\":0,\"ticks\":\"\"},\"colorscale\":[[0.0,\"#0d0887\"],[0.1111111111111111,\"#46039f\"],[0.2222222222222222,\"#7201a8\"],[0.3333333333333333,\"#9c179e\"],[0.4444444444444444,\"#bd3786\"],[0.5555555555555556,\"#d8576b\"],[0.6666666666666666,\"#ed7953\"],[0.7777777777777778,\"#fb9f3a\"],[0.8888888888888888,\"#fdca26\"],[1.0,\"#f0f921\"]],\"type\":\"histogram2d\"}],\"histogram\":[{\"marker\":{\"pattern\":{\"fillmode\":\"overlay\",\"size\":10,\"solidity\":0.2}},\"type\":\"histogram\"}],\"mesh3d\":[{\"colorbar\":{\"outlinewidth\":0,\"ticks\":\"\"},\"type\":\"mesh3d\"}],\"parcoords\":[{\"line\":{\"colorbar\":{\"outlinewidth\":0,\"ticks\":\"\"}},\"type\":\"parcoords\"}],\"pie\":[{\"automargin\":true,\"type\":\"pie\"}],\"scatter3d\":[{\"line\":{\"colorbar\":{\"outlinewidth\":0,\"ticks\":\"\"}},\"marker\":{\"colorbar\":{\"outlinewidth\":0,\"ticks\":\"\"}},\"type\":\"scatter3d\"}],\"scattercarpet\":[{\"marker\":{\"colorbar\":{\"outlinewidth\":0,\"ticks\":\"\"}},\"type\":\"scattercarpet\"}],\"scattergeo\":[{\"marker\":{\"colorbar\":{\"outlinewidth\":0,\"ticks\":\"\"}},\"type\":\"scattergeo\"}],\"scattergl\":[{\"marker\":{\"colorbar\":{\"outlinewidth\":0,\"ticks\":\"\"}},\"type\":\"scattergl\"}],\"scattermapbox\":[{\"marker\":{\"colorbar\":{\"outlinewidth\":0,\"ticks\":\"\"}},\"type\":\"scattermapbox\"}],\"scatterpolargl\":[{\"marker\":{\"colorbar\":{\"outlinewidth\":0,\"ticks\":\"\"}},\"type\":\"scatterpolargl\"}],\"scatterpolar\":[{\"marker\":{\"colorbar\":{\"outlinewidth\":0,\"ticks\":\"\"}},\"type\":\"scatterpolar\"}],\"scatter\":[{\"marker\":{\"colorbar\":{\"outlinewidth\":0,\"ticks\":\"\"}},\"type\":\"scatter\"}],\"scatterternary\":[{\"marker\":{\"colorbar\":{\"outlinewidth\":0,\"ticks\":\"\"}},\"type\":\"scatterternary\"}],\"surface\":[{\"colorbar\":{\"outlinewidth\":0,\"ticks\":\"\"},\"colorscale\":[[0.0,\"#0d0887\"],[0.1111111111111111,\"#46039f\"],[0.2222222222222222,\"#7201a8\"],[0.3333333333333333,\"#9c179e\"],[0.4444444444444444,\"#bd3786\"],[0.5555555555555556,\"#d8576b\"],[0.6666666666666666,\"#ed7953\"],[0.7777777777777778,\"#fb9f3a\"],[0.8888888888888888,\"#fdca26\"],[1.0,\"#f0f921\"]],\"type\":\"surface\"}],\"table\":[{\"cells\":{\"fill\":{\"color\":\"#EBF0F8\"},\"line\":{\"color\":\"white\"}},\"header\":{\"fill\":{\"color\":\"#C8D4E3\"},\"line\":{\"color\":\"white\"}},\"type\":\"table\"}]},\"layout\":{\"annotationdefaults\":{\"arrowcolor\":\"#2a3f5f\",\"arrowhead\":0,\"arrowwidth\":1},\"autotypenumbers\":\"strict\",\"coloraxis\":{\"colorbar\":{\"outlinewidth\":0,\"ticks\":\"\"}},\"colorscale\":{\"diverging\":[[0,\"#8e0152\"],[0.1,\"#c51b7d\"],[0.2,\"#de77ae\"],[0.3,\"#f1b6da\"],[0.4,\"#fde0ef\"],[0.5,\"#f7f7f7\"],[0.6,\"#e6f5d0\"],[0.7,\"#b8e186\"],[0.8,\"#7fbc41\"],[0.9,\"#4d9221\"],[1,\"#276419\"]],\"sequential\":[[0.0,\"#0d0887\"],[0.1111111111111111,\"#46039f\"],[0.2222222222222222,\"#7201a8\"],[0.3333333333333333,\"#9c179e\"],[0.4444444444444444,\"#bd3786\"],[0.5555555555555556,\"#d8576b\"],[0.6666666666666666,\"#ed7953\"],[0.7777777777777778,\"#fb9f3a\"],[0.8888888888888888,\"#fdca26\"],[1.0,\"#f0f921\"]],\"sequentialminus\":[[0.0,\"#0d0887\"],[0.1111111111111111,\"#46039f\"],[0.2222222222222222,\"#7201a8\"],[0.3333333333333333,\"#9c179e\"],[0.4444444444444444,\"#bd3786\"],[0.5555555555555556,\"#d8576b\"],[0.6666666666666666,\"#ed7953\"],[0.7777777777777778,\"#fb9f3a\"],[0.8888888888888888,\"#fdca26\"],[1.0,\"#f0f921\"]]},\"colorway\":[\"#636efa\",\"#EF553B\",\"#00cc96\",\"#ab63fa\",\"#FFA15A\",\"#19d3f3\",\"#FF6692\",\"#B6E880\",\"#FF97FF\",\"#FECB52\"],\"font\":{\"color\":\"#2a3f5f\"},\"geo\":{\"bgcolor\":\"white\",\"lakecolor\":\"white\",\"landcolor\":\"#E5ECF6\",\"showlakes\":true,\"showland\":true,\"subunitcolor\":\"white\"},\"hoverlabel\":{\"align\":\"left\"},\"hovermode\":\"closest\",\"mapbox\":{\"style\":\"light\"},\"paper_bgcolor\":\"white\",\"plot_bgcolor\":\"#E5ECF6\",\"polar\":{\"angularaxis\":{\"gridcolor\":\"white\",\"linecolor\":\"white\",\"ticks\":\"\"},\"bgcolor\":\"#E5ECF6\",\"radialaxis\":{\"gridcolor\":\"white\",\"linecolor\":\"white\",\"ticks\":\"\"}},\"scene\":{\"xaxis\":{\"backgroundcolor\":\"#E5ECF6\",\"gridcolor\":\"white\",\"gridwidth\":2,\"linecolor\":\"white\",\"showbackground\":true,\"ticks\":\"\",\"zerolinecolor\":\"white\"},\"yaxis\":{\"backgroundcolor\":\"#E5ECF6\",\"gridcolor\":\"white\",\"gridwidth\":2,\"linecolor\":\"white\",\"showbackground\":true,\"ticks\":\"\",\"zerolinecolor\":\"white\"},\"zaxis\":{\"backgroundcolor\":\"#E5ECF6\",\"gridcolor\":\"white\",\"gridwidth\":2,\"linecolor\":\"white\",\"showbackground\":true,\"ticks\":\"\",\"zerolinecolor\":\"white\"}},\"shapedefaults\":{\"line\":{\"color\":\"#2a3f5f\"}},\"ternary\":{\"aaxis\":{\"gridcolor\":\"white\",\"linecolor\":\"white\",\"ticks\":\"\"},\"baxis\":{\"gridcolor\":\"white\",\"linecolor\":\"white\",\"ticks\":\"\"},\"bgcolor\":\"#E5ECF6\",\"caxis\":{\"gridcolor\":\"white\",\"linecolor\":\"white\",\"ticks\":\"\"}},\"title\":{\"x\":0.05},\"xaxis\":{\"automargin\":true,\"gridcolor\":\"white\",\"linecolor\":\"white\",\"ticks\":\"\",\"title\":{\"standoff\":15},\"zerolinecolor\":\"white\",\"zerolinewidth\":2},\"yaxis\":{\"automargin\":true,\"gridcolor\":\"white\",\"linecolor\":\"white\",\"ticks\":\"\",\"title\":{\"standoff\":15},\"zerolinecolor\":\"white\",\"zerolinewidth\":2}}},\"xaxis\":{\"title\":{\"text\":\"Average Depth of Each Month\"}},\"yaxis\":{\"title\":{\"text\":\"Average Magnitude of Each Month\"}}},                        {\"responsive\": true}                    ).then(function(){\n",
       "                            \n",
       "var gd = document.getElementById('24f65d64-2dc0-41f5-bc57-2a0e09eb8670');\n",
       "var x = new MutationObserver(function (mutations, observer) {{\n",
       "        var display = window.getComputedStyle(gd).display;\n",
       "        if (!display || display === 'none') {{\n",
       "            console.log([gd, 'removed!']);\n",
       "            Plotly.purge(gd);\n",
       "            observer.disconnect();\n",
       "        }}\n",
       "}});\n",
       "\n",
       "// Listen for the removal of the full notebook cells\n",
       "var notebookContainer = gd.closest('#notebook-container');\n",
       "if (notebookContainer) {{\n",
       "    x.observe(notebookContainer, {childList: true});\n",
       "}}\n",
       "\n",
       "// Listen for the clearing of the current output cell\n",
       "var outputEl = gd.closest('.output');\n",
       "if (outputEl) {{\n",
       "    x.observe(outputEl, {childList: true});\n",
       "}}\n",
       "\n",
       "                        })                };                });            </script>        </div>"
      ]
     },
     "metadata": {},
     "output_type": "display_data"
    }
   ],
   "source": [
    "# bubble chart visualization\n",
    "bubble_color=[each for each in sorted_data.Count_Type]\n",
    "bubble=[\n",
    "    {\n",
    "        'y': sorted_data.Magnitude,\n",
    "        'x': sorted_data.Depth,\n",
    "        'mode':'markers',\n",
    "        'marker':{\n",
    "            'color':bubble_color,\n",
    "            'size': sorted_data['Count_Type'],\n",
    "            'sizemode':'area',\n",
    "            'sizeref': (2.*max(sorted_data['Count_Type'])/(40.**2)),\n",
    "            'showscale': True},\n",
    "        'text':sorted_data.month_list\n",
    "    }\n",
    "]\n",
    "\n",
    "layout=go.Layout(\n",
    "xaxis=dict(title='Average Depth of Each Month'),\n",
    "yaxis=dict(title='Average Magnitude of Each Month'))\n",
    "fig=go.Figure(data=bubble, layout=layout)\n",
    "iplot(fig)"
   ]
  },
  {
   "cell_type": "markdown",
   "metadata": {},
   "source": [
    "At the bubble chart, we can see the average depth and magnitude of each year. Also, size and color of bubbles show the count of eathquake of the year. Generally, most of earthquakes occured in 55-80 Depth range and 5.8-5.95 Magnitude range."
   ]
  },
  {
   "cell_type": "markdown",
   "metadata": {},
   "source": [
    "**- MIXED LINE PLOT:**"
   ]
  },
  {
   "cell_type": "code",
   "execution_count": 19,
   "metadata": {},
   "outputs": [
    {
     "data": {
      "application/vnd.plotly.v1+json": {
       "config": {
        "linkText": "Export to plot.ly",
        "plotlyServerURL": "https://plot.ly",
        "showLink": false
       },
       "data": [
        {
         "mode": "lines",
         "name": "Max Magnitude",
         "type": "scatter",
         "x": [
          1,
          2,
          3,
          4,
          5
         ],
         "y": [
          2.7,
          3.3,
          3.9,
          3.1,
          3.6
         ]
        },
        {
         "mode": "lines+markers",
         "name": "Avg Magnitude",
         "type": "scatter",
         "x": [
          1,
          2,
          3,
          4,
          5
         ],
         "y": [
          2.7,
          2.5124999999999997,
          2.2904761904761903,
          2.2818181818181817,
          2.0355932203389826
         ]
        }
       ],
       "layout": {
        "template": {
         "data": {
          "bar": [
           {
            "error_x": {
             "color": "#2a3f5f"
            },
            "error_y": {
             "color": "#2a3f5f"
            },
            "marker": {
             "line": {
              "color": "#E5ECF6",
              "width": 0.5
             },
             "pattern": {
              "fillmode": "overlay",
              "size": 10,
              "solidity": 0.2
             }
            },
            "type": "bar"
           }
          ],
          "barpolar": [
           {
            "marker": {
             "line": {
              "color": "#E5ECF6",
              "width": 0.5
             },
             "pattern": {
              "fillmode": "overlay",
              "size": 10,
              "solidity": 0.2
             }
            },
            "type": "barpolar"
           }
          ],
          "carpet": [
           {
            "aaxis": {
             "endlinecolor": "#2a3f5f",
             "gridcolor": "white",
             "linecolor": "white",
             "minorgridcolor": "white",
             "startlinecolor": "#2a3f5f"
            },
            "baxis": {
             "endlinecolor": "#2a3f5f",
             "gridcolor": "white",
             "linecolor": "white",
             "minorgridcolor": "white",
             "startlinecolor": "#2a3f5f"
            },
            "type": "carpet"
           }
          ],
          "choropleth": [
           {
            "colorbar": {
             "outlinewidth": 0,
             "ticks": ""
            },
            "type": "choropleth"
           }
          ],
          "contour": [
           {
            "colorbar": {
             "outlinewidth": 0,
             "ticks": ""
            },
            "colorscale": [
             [
              0,
              "#0d0887"
             ],
             [
              0.1111111111111111,
              "#46039f"
             ],
             [
              0.2222222222222222,
              "#7201a8"
             ],
             [
              0.3333333333333333,
              "#9c179e"
             ],
             [
              0.4444444444444444,
              "#bd3786"
             ],
             [
              0.5555555555555556,
              "#d8576b"
             ],
             [
              0.6666666666666666,
              "#ed7953"
             ],
             [
              0.7777777777777778,
              "#fb9f3a"
             ],
             [
              0.8888888888888888,
              "#fdca26"
             ],
             [
              1,
              "#f0f921"
             ]
            ],
            "type": "contour"
           }
          ],
          "contourcarpet": [
           {
            "colorbar": {
             "outlinewidth": 0,
             "ticks": ""
            },
            "type": "contourcarpet"
           }
          ],
          "heatmap": [
           {
            "colorbar": {
             "outlinewidth": 0,
             "ticks": ""
            },
            "colorscale": [
             [
              0,
              "#0d0887"
             ],
             [
              0.1111111111111111,
              "#46039f"
             ],
             [
              0.2222222222222222,
              "#7201a8"
             ],
             [
              0.3333333333333333,
              "#9c179e"
             ],
             [
              0.4444444444444444,
              "#bd3786"
             ],
             [
              0.5555555555555556,
              "#d8576b"
             ],
             [
              0.6666666666666666,
              "#ed7953"
             ],
             [
              0.7777777777777778,
              "#fb9f3a"
             ],
             [
              0.8888888888888888,
              "#fdca26"
             ],
             [
              1,
              "#f0f921"
             ]
            ],
            "type": "heatmap"
           }
          ],
          "heatmapgl": [
           {
            "colorbar": {
             "outlinewidth": 0,
             "ticks": ""
            },
            "colorscale": [
             [
              0,
              "#0d0887"
             ],
             [
              0.1111111111111111,
              "#46039f"
             ],
             [
              0.2222222222222222,
              "#7201a8"
             ],
             [
              0.3333333333333333,
              "#9c179e"
             ],
             [
              0.4444444444444444,
              "#bd3786"
             ],
             [
              0.5555555555555556,
              "#d8576b"
             ],
             [
              0.6666666666666666,
              "#ed7953"
             ],
             [
              0.7777777777777778,
              "#fb9f3a"
             ],
             [
              0.8888888888888888,
              "#fdca26"
             ],
             [
              1,
              "#f0f921"
             ]
            ],
            "type": "heatmapgl"
           }
          ],
          "histogram": [
           {
            "marker": {
             "pattern": {
              "fillmode": "overlay",
              "size": 10,
              "solidity": 0.2
             }
            },
            "type": "histogram"
           }
          ],
          "histogram2d": [
           {
            "colorbar": {
             "outlinewidth": 0,
             "ticks": ""
            },
            "colorscale": [
             [
              0,
              "#0d0887"
             ],
             [
              0.1111111111111111,
              "#46039f"
             ],
             [
              0.2222222222222222,
              "#7201a8"
             ],
             [
              0.3333333333333333,
              "#9c179e"
             ],
             [
              0.4444444444444444,
              "#bd3786"
             ],
             [
              0.5555555555555556,
              "#d8576b"
             ],
             [
              0.6666666666666666,
              "#ed7953"
             ],
             [
              0.7777777777777778,
              "#fb9f3a"
             ],
             [
              0.8888888888888888,
              "#fdca26"
             ],
             [
              1,
              "#f0f921"
             ]
            ],
            "type": "histogram2d"
           }
          ],
          "histogram2dcontour": [
           {
            "colorbar": {
             "outlinewidth": 0,
             "ticks": ""
            },
            "colorscale": [
             [
              0,
              "#0d0887"
             ],
             [
              0.1111111111111111,
              "#46039f"
             ],
             [
              0.2222222222222222,
              "#7201a8"
             ],
             [
              0.3333333333333333,
              "#9c179e"
             ],
             [
              0.4444444444444444,
              "#bd3786"
             ],
             [
              0.5555555555555556,
              "#d8576b"
             ],
             [
              0.6666666666666666,
              "#ed7953"
             ],
             [
              0.7777777777777778,
              "#fb9f3a"
             ],
             [
              0.8888888888888888,
              "#fdca26"
             ],
             [
              1,
              "#f0f921"
             ]
            ],
            "type": "histogram2dcontour"
           }
          ],
          "mesh3d": [
           {
            "colorbar": {
             "outlinewidth": 0,
             "ticks": ""
            },
            "type": "mesh3d"
           }
          ],
          "parcoords": [
           {
            "line": {
             "colorbar": {
              "outlinewidth": 0,
              "ticks": ""
             }
            },
            "type": "parcoords"
           }
          ],
          "pie": [
           {
            "automargin": true,
            "type": "pie"
           }
          ],
          "scatter": [
           {
            "marker": {
             "colorbar": {
              "outlinewidth": 0,
              "ticks": ""
             }
            },
            "type": "scatter"
           }
          ],
          "scatter3d": [
           {
            "line": {
             "colorbar": {
              "outlinewidth": 0,
              "ticks": ""
             }
            },
            "marker": {
             "colorbar": {
              "outlinewidth": 0,
              "ticks": ""
             }
            },
            "type": "scatter3d"
           }
          ],
          "scattercarpet": [
           {
            "marker": {
             "colorbar": {
              "outlinewidth": 0,
              "ticks": ""
             }
            },
            "type": "scattercarpet"
           }
          ],
          "scattergeo": [
           {
            "marker": {
             "colorbar": {
              "outlinewidth": 0,
              "ticks": ""
             }
            },
            "type": "scattergeo"
           }
          ],
          "scattergl": [
           {
            "marker": {
             "colorbar": {
              "outlinewidth": 0,
              "ticks": ""
             }
            },
            "type": "scattergl"
           }
          ],
          "scattermapbox": [
           {
            "marker": {
             "colorbar": {
              "outlinewidth": 0,
              "ticks": ""
             }
            },
            "type": "scattermapbox"
           }
          ],
          "scatterpolar": [
           {
            "marker": {
             "colorbar": {
              "outlinewidth": 0,
              "ticks": ""
             }
            },
            "type": "scatterpolar"
           }
          ],
          "scatterpolargl": [
           {
            "marker": {
             "colorbar": {
              "outlinewidth": 0,
              "ticks": ""
             }
            },
            "type": "scatterpolargl"
           }
          ],
          "scatterternary": [
           {
            "marker": {
             "colorbar": {
              "outlinewidth": 0,
              "ticks": ""
             }
            },
            "type": "scatterternary"
           }
          ],
          "surface": [
           {
            "colorbar": {
             "outlinewidth": 0,
             "ticks": ""
            },
            "colorscale": [
             [
              0,
              "#0d0887"
             ],
             [
              0.1111111111111111,
              "#46039f"
             ],
             [
              0.2222222222222222,
              "#7201a8"
             ],
             [
              0.3333333333333333,
              "#9c179e"
             ],
             [
              0.4444444444444444,
              "#bd3786"
             ],
             [
              0.5555555555555556,
              "#d8576b"
             ],
             [
              0.6666666666666666,
              "#ed7953"
             ],
             [
              0.7777777777777778,
              "#fb9f3a"
             ],
             [
              0.8888888888888888,
              "#fdca26"
             ],
             [
              1,
              "#f0f921"
             ]
            ],
            "type": "surface"
           }
          ],
          "table": [
           {
            "cells": {
             "fill": {
              "color": "#EBF0F8"
             },
             "line": {
              "color": "white"
             }
            },
            "header": {
             "fill": {
              "color": "#C8D4E3"
             },
             "line": {
              "color": "white"
             }
            },
            "type": "table"
           }
          ]
         },
         "layout": {
          "annotationdefaults": {
           "arrowcolor": "#2a3f5f",
           "arrowhead": 0,
           "arrowwidth": 1
          },
          "autotypenumbers": "strict",
          "coloraxis": {
           "colorbar": {
            "outlinewidth": 0,
            "ticks": ""
           }
          },
          "colorscale": {
           "diverging": [
            [
             0,
             "#8e0152"
            ],
            [
             0.1,
             "#c51b7d"
            ],
            [
             0.2,
             "#de77ae"
            ],
            [
             0.3,
             "#f1b6da"
            ],
            [
             0.4,
             "#fde0ef"
            ],
            [
             0.5,
             "#f7f7f7"
            ],
            [
             0.6,
             "#e6f5d0"
            ],
            [
             0.7,
             "#b8e186"
            ],
            [
             0.8,
             "#7fbc41"
            ],
            [
             0.9,
             "#4d9221"
            ],
            [
             1,
             "#276419"
            ]
           ],
           "sequential": [
            [
             0,
             "#0d0887"
            ],
            [
             0.1111111111111111,
             "#46039f"
            ],
            [
             0.2222222222222222,
             "#7201a8"
            ],
            [
             0.3333333333333333,
             "#9c179e"
            ],
            [
             0.4444444444444444,
             "#bd3786"
            ],
            [
             0.5555555555555556,
             "#d8576b"
            ],
            [
             0.6666666666666666,
             "#ed7953"
            ],
            [
             0.7777777777777778,
             "#fb9f3a"
            ],
            [
             0.8888888888888888,
             "#fdca26"
            ],
            [
             1,
             "#f0f921"
            ]
           ],
           "sequentialminus": [
            [
             0,
             "#0d0887"
            ],
            [
             0.1111111111111111,
             "#46039f"
            ],
            [
             0.2222222222222222,
             "#7201a8"
            ],
            [
             0.3333333333333333,
             "#9c179e"
            ],
            [
             0.4444444444444444,
             "#bd3786"
            ],
            [
             0.5555555555555556,
             "#d8576b"
            ],
            [
             0.6666666666666666,
             "#ed7953"
            ],
            [
             0.7777777777777778,
             "#fb9f3a"
            ],
            [
             0.8888888888888888,
             "#fdca26"
            ],
            [
             1,
             "#f0f921"
            ]
           ]
          },
          "colorway": [
           "#636efa",
           "#EF553B",
           "#00cc96",
           "#ab63fa",
           "#FFA15A",
           "#19d3f3",
           "#FF6692",
           "#B6E880",
           "#FF97FF",
           "#FECB52"
          ],
          "font": {
           "color": "#2a3f5f"
          },
          "geo": {
           "bgcolor": "white",
           "lakecolor": "white",
           "landcolor": "#E5ECF6",
           "showlakes": true,
           "showland": true,
           "subunitcolor": "white"
          },
          "hoverlabel": {
           "align": "left"
          },
          "hovermode": "closest",
          "mapbox": {
           "style": "light"
          },
          "paper_bgcolor": "white",
          "plot_bgcolor": "#E5ECF6",
          "polar": {
           "angularaxis": {
            "gridcolor": "white",
            "linecolor": "white",
            "ticks": ""
           },
           "bgcolor": "#E5ECF6",
           "radialaxis": {
            "gridcolor": "white",
            "linecolor": "white",
            "ticks": ""
           }
          },
          "scene": {
           "xaxis": {
            "backgroundcolor": "#E5ECF6",
            "gridcolor": "white",
            "gridwidth": 2,
            "linecolor": "white",
            "showbackground": true,
            "ticks": "",
            "zerolinecolor": "white"
           },
           "yaxis": {
            "backgroundcolor": "#E5ECF6",
            "gridcolor": "white",
            "gridwidth": 2,
            "linecolor": "white",
            "showbackground": true,
            "ticks": "",
            "zerolinecolor": "white"
           },
           "zaxis": {
            "backgroundcolor": "#E5ECF6",
            "gridcolor": "white",
            "gridwidth": 2,
            "linecolor": "white",
            "showbackground": true,
            "ticks": "",
            "zerolinecolor": "white"
           }
          },
          "shapedefaults": {
           "line": {
            "color": "#2a3f5f"
           }
          },
          "ternary": {
           "aaxis": {
            "gridcolor": "white",
            "linecolor": "white",
            "ticks": ""
           },
           "baxis": {
            "gridcolor": "white",
            "linecolor": "white",
            "ticks": ""
           },
           "bgcolor": "#E5ECF6",
           "caxis": {
            "gridcolor": "white",
            "linecolor": "white",
            "ticks": ""
           }
          },
          "title": {
           "x": 0.05
          },
          "xaxis": {
           "automargin": true,
           "gridcolor": "white",
           "linecolor": "white",
           "ticks": "",
           "title": {
            "standoff": 15
           },
           "zerolinecolor": "white",
           "zerolinewidth": 2
          },
          "yaxis": {
           "automargin": true,
           "gridcolor": "white",
           "linecolor": "white",
           "ticks": "",
           "title": {
            "standoff": 15
           },
           "zerolinecolor": "white",
           "zerolinewidth": 2
          }
         }
        },
        "title": {
         "text": "Maximum and Average Magnitude of Each Month"
        },
        "xaxis": {
         "ticklen": 5,
         "title": {
          "text": "Month"
         }
        }
       }
      },
      "text/html": [
       "<div>                            <div id=\"ae168436-d368-4d85-9bf7-25e5aaf37758\" class=\"plotly-graph-div\" style=\"height:525px; width:100%;\"></div>            <script type=\"text/javascript\">                require([\"plotly\"], function(Plotly) {                    window.PLOTLYENV=window.PLOTLYENV || {};                                    if (document.getElementById(\"ae168436-d368-4d85-9bf7-25e5aaf37758\")) {                    Plotly.newPlot(                        \"ae168436-d368-4d85-9bf7-25e5aaf37758\",                        [{\"mode\":\"lines\",\"name\":\"Max Magnitude\",\"x\":[1,2,3,4,5],\"y\":[2.7,3.3,3.9,3.1,3.6],\"type\":\"scatter\"},{\"mode\":\"lines+markers\",\"name\":\"Avg Magnitude\",\"x\":[1,2,3,4,5],\"y\":[2.7,2.5124999999999997,2.2904761904761903,2.2818181818181817,2.0355932203389826],\"type\":\"scatter\"}],                        {\"template\":{\"data\":{\"barpolar\":[{\"marker\":{\"line\":{\"color\":\"#E5ECF6\",\"width\":0.5},\"pattern\":{\"fillmode\":\"overlay\",\"size\":10,\"solidity\":0.2}},\"type\":\"barpolar\"}],\"bar\":[{\"error_x\":{\"color\":\"#2a3f5f\"},\"error_y\":{\"color\":\"#2a3f5f\"},\"marker\":{\"line\":{\"color\":\"#E5ECF6\",\"width\":0.5},\"pattern\":{\"fillmode\":\"overlay\",\"size\":10,\"solidity\":0.2}},\"type\":\"bar\"}],\"carpet\":[{\"aaxis\":{\"endlinecolor\":\"#2a3f5f\",\"gridcolor\":\"white\",\"linecolor\":\"white\",\"minorgridcolor\":\"white\",\"startlinecolor\":\"#2a3f5f\"},\"baxis\":{\"endlinecolor\":\"#2a3f5f\",\"gridcolor\":\"white\",\"linecolor\":\"white\",\"minorgridcolor\":\"white\",\"startlinecolor\":\"#2a3f5f\"},\"type\":\"carpet\"}],\"choropleth\":[{\"colorbar\":{\"outlinewidth\":0,\"ticks\":\"\"},\"type\":\"choropleth\"}],\"contourcarpet\":[{\"colorbar\":{\"outlinewidth\":0,\"ticks\":\"\"},\"type\":\"contourcarpet\"}],\"contour\":[{\"colorbar\":{\"outlinewidth\":0,\"ticks\":\"\"},\"colorscale\":[[0.0,\"#0d0887\"],[0.1111111111111111,\"#46039f\"],[0.2222222222222222,\"#7201a8\"],[0.3333333333333333,\"#9c179e\"],[0.4444444444444444,\"#bd3786\"],[0.5555555555555556,\"#d8576b\"],[0.6666666666666666,\"#ed7953\"],[0.7777777777777778,\"#fb9f3a\"],[0.8888888888888888,\"#fdca26\"],[1.0,\"#f0f921\"]],\"type\":\"contour\"}],\"heatmapgl\":[{\"colorbar\":{\"outlinewidth\":0,\"ticks\":\"\"},\"colorscale\":[[0.0,\"#0d0887\"],[0.1111111111111111,\"#46039f\"],[0.2222222222222222,\"#7201a8\"],[0.3333333333333333,\"#9c179e\"],[0.4444444444444444,\"#bd3786\"],[0.5555555555555556,\"#d8576b\"],[0.6666666666666666,\"#ed7953\"],[0.7777777777777778,\"#fb9f3a\"],[0.8888888888888888,\"#fdca26\"],[1.0,\"#f0f921\"]],\"type\":\"heatmapgl\"}],\"heatmap\":[{\"colorbar\":{\"outlinewidth\":0,\"ticks\":\"\"},\"colorscale\":[[0.0,\"#0d0887\"],[0.1111111111111111,\"#46039f\"],[0.2222222222222222,\"#7201a8\"],[0.3333333333333333,\"#9c179e\"],[0.4444444444444444,\"#bd3786\"],[0.5555555555555556,\"#d8576b\"],[0.6666666666666666,\"#ed7953\"],[0.7777777777777778,\"#fb9f3a\"],[0.8888888888888888,\"#fdca26\"],[1.0,\"#f0f921\"]],\"type\":\"heatmap\"}],\"histogram2dcontour\":[{\"colorbar\":{\"outlinewidth\":0,\"ticks\":\"\"},\"colorscale\":[[0.0,\"#0d0887\"],[0.1111111111111111,\"#46039f\"],[0.2222222222222222,\"#7201a8\"],[0.3333333333333333,\"#9c179e\"],[0.4444444444444444,\"#bd3786\"],[0.5555555555555556,\"#d8576b\"],[0.6666666666666666,\"#ed7953\"],[0.7777777777777778,\"#fb9f3a\"],[0.8888888888888888,\"#fdca26\"],[1.0,\"#f0f921\"]],\"type\":\"histogram2dcontour\"}],\"histogram2d\":[{\"colorbar\":{\"outlinewidth\":0,\"ticks\":\"\"},\"colorscale\":[[0.0,\"#0d0887\"],[0.1111111111111111,\"#46039f\"],[0.2222222222222222,\"#7201a8\"],[0.3333333333333333,\"#9c179e\"],[0.4444444444444444,\"#bd3786\"],[0.5555555555555556,\"#d8576b\"],[0.6666666666666666,\"#ed7953\"],[0.7777777777777778,\"#fb9f3a\"],[0.8888888888888888,\"#fdca26\"],[1.0,\"#f0f921\"]],\"type\":\"histogram2d\"}],\"histogram\":[{\"marker\":{\"pattern\":{\"fillmode\":\"overlay\",\"size\":10,\"solidity\":0.2}},\"type\":\"histogram\"}],\"mesh3d\":[{\"colorbar\":{\"outlinewidth\":0,\"ticks\":\"\"},\"type\":\"mesh3d\"}],\"parcoords\":[{\"line\":{\"colorbar\":{\"outlinewidth\":0,\"ticks\":\"\"}},\"type\":\"parcoords\"}],\"pie\":[{\"automargin\":true,\"type\":\"pie\"}],\"scatter3d\":[{\"line\":{\"colorbar\":{\"outlinewidth\":0,\"ticks\":\"\"}},\"marker\":{\"colorbar\":{\"outlinewidth\":0,\"ticks\":\"\"}},\"type\":\"scatter3d\"}],\"scattercarpet\":[{\"marker\":{\"colorbar\":{\"outlinewidth\":0,\"ticks\":\"\"}},\"type\":\"scattercarpet\"}],\"scattergeo\":[{\"marker\":{\"colorbar\":{\"outlinewidth\":0,\"ticks\":\"\"}},\"type\":\"scattergeo\"}],\"scattergl\":[{\"marker\":{\"colorbar\":{\"outlinewidth\":0,\"ticks\":\"\"}},\"type\":\"scattergl\"}],\"scattermapbox\":[{\"marker\":{\"colorbar\":{\"outlinewidth\":0,\"ticks\":\"\"}},\"type\":\"scattermapbox\"}],\"scatterpolargl\":[{\"marker\":{\"colorbar\":{\"outlinewidth\":0,\"ticks\":\"\"}},\"type\":\"scatterpolargl\"}],\"scatterpolar\":[{\"marker\":{\"colorbar\":{\"outlinewidth\":0,\"ticks\":\"\"}},\"type\":\"scatterpolar\"}],\"scatter\":[{\"marker\":{\"colorbar\":{\"outlinewidth\":0,\"ticks\":\"\"}},\"type\":\"scatter\"}],\"scatterternary\":[{\"marker\":{\"colorbar\":{\"outlinewidth\":0,\"ticks\":\"\"}},\"type\":\"scatterternary\"}],\"surface\":[{\"colorbar\":{\"outlinewidth\":0,\"ticks\":\"\"},\"colorscale\":[[0.0,\"#0d0887\"],[0.1111111111111111,\"#46039f\"],[0.2222222222222222,\"#7201a8\"],[0.3333333333333333,\"#9c179e\"],[0.4444444444444444,\"#bd3786\"],[0.5555555555555556,\"#d8576b\"],[0.6666666666666666,\"#ed7953\"],[0.7777777777777778,\"#fb9f3a\"],[0.8888888888888888,\"#fdca26\"],[1.0,\"#f0f921\"]],\"type\":\"surface\"}],\"table\":[{\"cells\":{\"fill\":{\"color\":\"#EBF0F8\"},\"line\":{\"color\":\"white\"}},\"header\":{\"fill\":{\"color\":\"#C8D4E3\"},\"line\":{\"color\":\"white\"}},\"type\":\"table\"}]},\"layout\":{\"annotationdefaults\":{\"arrowcolor\":\"#2a3f5f\",\"arrowhead\":0,\"arrowwidth\":1},\"autotypenumbers\":\"strict\",\"coloraxis\":{\"colorbar\":{\"outlinewidth\":0,\"ticks\":\"\"}},\"colorscale\":{\"diverging\":[[0,\"#8e0152\"],[0.1,\"#c51b7d\"],[0.2,\"#de77ae\"],[0.3,\"#f1b6da\"],[0.4,\"#fde0ef\"],[0.5,\"#f7f7f7\"],[0.6,\"#e6f5d0\"],[0.7,\"#b8e186\"],[0.8,\"#7fbc41\"],[0.9,\"#4d9221\"],[1,\"#276419\"]],\"sequential\":[[0.0,\"#0d0887\"],[0.1111111111111111,\"#46039f\"],[0.2222222222222222,\"#7201a8\"],[0.3333333333333333,\"#9c179e\"],[0.4444444444444444,\"#bd3786\"],[0.5555555555555556,\"#d8576b\"],[0.6666666666666666,\"#ed7953\"],[0.7777777777777778,\"#fb9f3a\"],[0.8888888888888888,\"#fdca26\"],[1.0,\"#f0f921\"]],\"sequentialminus\":[[0.0,\"#0d0887\"],[0.1111111111111111,\"#46039f\"],[0.2222222222222222,\"#7201a8\"],[0.3333333333333333,\"#9c179e\"],[0.4444444444444444,\"#bd3786\"],[0.5555555555555556,\"#d8576b\"],[0.6666666666666666,\"#ed7953\"],[0.7777777777777778,\"#fb9f3a\"],[0.8888888888888888,\"#fdca26\"],[1.0,\"#f0f921\"]]},\"colorway\":[\"#636efa\",\"#EF553B\",\"#00cc96\",\"#ab63fa\",\"#FFA15A\",\"#19d3f3\",\"#FF6692\",\"#B6E880\",\"#FF97FF\",\"#FECB52\"],\"font\":{\"color\":\"#2a3f5f\"},\"geo\":{\"bgcolor\":\"white\",\"lakecolor\":\"white\",\"landcolor\":\"#E5ECF6\",\"showlakes\":true,\"showland\":true,\"subunitcolor\":\"white\"},\"hoverlabel\":{\"align\":\"left\"},\"hovermode\":\"closest\",\"mapbox\":{\"style\":\"light\"},\"paper_bgcolor\":\"white\",\"plot_bgcolor\":\"#E5ECF6\",\"polar\":{\"angularaxis\":{\"gridcolor\":\"white\",\"linecolor\":\"white\",\"ticks\":\"\"},\"bgcolor\":\"#E5ECF6\",\"radialaxis\":{\"gridcolor\":\"white\",\"linecolor\":\"white\",\"ticks\":\"\"}},\"scene\":{\"xaxis\":{\"backgroundcolor\":\"#E5ECF6\",\"gridcolor\":\"white\",\"gridwidth\":2,\"linecolor\":\"white\",\"showbackground\":true,\"ticks\":\"\",\"zerolinecolor\":\"white\"},\"yaxis\":{\"backgroundcolor\":\"#E5ECF6\",\"gridcolor\":\"white\",\"gridwidth\":2,\"linecolor\":\"white\",\"showbackground\":true,\"ticks\":\"\",\"zerolinecolor\":\"white\"},\"zaxis\":{\"backgroundcolor\":\"#E5ECF6\",\"gridcolor\":\"white\",\"gridwidth\":2,\"linecolor\":\"white\",\"showbackground\":true,\"ticks\":\"\",\"zerolinecolor\":\"white\"}},\"shapedefaults\":{\"line\":{\"color\":\"#2a3f5f\"}},\"ternary\":{\"aaxis\":{\"gridcolor\":\"white\",\"linecolor\":\"white\",\"ticks\":\"\"},\"baxis\":{\"gridcolor\":\"white\",\"linecolor\":\"white\",\"ticks\":\"\"},\"bgcolor\":\"#E5ECF6\",\"caxis\":{\"gridcolor\":\"white\",\"linecolor\":\"white\",\"ticks\":\"\"}},\"title\":{\"x\":0.05},\"xaxis\":{\"automargin\":true,\"gridcolor\":\"white\",\"linecolor\":\"white\",\"ticks\":\"\",\"title\":{\"standoff\":15},\"zerolinecolor\":\"white\",\"zerolinewidth\":2},\"yaxis\":{\"automargin\":true,\"gridcolor\":\"white\",\"linecolor\":\"white\",\"ticks\":\"\",\"title\":{\"standoff\":15},\"zerolinecolor\":\"white\",\"zerolinewidth\":2}}},\"title\":{\"text\":\"Maximum and Average Magnitude of Each Month\"},\"xaxis\":{\"ticklen\":5,\"title\":{\"text\":\"Month\"}}},                        {\"responsive\": true}                    ).then(function(){\n",
       "                            \n",
       "var gd = document.getElementById('ae168436-d368-4d85-9bf7-25e5aaf37758');\n",
       "var x = new MutationObserver(function (mutations, observer) {{\n",
       "        var display = window.getComputedStyle(gd).display;\n",
       "        if (!display || display === 'none') {{\n",
       "            console.log([gd, 'removed!']);\n",
       "            Plotly.purge(gd);\n",
       "            observer.disconnect();\n",
       "        }}\n",
       "}});\n",
       "\n",
       "// Listen for the removal of the full notebook cells\n",
       "var notebookContainer = gd.closest('#notebook-container');\n",
       "if (notebookContainer) {{\n",
       "    x.observe(notebookContainer, {childList: true});\n",
       "}}\n",
       "\n",
       "// Listen for the clearing of the current output cell\n",
       "var outputEl = gd.closest('.output');\n",
       "if (outputEl) {{\n",
       "    x.observe(outputEl, {childList: true});\n",
       "}}\n",
       "\n",
       "                        })                };                });            </script>        </div>"
      ]
     },
     "metadata": {},
     "output_type": "display_data"
    }
   ],
   "source": [
    "# prepare data frame\n",
    "max_magnitude = list(data.groupby(\"Month\").Magnitude.max())\n",
    "sorted_data[\"Max_Magnitude\"]=max_magnitude\n",
    "\n",
    "# visualization\n",
    "trace0=go.Scatter(\n",
    "        x=sorted_data.month_list,\n",
    "        y=sorted_data.Max_Magnitude,\n",
    "        mode='lines',\n",
    "        name='Max Magnitude')\n",
    "\n",
    "trace1=go.Scatter(\n",
    "        x=sorted_data.month_list,\n",
    "        y=sorted_data.Magnitude,\n",
    "        mode='lines + markers',\n",
    "        name='Avg Magnitude')\n",
    "\n",
    "layout = dict(title = 'Maximum and Average Magnitude of Each Month',\n",
    "              xaxis= dict(title= 'Month',ticklen= 5))\n",
    "\n",
    "line_data=[trace0, trace1]\n",
    "fig=go.Figure(data=line_data, layout=layout)\n",
    "iplot(fig)    "
   ]
  },
  {
   "cell_type": "markdown",
   "metadata": {},
   "source": [
    "When we examine \"Avg Magnitude\" line, we can see average magnitude is approximately between 5.8-6. Also, avg magnitude value fell below 6.0 after 1970. In addition, maximum magnitude values are 9.1 and they seem in 2004 and 2011."
   ]
  },
  {
   "cell_type": "markdown",
   "metadata": {},
   "source": [
    "**- 3D SCATTER PLOT:**"
   ]
  },
  {
   "cell_type": "code",
   "execution_count": 20,
   "metadata": {},
   "outputs": [
    {
     "data": {
      "application/vnd.plotly.v1+json": {
       "config": {
        "linkText": "Export to plot.ly",
        "plotlyServerURL": "https://plot.ly",
        "showLink": false
       },
       "data": [
        {
         "marker": {
          "color": [
           2.7,
           3.3,
           3.9,
           3.1,
           3.6
          ],
          "colorscale": [
           [
            0,
            "rgb(161, 105, 40)"
           ],
           [
            0.16666666666666666,
            "rgb(189, 146, 90)"
           ],
           [
            0.3333333333333333,
            "rgb(214, 189, 141)"
           ],
           [
            0.5,
            "rgb(237, 234, 194)"
           ],
           [
            0.6666666666666666,
            "rgb(181, 200, 184)"
           ],
           [
            0.8333333333333334,
            "rgb(121, 167, 172)"
           ],
           [
            1,
            "rgb(40, 135, 161)"
           ]
          ],
          "showscale": true,
          "size": 10
         },
         "mode": "markers",
         "type": "scatter3d",
         "x": [
          1,
          2,
          3,
          4,
          5
         ],
         "y": [
          2.7,
          2.5124999999999997,
          2.2904761904761903,
          2.2818181818181817,
          2.0355932203389826
         ],
         "z": [
          5,
          4.625,
          22.761904761904763,
          4.1454545454545455,
          4.711864406779661
         ]
        }
       ],
       "layout": {
        "margin": {
         "b": 0,
         "l": 0,
         "r": 0,
         "t": 0
        },
        "scene": {
         "xaxis": {
          "title": {
           "text": "Month"
          }
         },
         "yaxis": {
          "title": {
           "text": "Magnitude"
          }
         },
         "zaxis": {
          "title": {
           "text": "Depth"
          }
         }
        },
        "template": {
         "data": {
          "bar": [
           {
            "error_x": {
             "color": "#2a3f5f"
            },
            "error_y": {
             "color": "#2a3f5f"
            },
            "marker": {
             "line": {
              "color": "#E5ECF6",
              "width": 0.5
             },
             "pattern": {
              "fillmode": "overlay",
              "size": 10,
              "solidity": 0.2
             }
            },
            "type": "bar"
           }
          ],
          "barpolar": [
           {
            "marker": {
             "line": {
              "color": "#E5ECF6",
              "width": 0.5
             },
             "pattern": {
              "fillmode": "overlay",
              "size": 10,
              "solidity": 0.2
             }
            },
            "type": "barpolar"
           }
          ],
          "carpet": [
           {
            "aaxis": {
             "endlinecolor": "#2a3f5f",
             "gridcolor": "white",
             "linecolor": "white",
             "minorgridcolor": "white",
             "startlinecolor": "#2a3f5f"
            },
            "baxis": {
             "endlinecolor": "#2a3f5f",
             "gridcolor": "white",
             "linecolor": "white",
             "minorgridcolor": "white",
             "startlinecolor": "#2a3f5f"
            },
            "type": "carpet"
           }
          ],
          "choropleth": [
           {
            "colorbar": {
             "outlinewidth": 0,
             "ticks": ""
            },
            "type": "choropleth"
           }
          ],
          "contour": [
           {
            "colorbar": {
             "outlinewidth": 0,
             "ticks": ""
            },
            "colorscale": [
             [
              0,
              "#0d0887"
             ],
             [
              0.1111111111111111,
              "#46039f"
             ],
             [
              0.2222222222222222,
              "#7201a8"
             ],
             [
              0.3333333333333333,
              "#9c179e"
             ],
             [
              0.4444444444444444,
              "#bd3786"
             ],
             [
              0.5555555555555556,
              "#d8576b"
             ],
             [
              0.6666666666666666,
              "#ed7953"
             ],
             [
              0.7777777777777778,
              "#fb9f3a"
             ],
             [
              0.8888888888888888,
              "#fdca26"
             ],
             [
              1,
              "#f0f921"
             ]
            ],
            "type": "contour"
           }
          ],
          "contourcarpet": [
           {
            "colorbar": {
             "outlinewidth": 0,
             "ticks": ""
            },
            "type": "contourcarpet"
           }
          ],
          "heatmap": [
           {
            "colorbar": {
             "outlinewidth": 0,
             "ticks": ""
            },
            "colorscale": [
             [
              0,
              "#0d0887"
             ],
             [
              0.1111111111111111,
              "#46039f"
             ],
             [
              0.2222222222222222,
              "#7201a8"
             ],
             [
              0.3333333333333333,
              "#9c179e"
             ],
             [
              0.4444444444444444,
              "#bd3786"
             ],
             [
              0.5555555555555556,
              "#d8576b"
             ],
             [
              0.6666666666666666,
              "#ed7953"
             ],
             [
              0.7777777777777778,
              "#fb9f3a"
             ],
             [
              0.8888888888888888,
              "#fdca26"
             ],
             [
              1,
              "#f0f921"
             ]
            ],
            "type": "heatmap"
           }
          ],
          "heatmapgl": [
           {
            "colorbar": {
             "outlinewidth": 0,
             "ticks": ""
            },
            "colorscale": [
             [
              0,
              "#0d0887"
             ],
             [
              0.1111111111111111,
              "#46039f"
             ],
             [
              0.2222222222222222,
              "#7201a8"
             ],
             [
              0.3333333333333333,
              "#9c179e"
             ],
             [
              0.4444444444444444,
              "#bd3786"
             ],
             [
              0.5555555555555556,
              "#d8576b"
             ],
             [
              0.6666666666666666,
              "#ed7953"
             ],
             [
              0.7777777777777778,
              "#fb9f3a"
             ],
             [
              0.8888888888888888,
              "#fdca26"
             ],
             [
              1,
              "#f0f921"
             ]
            ],
            "type": "heatmapgl"
           }
          ],
          "histogram": [
           {
            "marker": {
             "pattern": {
              "fillmode": "overlay",
              "size": 10,
              "solidity": 0.2
             }
            },
            "type": "histogram"
           }
          ],
          "histogram2d": [
           {
            "colorbar": {
             "outlinewidth": 0,
             "ticks": ""
            },
            "colorscale": [
             [
              0,
              "#0d0887"
             ],
             [
              0.1111111111111111,
              "#46039f"
             ],
             [
              0.2222222222222222,
              "#7201a8"
             ],
             [
              0.3333333333333333,
              "#9c179e"
             ],
             [
              0.4444444444444444,
              "#bd3786"
             ],
             [
              0.5555555555555556,
              "#d8576b"
             ],
             [
              0.6666666666666666,
              "#ed7953"
             ],
             [
              0.7777777777777778,
              "#fb9f3a"
             ],
             [
              0.8888888888888888,
              "#fdca26"
             ],
             [
              1,
              "#f0f921"
             ]
            ],
            "type": "histogram2d"
           }
          ],
          "histogram2dcontour": [
           {
            "colorbar": {
             "outlinewidth": 0,
             "ticks": ""
            },
            "colorscale": [
             [
              0,
              "#0d0887"
             ],
             [
              0.1111111111111111,
              "#46039f"
             ],
             [
              0.2222222222222222,
              "#7201a8"
             ],
             [
              0.3333333333333333,
              "#9c179e"
             ],
             [
              0.4444444444444444,
              "#bd3786"
             ],
             [
              0.5555555555555556,
              "#d8576b"
             ],
             [
              0.6666666666666666,
              "#ed7953"
             ],
             [
              0.7777777777777778,
              "#fb9f3a"
             ],
             [
              0.8888888888888888,
              "#fdca26"
             ],
             [
              1,
              "#f0f921"
             ]
            ],
            "type": "histogram2dcontour"
           }
          ],
          "mesh3d": [
           {
            "colorbar": {
             "outlinewidth": 0,
             "ticks": ""
            },
            "type": "mesh3d"
           }
          ],
          "parcoords": [
           {
            "line": {
             "colorbar": {
              "outlinewidth": 0,
              "ticks": ""
             }
            },
            "type": "parcoords"
           }
          ],
          "pie": [
           {
            "automargin": true,
            "type": "pie"
           }
          ],
          "scatter": [
           {
            "marker": {
             "colorbar": {
              "outlinewidth": 0,
              "ticks": ""
             }
            },
            "type": "scatter"
           }
          ],
          "scatter3d": [
           {
            "line": {
             "colorbar": {
              "outlinewidth": 0,
              "ticks": ""
             }
            },
            "marker": {
             "colorbar": {
              "outlinewidth": 0,
              "ticks": ""
             }
            },
            "type": "scatter3d"
           }
          ],
          "scattercarpet": [
           {
            "marker": {
             "colorbar": {
              "outlinewidth": 0,
              "ticks": ""
             }
            },
            "type": "scattercarpet"
           }
          ],
          "scattergeo": [
           {
            "marker": {
             "colorbar": {
              "outlinewidth": 0,
              "ticks": ""
             }
            },
            "type": "scattergeo"
           }
          ],
          "scattergl": [
           {
            "marker": {
             "colorbar": {
              "outlinewidth": 0,
              "ticks": ""
             }
            },
            "type": "scattergl"
           }
          ],
          "scattermapbox": [
           {
            "marker": {
             "colorbar": {
              "outlinewidth": 0,
              "ticks": ""
             }
            },
            "type": "scattermapbox"
           }
          ],
          "scatterpolar": [
           {
            "marker": {
             "colorbar": {
              "outlinewidth": 0,
              "ticks": ""
             }
            },
            "type": "scatterpolar"
           }
          ],
          "scatterpolargl": [
           {
            "marker": {
             "colorbar": {
              "outlinewidth": 0,
              "ticks": ""
             }
            },
            "type": "scatterpolargl"
           }
          ],
          "scatterternary": [
           {
            "marker": {
             "colorbar": {
              "outlinewidth": 0,
              "ticks": ""
             }
            },
            "type": "scatterternary"
           }
          ],
          "surface": [
           {
            "colorbar": {
             "outlinewidth": 0,
             "ticks": ""
            },
            "colorscale": [
             [
              0,
              "#0d0887"
             ],
             [
              0.1111111111111111,
              "#46039f"
             ],
             [
              0.2222222222222222,
              "#7201a8"
             ],
             [
              0.3333333333333333,
              "#9c179e"
             ],
             [
              0.4444444444444444,
              "#bd3786"
             ],
             [
              0.5555555555555556,
              "#d8576b"
             ],
             [
              0.6666666666666666,
              "#ed7953"
             ],
             [
              0.7777777777777778,
              "#fb9f3a"
             ],
             [
              0.8888888888888888,
              "#fdca26"
             ],
             [
              1,
              "#f0f921"
             ]
            ],
            "type": "surface"
           }
          ],
          "table": [
           {
            "cells": {
             "fill": {
              "color": "#EBF0F8"
             },
             "line": {
              "color": "white"
             }
            },
            "header": {
             "fill": {
              "color": "#C8D4E3"
             },
             "line": {
              "color": "white"
             }
            },
            "type": "table"
           }
          ]
         },
         "layout": {
          "annotationdefaults": {
           "arrowcolor": "#2a3f5f",
           "arrowhead": 0,
           "arrowwidth": 1
          },
          "autotypenumbers": "strict",
          "coloraxis": {
           "colorbar": {
            "outlinewidth": 0,
            "ticks": ""
           }
          },
          "colorscale": {
           "diverging": [
            [
             0,
             "#8e0152"
            ],
            [
             0.1,
             "#c51b7d"
            ],
            [
             0.2,
             "#de77ae"
            ],
            [
             0.3,
             "#f1b6da"
            ],
            [
             0.4,
             "#fde0ef"
            ],
            [
             0.5,
             "#f7f7f7"
            ],
            [
             0.6,
             "#e6f5d0"
            ],
            [
             0.7,
             "#b8e186"
            ],
            [
             0.8,
             "#7fbc41"
            ],
            [
             0.9,
             "#4d9221"
            ],
            [
             1,
             "#276419"
            ]
           ],
           "sequential": [
            [
             0,
             "#0d0887"
            ],
            [
             0.1111111111111111,
             "#46039f"
            ],
            [
             0.2222222222222222,
             "#7201a8"
            ],
            [
             0.3333333333333333,
             "#9c179e"
            ],
            [
             0.4444444444444444,
             "#bd3786"
            ],
            [
             0.5555555555555556,
             "#d8576b"
            ],
            [
             0.6666666666666666,
             "#ed7953"
            ],
            [
             0.7777777777777778,
             "#fb9f3a"
            ],
            [
             0.8888888888888888,
             "#fdca26"
            ],
            [
             1,
             "#f0f921"
            ]
           ],
           "sequentialminus": [
            [
             0,
             "#0d0887"
            ],
            [
             0.1111111111111111,
             "#46039f"
            ],
            [
             0.2222222222222222,
             "#7201a8"
            ],
            [
             0.3333333333333333,
             "#9c179e"
            ],
            [
             0.4444444444444444,
             "#bd3786"
            ],
            [
             0.5555555555555556,
             "#d8576b"
            ],
            [
             0.6666666666666666,
             "#ed7953"
            ],
            [
             0.7777777777777778,
             "#fb9f3a"
            ],
            [
             0.8888888888888888,
             "#fdca26"
            ],
            [
             1,
             "#f0f921"
            ]
           ]
          },
          "colorway": [
           "#636efa",
           "#EF553B",
           "#00cc96",
           "#ab63fa",
           "#FFA15A",
           "#19d3f3",
           "#FF6692",
           "#B6E880",
           "#FF97FF",
           "#FECB52"
          ],
          "font": {
           "color": "#2a3f5f"
          },
          "geo": {
           "bgcolor": "white",
           "lakecolor": "white",
           "landcolor": "#E5ECF6",
           "showlakes": true,
           "showland": true,
           "subunitcolor": "white"
          },
          "hoverlabel": {
           "align": "left"
          },
          "hovermode": "closest",
          "mapbox": {
           "style": "light"
          },
          "paper_bgcolor": "white",
          "plot_bgcolor": "#E5ECF6",
          "polar": {
           "angularaxis": {
            "gridcolor": "white",
            "linecolor": "white",
            "ticks": ""
           },
           "bgcolor": "#E5ECF6",
           "radialaxis": {
            "gridcolor": "white",
            "linecolor": "white",
            "ticks": ""
           }
          },
          "scene": {
           "xaxis": {
            "backgroundcolor": "#E5ECF6",
            "gridcolor": "white",
            "gridwidth": 2,
            "linecolor": "white",
            "showbackground": true,
            "ticks": "",
            "zerolinecolor": "white"
           },
           "yaxis": {
            "backgroundcolor": "#E5ECF6",
            "gridcolor": "white",
            "gridwidth": 2,
            "linecolor": "white",
            "showbackground": true,
            "ticks": "",
            "zerolinecolor": "white"
           },
           "zaxis": {
            "backgroundcolor": "#E5ECF6",
            "gridcolor": "white",
            "gridwidth": 2,
            "linecolor": "white",
            "showbackground": true,
            "ticks": "",
            "zerolinecolor": "white"
           }
          },
          "shapedefaults": {
           "line": {
            "color": "#2a3f5f"
           }
          },
          "ternary": {
           "aaxis": {
            "gridcolor": "white",
            "linecolor": "white",
            "ticks": ""
           },
           "baxis": {
            "gridcolor": "white",
            "linecolor": "white",
            "ticks": ""
           },
           "bgcolor": "#E5ECF6",
           "caxis": {
            "gridcolor": "white",
            "linecolor": "white",
            "ticks": ""
           }
          },
          "title": {
           "x": 0.05
          },
          "xaxis": {
           "automargin": true,
           "gridcolor": "white",
           "linecolor": "white",
           "ticks": "",
           "title": {
            "standoff": 15
           },
           "zerolinecolor": "white",
           "zerolinewidth": 2
          },
          "yaxis": {
           "automargin": true,
           "gridcolor": "white",
           "linecolor": "white",
           "ticks": "",
           "title": {
            "standoff": 15
           },
           "zerolinecolor": "white",
           "zerolinewidth": 2
          }
         }
        }
       }
      },
      "text/html": [
       "<div>                            <div id=\"1557d9d5-dae3-4067-a5c2-abfbd1eb1b42\" class=\"plotly-graph-div\" style=\"height:525px; width:100%;\"></div>            <script type=\"text/javascript\">                require([\"plotly\"], function(Plotly) {                    window.PLOTLYENV=window.PLOTLYENV || {};                                    if (document.getElementById(\"1557d9d5-dae3-4067-a5c2-abfbd1eb1b42\")) {                    Plotly.newPlot(                        \"1557d9d5-dae3-4067-a5c2-abfbd1eb1b42\",                        [{\"marker\":{\"color\":[2.7,3.3,3.9,3.1,3.6],\"colorscale\":[[0.0,\"rgb(161, 105, 40)\"],[0.16666666666666666,\"rgb(189, 146, 90)\"],[0.3333333333333333,\"rgb(214, 189, 141)\"],[0.5,\"rgb(237, 234, 194)\"],[0.6666666666666666,\"rgb(181, 200, 184)\"],[0.8333333333333334,\"rgb(121, 167, 172)\"],[1.0,\"rgb(40, 135, 161)\"]],\"showscale\":true,\"size\":10},\"mode\":\"markers\",\"x\":[1,2,3,4,5],\"y\":[2.7,2.5124999999999997,2.2904761904761903,2.2818181818181817,2.0355932203389826],\"z\":[5.0,4.625,22.761904761904763,4.1454545454545455,4.711864406779661],\"type\":\"scatter3d\"}],                        {\"margin\":{\"b\":0,\"l\":0,\"r\":0,\"t\":0},\"scene\":{\"xaxis\":{\"title\":{\"text\":\"Month\"}},\"yaxis\":{\"title\":{\"text\":\"Magnitude\"}},\"zaxis\":{\"title\":{\"text\":\"Depth\"}}},\"template\":{\"data\":{\"barpolar\":[{\"marker\":{\"line\":{\"color\":\"#E5ECF6\",\"width\":0.5},\"pattern\":{\"fillmode\":\"overlay\",\"size\":10,\"solidity\":0.2}},\"type\":\"barpolar\"}],\"bar\":[{\"error_x\":{\"color\":\"#2a3f5f\"},\"error_y\":{\"color\":\"#2a3f5f\"},\"marker\":{\"line\":{\"color\":\"#E5ECF6\",\"width\":0.5},\"pattern\":{\"fillmode\":\"overlay\",\"size\":10,\"solidity\":0.2}},\"type\":\"bar\"}],\"carpet\":[{\"aaxis\":{\"endlinecolor\":\"#2a3f5f\",\"gridcolor\":\"white\",\"linecolor\":\"white\",\"minorgridcolor\":\"white\",\"startlinecolor\":\"#2a3f5f\"},\"baxis\":{\"endlinecolor\":\"#2a3f5f\",\"gridcolor\":\"white\",\"linecolor\":\"white\",\"minorgridcolor\":\"white\",\"startlinecolor\":\"#2a3f5f\"},\"type\":\"carpet\"}],\"choropleth\":[{\"colorbar\":{\"outlinewidth\":0,\"ticks\":\"\"},\"type\":\"choropleth\"}],\"contourcarpet\":[{\"colorbar\":{\"outlinewidth\":0,\"ticks\":\"\"},\"type\":\"contourcarpet\"}],\"contour\":[{\"colorbar\":{\"outlinewidth\":0,\"ticks\":\"\"},\"colorscale\":[[0.0,\"#0d0887\"],[0.1111111111111111,\"#46039f\"],[0.2222222222222222,\"#7201a8\"],[0.3333333333333333,\"#9c179e\"],[0.4444444444444444,\"#bd3786\"],[0.5555555555555556,\"#d8576b\"],[0.6666666666666666,\"#ed7953\"],[0.7777777777777778,\"#fb9f3a\"],[0.8888888888888888,\"#fdca26\"],[1.0,\"#f0f921\"]],\"type\":\"contour\"}],\"heatmapgl\":[{\"colorbar\":{\"outlinewidth\":0,\"ticks\":\"\"},\"colorscale\":[[0.0,\"#0d0887\"],[0.1111111111111111,\"#46039f\"],[0.2222222222222222,\"#7201a8\"],[0.3333333333333333,\"#9c179e\"],[0.4444444444444444,\"#bd3786\"],[0.5555555555555556,\"#d8576b\"],[0.6666666666666666,\"#ed7953\"],[0.7777777777777778,\"#fb9f3a\"],[0.8888888888888888,\"#fdca26\"],[1.0,\"#f0f921\"]],\"type\":\"heatmapgl\"}],\"heatmap\":[{\"colorbar\":{\"outlinewidth\":0,\"ticks\":\"\"},\"colorscale\":[[0.0,\"#0d0887\"],[0.1111111111111111,\"#46039f\"],[0.2222222222222222,\"#7201a8\"],[0.3333333333333333,\"#9c179e\"],[0.4444444444444444,\"#bd3786\"],[0.5555555555555556,\"#d8576b\"],[0.6666666666666666,\"#ed7953\"],[0.7777777777777778,\"#fb9f3a\"],[0.8888888888888888,\"#fdca26\"],[1.0,\"#f0f921\"]],\"type\":\"heatmap\"}],\"histogram2dcontour\":[{\"colorbar\":{\"outlinewidth\":0,\"ticks\":\"\"},\"colorscale\":[[0.0,\"#0d0887\"],[0.1111111111111111,\"#46039f\"],[0.2222222222222222,\"#7201a8\"],[0.3333333333333333,\"#9c179e\"],[0.4444444444444444,\"#bd3786\"],[0.5555555555555556,\"#d8576b\"],[0.6666666666666666,\"#ed7953\"],[0.7777777777777778,\"#fb9f3a\"],[0.8888888888888888,\"#fdca26\"],[1.0,\"#f0f921\"]],\"type\":\"histogram2dcontour\"}],\"histogram2d\":[{\"colorbar\":{\"outlinewidth\":0,\"ticks\":\"\"},\"colorscale\":[[0.0,\"#0d0887\"],[0.1111111111111111,\"#46039f\"],[0.2222222222222222,\"#7201a8\"],[0.3333333333333333,\"#9c179e\"],[0.4444444444444444,\"#bd3786\"],[0.5555555555555556,\"#d8576b\"],[0.6666666666666666,\"#ed7953\"],[0.7777777777777778,\"#fb9f3a\"],[0.8888888888888888,\"#fdca26\"],[1.0,\"#f0f921\"]],\"type\":\"histogram2d\"}],\"histogram\":[{\"marker\":{\"pattern\":{\"fillmode\":\"overlay\",\"size\":10,\"solidity\":0.2}},\"type\":\"histogram\"}],\"mesh3d\":[{\"colorbar\":{\"outlinewidth\":0,\"ticks\":\"\"},\"type\":\"mesh3d\"}],\"parcoords\":[{\"line\":{\"colorbar\":{\"outlinewidth\":0,\"ticks\":\"\"}},\"type\":\"parcoords\"}],\"pie\":[{\"automargin\":true,\"type\":\"pie\"}],\"scatter3d\":[{\"line\":{\"colorbar\":{\"outlinewidth\":0,\"ticks\":\"\"}},\"marker\":{\"colorbar\":{\"outlinewidth\":0,\"ticks\":\"\"}},\"type\":\"scatter3d\"}],\"scattercarpet\":[{\"marker\":{\"colorbar\":{\"outlinewidth\":0,\"ticks\":\"\"}},\"type\":\"scattercarpet\"}],\"scattergeo\":[{\"marker\":{\"colorbar\":{\"outlinewidth\":0,\"ticks\":\"\"}},\"type\":\"scattergeo\"}],\"scattergl\":[{\"marker\":{\"colorbar\":{\"outlinewidth\":0,\"ticks\":\"\"}},\"type\":\"scattergl\"}],\"scattermapbox\":[{\"marker\":{\"colorbar\":{\"outlinewidth\":0,\"ticks\":\"\"}},\"type\":\"scattermapbox\"}],\"scatterpolargl\":[{\"marker\":{\"colorbar\":{\"outlinewidth\":0,\"ticks\":\"\"}},\"type\":\"scatterpolargl\"}],\"scatterpolar\":[{\"marker\":{\"colorbar\":{\"outlinewidth\":0,\"ticks\":\"\"}},\"type\":\"scatterpolar\"}],\"scatter\":[{\"marker\":{\"colorbar\":{\"outlinewidth\":0,\"ticks\":\"\"}},\"type\":\"scatter\"}],\"scatterternary\":[{\"marker\":{\"colorbar\":{\"outlinewidth\":0,\"ticks\":\"\"}},\"type\":\"scatterternary\"}],\"surface\":[{\"colorbar\":{\"outlinewidth\":0,\"ticks\":\"\"},\"colorscale\":[[0.0,\"#0d0887\"],[0.1111111111111111,\"#46039f\"],[0.2222222222222222,\"#7201a8\"],[0.3333333333333333,\"#9c179e\"],[0.4444444444444444,\"#bd3786\"],[0.5555555555555556,\"#d8576b\"],[0.6666666666666666,\"#ed7953\"],[0.7777777777777778,\"#fb9f3a\"],[0.8888888888888888,\"#fdca26\"],[1.0,\"#f0f921\"]],\"type\":\"surface\"}],\"table\":[{\"cells\":{\"fill\":{\"color\":\"#EBF0F8\"},\"line\":{\"color\":\"white\"}},\"header\":{\"fill\":{\"color\":\"#C8D4E3\"},\"line\":{\"color\":\"white\"}},\"type\":\"table\"}]},\"layout\":{\"annotationdefaults\":{\"arrowcolor\":\"#2a3f5f\",\"arrowhead\":0,\"arrowwidth\":1},\"autotypenumbers\":\"strict\",\"coloraxis\":{\"colorbar\":{\"outlinewidth\":0,\"ticks\":\"\"}},\"colorscale\":{\"diverging\":[[0,\"#8e0152\"],[0.1,\"#c51b7d\"],[0.2,\"#de77ae\"],[0.3,\"#f1b6da\"],[0.4,\"#fde0ef\"],[0.5,\"#f7f7f7\"],[0.6,\"#e6f5d0\"],[0.7,\"#b8e186\"],[0.8,\"#7fbc41\"],[0.9,\"#4d9221\"],[1,\"#276419\"]],\"sequential\":[[0.0,\"#0d0887\"],[0.1111111111111111,\"#46039f\"],[0.2222222222222222,\"#7201a8\"],[0.3333333333333333,\"#9c179e\"],[0.4444444444444444,\"#bd3786\"],[0.5555555555555556,\"#d8576b\"],[0.6666666666666666,\"#ed7953\"],[0.7777777777777778,\"#fb9f3a\"],[0.8888888888888888,\"#fdca26\"],[1.0,\"#f0f921\"]],\"sequentialminus\":[[0.0,\"#0d0887\"],[0.1111111111111111,\"#46039f\"],[0.2222222222222222,\"#7201a8\"],[0.3333333333333333,\"#9c179e\"],[0.4444444444444444,\"#bd3786\"],[0.5555555555555556,\"#d8576b\"],[0.6666666666666666,\"#ed7953\"],[0.7777777777777778,\"#fb9f3a\"],[0.8888888888888888,\"#fdca26\"],[1.0,\"#f0f921\"]]},\"colorway\":[\"#636efa\",\"#EF553B\",\"#00cc96\",\"#ab63fa\",\"#FFA15A\",\"#19d3f3\",\"#FF6692\",\"#B6E880\",\"#FF97FF\",\"#FECB52\"],\"font\":{\"color\":\"#2a3f5f\"},\"geo\":{\"bgcolor\":\"white\",\"lakecolor\":\"white\",\"landcolor\":\"#E5ECF6\",\"showlakes\":true,\"showland\":true,\"subunitcolor\":\"white\"},\"hoverlabel\":{\"align\":\"left\"},\"hovermode\":\"closest\",\"mapbox\":{\"style\":\"light\"},\"paper_bgcolor\":\"white\",\"plot_bgcolor\":\"#E5ECF6\",\"polar\":{\"angularaxis\":{\"gridcolor\":\"white\",\"linecolor\":\"white\",\"ticks\":\"\"},\"bgcolor\":\"#E5ECF6\",\"radialaxis\":{\"gridcolor\":\"white\",\"linecolor\":\"white\",\"ticks\":\"\"}},\"scene\":{\"xaxis\":{\"backgroundcolor\":\"#E5ECF6\",\"gridcolor\":\"white\",\"gridwidth\":2,\"linecolor\":\"white\",\"showbackground\":true,\"ticks\":\"\",\"zerolinecolor\":\"white\"},\"yaxis\":{\"backgroundcolor\":\"#E5ECF6\",\"gridcolor\":\"white\",\"gridwidth\":2,\"linecolor\":\"white\",\"showbackground\":true,\"ticks\":\"\",\"zerolinecolor\":\"white\"},\"zaxis\":{\"backgroundcolor\":\"#E5ECF6\",\"gridcolor\":\"white\",\"gridwidth\":2,\"linecolor\":\"white\",\"showbackground\":true,\"ticks\":\"\",\"zerolinecolor\":\"white\"}},\"shapedefaults\":{\"line\":{\"color\":\"#2a3f5f\"}},\"ternary\":{\"aaxis\":{\"gridcolor\":\"white\",\"linecolor\":\"white\",\"ticks\":\"\"},\"baxis\":{\"gridcolor\":\"white\",\"linecolor\":\"white\",\"ticks\":\"\"},\"bgcolor\":\"#E5ECF6\",\"caxis\":{\"gridcolor\":\"white\",\"linecolor\":\"white\",\"ticks\":\"\"}},\"title\":{\"x\":0.05},\"xaxis\":{\"automargin\":true,\"gridcolor\":\"white\",\"linecolor\":\"white\",\"ticks\":\"\",\"title\":{\"standoff\":15},\"zerolinecolor\":\"white\",\"zerolinewidth\":2},\"yaxis\":{\"automargin\":true,\"gridcolor\":\"white\",\"linecolor\":\"white\",\"ticks\":\"\",\"title\":{\"standoff\":15},\"zerolinecolor\":\"white\",\"zerolinewidth\":2}}}},                        {\"responsive\": true}                    ).then(function(){\n",
       "                            \n",
       "var gd = document.getElementById('1557d9d5-dae3-4067-a5c2-abfbd1eb1b42');\n",
       "var x = new MutationObserver(function (mutations, observer) {{\n",
       "        var display = window.getComputedStyle(gd).display;\n",
       "        if (!display || display === 'none') {{\n",
       "            console.log([gd, 'removed!']);\n",
       "            Plotly.purge(gd);\n",
       "            observer.disconnect();\n",
       "        }}\n",
       "}});\n",
       "\n",
       "// Listen for the removal of the full notebook cells\n",
       "var notebookContainer = gd.closest('#notebook-container');\n",
       "if (notebookContainer) {{\n",
       "    x.observe(notebookContainer, {childList: true});\n",
       "}}\n",
       "\n",
       "// Listen for the clearing of the current output cell\n",
       "var outputEl = gd.closest('.output');\n",
       "if (outputEl) {{\n",
       "    x.observe(outputEl, {childList: true});\n",
       "}}\n",
       "\n",
       "                        })                };                });            </script>        </div>"
      ]
     },
     "metadata": {},
     "output_type": "display_data"
    }
   ],
   "source": [
    "trace0=go.Scatter3d(\n",
    "    x=sorted_data.month_list,\n",
    "    #x=data.month_list,\n",
    "    y=sorted_data.Magnitude,\n",
    "    #y=data.Magnitude,\n",
    "    z=sorted_data.Depth,\n",
    "    #z=data.Depth,\n",
    "    mode='markers',\n",
    "    marker=dict(\n",
    "        size=10,\n",
    "        color=sorted_data.Max_Magnitude,\n",
    "        colorscale='Earth',\n",
    "        showscale=True,))\n",
    "\n",
    "scatter_plot = [trace0]\n",
    "layout = go.Layout(\n",
    "    margin=dict(\n",
    "        l=0,\n",
    "        r=0,\n",
    "        b=0,\n",
    "        t=0  \n",
    "    ),\n",
    "    scene=dict(\n",
    "    xaxis=dict(title='Month'),\n",
    "    yaxis=dict( title='Magnitude'),\n",
    "    zaxis=dict( title='Depth'),),)\n",
    "fig = go.Figure(data=scatter_plot, layout=layout)\n",
    "iplot(fig)\n",
    "        \n",
    "    "
   ]
  },
  {
   "cell_type": "markdown",
   "metadata": {},
   "source": [
    "In this plot, we can see the markers on average magnitude, average depth and year axis. Also, color range represents the maximum magnitude values of each year."
   ]
  },
  {
   "cell_type": "markdown",
   "metadata": {},
   "source": [
    "**- ANIMATION MAP:**"
   ]
  },
  {
   "cell_type": "code",
   "execution_count": 21,
   "metadata": {},
   "outputs": [
    {
     "data": {
      "application/vnd.plotly.v1+json": {
       "config": {
        "linkText": "Export to plot.ly",
        "plotlyServerURL": "https://plot.ly",
        "showLink": false
       },
       "data": [
        {
         "hoverinfo": "text",
         "lat": [
          2.5,
          2.73,
          2.71,
          2.37,
          2.62,
          2.54,
          2.49,
          2.48,
          2.55,
          2.49,
          2.54,
          2.52,
          2.51,
          2.7,
          2.45,
          2.46,
          2.55,
          2.36,
          2.51,
          2.48,
          2.61,
          2.45,
          2.51,
          2.66,
          2.59,
          2.46,
          2.48,
          2.5,
          2.5,
          2.26,
          2.38,
          2.39,
          2.39,
          2.39,
          2.39,
          2.39,
          2.39,
          2.55,
          2.56,
          2.39,
          2.42,
          2.38,
          2.38,
          2.42,
          2.37,
          2.41,
          2.36,
          2.65,
          2.62,
          2.57,
          2.58,
          2.63,
          2.57,
          2.56,
          2.5,
          2.56,
          2.46,
          2.54,
          2.63,
          2.43,
          2.5,
          2.54,
          2.47,
          2.53,
          2.54,
          2.55,
          2.52,
          2.57,
          2.53,
          2.56,
          2.45,
          2.61,
          2.63,
          2.58,
          2.56,
          2.53,
          2.56,
          2.51,
          2.56,
          2.54,
          2.48,
          2.34,
          2.58,
          2.52,
          2.88,
          2.54,
          2.61,
          2.35,
          2.61,
          2.49,
          2.59,
          2.58,
          2.53,
          2.6,
          2.39,
          2.84,
          2.52,
          2.46,
          2.52,
          2.41,
          2.52,
          2.49,
          2.49,
          2.54,
          2.53,
          2.5,
          2.49,
          2.48,
          2.52,
          2.52,
          2.45,
          2.48,
          2.67,
          2.54,
          2.54,
          2.58,
          2.54,
          2.52,
          2.46,
          2.55,
          2.45,
          2.5,
          2.51,
          2.64,
          2.63,
          2.37,
          2.6,
          2.61,
          2.5,
          2.68,
          2.33,
          2.5,
          2.53,
          2.55,
          2.63,
          2.61,
          2.64,
          2.5,
          2.5,
          2.63,
          2.61,
          2.6,
          2.59,
          2.54
         ],
         "lon": [
          99.25,
          98.82,
          98.83,
          98.88,
          98.85,
          98.83,
          98.79,
          98.82,
          98.67,
          98.83,
          98.79,
          98.8,
          98.78,
          98.68,
          98.8,
          98.78,
          98.82,
          98.98,
          98.84,
          98.84,
          98.65,
          98.9,
          98.83,
          98.81,
          98.73,
          98.88,
          98.87,
          98.8,
          98.86,
          99.03,
          98.88,
          98.84,
          98.85,
          98.86,
          98.85,
          98.85,
          98.86,
          98.83,
          98.77,
          98.86,
          98.83,
          98.87,
          98.88,
          98.88,
          98.85,
          98.86,
          98.84,
          98.8,
          98.76,
          98.83,
          98.85,
          98.77,
          98.82,
          98.8,
          98.8,
          98.79,
          98.82,
          98.8,
          98.8,
          98.78,
          98.78,
          98.78,
          98.82,
          98.81,
          98.79,
          98.77,
          98.78,
          98.8,
          98.81,
          98.81,
          98.86,
          98.74,
          98.69,
          98.61,
          98.8,
          98.76,
          98.82,
          98.79,
          98.75,
          98.81,
          98.84,
          98.81,
          98.78,
          98.84,
          98.48,
          98.8,
          97.78,
          98.93,
          98.92,
          98.95,
          98.82,
          98.83,
          98.84,
          98.8,
          98.89,
          98.51,
          98.79,
          98.8,
          98.81,
          98.85,
          98.77,
          98.87,
          98.84,
          98.76,
          98.8,
          98.84,
          98.83,
          98.85,
          98.82,
          98.86,
          98.84,
          98.87,
          98.65,
          98.79,
          98.64,
          98.65,
          98.67,
          98.81,
          98.85,
          98.81,
          98.9,
          98.83,
          98.81,
          98.7,
          98.67,
          98.93,
          98.84,
          98.81,
          98.82,
          98.72,
          98.85,
          98.86,
          98.82,
          98.76,
          98.76,
          98.84,
          98.71,
          98.82,
          98.83,
          98.73,
          98.7,
          98.75,
          98.73,
          98.84
         ],
         "marker": {
          "color": "rgb(94, 0, 0)",
          "line": {
           "color": "white",
           "width": 1
          },
          "opacity": 0.7,
          "size": 10,
          "sizemode": "area",
          "sizeref": 1
         },
         "mode": "markers",
         "text": "Earthquake",
         "type": "scattergeo"
        },
        {
         "hoverinfo": "text",
         "lat": [
          2.5,
          2.73,
          2.71,
          2.37,
          2.62,
          2.54,
          2.49,
          2.48,
          2.55,
          2.49,
          2.54,
          2.52,
          2.51,
          2.7,
          2.45,
          2.46,
          2.55,
          2.36,
          2.51,
          2.48,
          2.61,
          2.45,
          2.51,
          2.66,
          2.59,
          2.46,
          2.48,
          2.5,
          2.5,
          2.26,
          2.38,
          2.39,
          2.39,
          2.39,
          2.39,
          2.39,
          2.39,
          2.55,
          2.56,
          2.39,
          2.42,
          2.38,
          2.38,
          2.42,
          2.37,
          2.41,
          2.36,
          2.65,
          2.62,
          2.57,
          2.58,
          2.63,
          2.57,
          2.56,
          2.5,
          2.56,
          2.46,
          2.54,
          2.63,
          2.43,
          2.5,
          2.54,
          2.47,
          2.53,
          2.54,
          2.55,
          2.52,
          2.57,
          2.53,
          2.56,
          2.45,
          2.61,
          2.63,
          2.58,
          2.56,
          2.53,
          2.56,
          2.51,
          2.56,
          2.54,
          2.48,
          2.34,
          2.58,
          2.52,
          2.88,
          2.54,
          2.61,
          2.35,
          2.61,
          2.49,
          2.59,
          2.58,
          2.53,
          2.6,
          2.39,
          2.84,
          2.52,
          2.46,
          2.52,
          2.41,
          2.52,
          2.49,
          2.49,
          2.54,
          2.53,
          2.5,
          2.49,
          2.48,
          2.52,
          2.52,
          2.45,
          2.48,
          2.67,
          2.54,
          2.54,
          2.58,
          2.54,
          2.52,
          2.46,
          2.55,
          2.45,
          2.5,
          2.51,
          2.64,
          2.63,
          2.37,
          2.6,
          2.61,
          2.5,
          2.68,
          2.33,
          2.5,
          2.53,
          2.55,
          2.63,
          2.61,
          2.64,
          2.5,
          2.5,
          2.63,
          2.61,
          2.6,
          2.59,
          2.54
         ],
         "lon": [
          99.25,
          98.82,
          98.83,
          98.88,
          98.85,
          98.83,
          98.79,
          98.82,
          98.67,
          98.83,
          98.79,
          98.8,
          98.78,
          98.68,
          98.8,
          98.78,
          98.82,
          98.98,
          98.84,
          98.84,
          98.65,
          98.9,
          98.83,
          98.81,
          98.73,
          98.88,
          98.87,
          98.8,
          98.86,
          99.03,
          98.88,
          98.84,
          98.85,
          98.86,
          98.85,
          98.85,
          98.86,
          98.83,
          98.77,
          98.86,
          98.83,
          98.87,
          98.88,
          98.88,
          98.85,
          98.86,
          98.84,
          98.8,
          98.76,
          98.83,
          98.85,
          98.77,
          98.82,
          98.8,
          98.8,
          98.79,
          98.82,
          98.8,
          98.8,
          98.78,
          98.78,
          98.78,
          98.82,
          98.81,
          98.79,
          98.77,
          98.78,
          98.8,
          98.81,
          98.81,
          98.86,
          98.74,
          98.69,
          98.61,
          98.8,
          98.76,
          98.82,
          98.79,
          98.75,
          98.81,
          98.84,
          98.81,
          98.78,
          98.84,
          98.48,
          98.8,
          97.78,
          98.93,
          98.92,
          98.95,
          98.82,
          98.83,
          98.84,
          98.8,
          98.89,
          98.51,
          98.79,
          98.8,
          98.81,
          98.85,
          98.77,
          98.87,
          98.84,
          98.76,
          98.8,
          98.84,
          98.83,
          98.85,
          98.82,
          98.86,
          98.84,
          98.87,
          98.65,
          98.79,
          98.64,
          98.65,
          98.67,
          98.81,
          98.85,
          98.81,
          98.9,
          98.83,
          98.81,
          98.7,
          98.67,
          98.93,
          98.84,
          98.81,
          98.82,
          98.72,
          98.85,
          98.86,
          98.82,
          98.76,
          98.76,
          98.84,
          98.71,
          98.82,
          98.83,
          98.73,
          98.7,
          98.75,
          98.73,
          98.84
         ],
         "marker": {
          "color": "rgb(0, 11, 84)",
          "line": {
           "color": "white",
           "width": 1
          },
          "opacity": 0.7,
          "size": 10,
          "sizemode": "area",
          "sizeref": 1
         },
         "mode": "markers",
         "text": "Nuclear Explosion",
         "type": "scattergeo"
        },
        {
         "hoverinfo": "text",
         "lat": [
          2.5,
          2.73,
          2.71,
          2.37,
          2.62,
          2.54,
          2.49,
          2.48,
          2.55,
          2.49,
          2.54,
          2.52,
          2.51,
          2.7,
          2.45,
          2.46,
          2.55,
          2.36,
          2.51,
          2.48,
          2.61,
          2.45,
          2.51,
          2.66,
          2.59,
          2.46,
          2.48,
          2.5,
          2.5,
          2.26,
          2.38,
          2.39,
          2.39,
          2.39,
          2.39,
          2.39,
          2.39,
          2.55,
          2.56,
          2.39,
          2.42,
          2.38,
          2.38,
          2.42,
          2.37,
          2.41,
          2.36,
          2.65,
          2.62,
          2.57,
          2.58,
          2.63,
          2.57,
          2.56,
          2.5,
          2.56,
          2.46,
          2.54,
          2.63,
          2.43,
          2.5,
          2.54,
          2.47,
          2.53,
          2.54,
          2.55,
          2.52,
          2.57,
          2.53,
          2.56,
          2.45,
          2.61,
          2.63,
          2.58,
          2.56,
          2.53,
          2.56,
          2.51,
          2.56,
          2.54,
          2.48,
          2.34,
          2.58,
          2.52,
          2.88,
          2.54,
          2.61,
          2.35,
          2.61,
          2.49,
          2.59,
          2.58,
          2.53,
          2.6,
          2.39,
          2.84,
          2.52,
          2.46,
          2.52,
          2.41,
          2.52,
          2.49,
          2.49,
          2.54,
          2.53,
          2.5,
          2.49,
          2.48,
          2.52,
          2.52,
          2.45,
          2.48,
          2.67,
          2.54,
          2.54,
          2.58,
          2.54,
          2.52,
          2.46,
          2.55,
          2.45,
          2.5,
          2.51,
          2.64,
          2.63,
          2.37,
          2.6,
          2.61,
          2.5,
          2.68,
          2.33,
          2.5,
          2.53,
          2.55,
          2.63,
          2.61,
          2.64,
          2.5,
          2.5,
          2.63,
          2.61,
          2.6,
          2.59,
          2.54
         ],
         "lon": [
          99.25,
          98.82,
          98.83,
          98.88,
          98.85,
          98.83,
          98.79,
          98.82,
          98.67,
          98.83,
          98.79,
          98.8,
          98.78,
          98.68,
          98.8,
          98.78,
          98.82,
          98.98,
          98.84,
          98.84,
          98.65,
          98.9,
          98.83,
          98.81,
          98.73,
          98.88,
          98.87,
          98.8,
          98.86,
          99.03,
          98.88,
          98.84,
          98.85,
          98.86,
          98.85,
          98.85,
          98.86,
          98.83,
          98.77,
          98.86,
          98.83,
          98.87,
          98.88,
          98.88,
          98.85,
          98.86,
          98.84,
          98.8,
          98.76,
          98.83,
          98.85,
          98.77,
          98.82,
          98.8,
          98.8,
          98.79,
          98.82,
          98.8,
          98.8,
          98.78,
          98.78,
          98.78,
          98.82,
          98.81,
          98.79,
          98.77,
          98.78,
          98.8,
          98.81,
          98.81,
          98.86,
          98.74,
          98.69,
          98.61,
          98.8,
          98.76,
          98.82,
          98.79,
          98.75,
          98.81,
          98.84,
          98.81,
          98.78,
          98.84,
          98.48,
          98.8,
          97.78,
          98.93,
          98.92,
          98.95,
          98.82,
          98.83,
          98.84,
          98.8,
          98.89,
          98.51,
          98.79,
          98.8,
          98.81,
          98.85,
          98.77,
          98.87,
          98.84,
          98.76,
          98.8,
          98.84,
          98.83,
          98.85,
          98.82,
          98.86,
          98.84,
          98.87,
          98.65,
          98.79,
          98.64,
          98.65,
          98.67,
          98.81,
          98.85,
          98.81,
          98.9,
          98.83,
          98.81,
          98.7,
          98.67,
          98.93,
          98.84,
          98.81,
          98.82,
          98.72,
          98.85,
          98.86,
          98.82,
          98.76,
          98.76,
          98.84,
          98.71,
          98.82,
          98.83,
          98.73,
          98.7,
          98.75,
          98.73,
          98.84
         ],
         "marker": {
          "color": "rgb(99, 110, 250)",
          "line": {
           "color": "white",
           "width": 1
          },
          "opacity": 0.7,
          "size": 10,
          "sizemode": "area",
          "sizeref": 1
         },
         "mode": "markers",
         "text": "Explosion",
         "type": "scattergeo"
        },
        {
         "hoverinfo": "text",
         "lat": [
          2.5,
          2.73,
          2.71,
          2.37,
          2.62,
          2.54,
          2.49,
          2.48,
          2.55,
          2.49,
          2.54,
          2.52,
          2.51,
          2.7,
          2.45,
          2.46,
          2.55,
          2.36,
          2.51,
          2.48,
          2.61,
          2.45,
          2.51,
          2.66,
          2.59,
          2.46,
          2.48,
          2.5,
          2.5,
          2.26,
          2.38,
          2.39,
          2.39,
          2.39,
          2.39,
          2.39,
          2.39,
          2.55,
          2.56,
          2.39,
          2.42,
          2.38,
          2.38,
          2.42,
          2.37,
          2.41,
          2.36,
          2.65,
          2.62,
          2.57,
          2.58,
          2.63,
          2.57,
          2.56,
          2.5,
          2.56,
          2.46,
          2.54,
          2.63,
          2.43,
          2.5,
          2.54,
          2.47,
          2.53,
          2.54,
          2.55,
          2.52,
          2.57,
          2.53,
          2.56,
          2.45,
          2.61,
          2.63,
          2.58,
          2.56,
          2.53,
          2.56,
          2.51,
          2.56,
          2.54,
          2.48,
          2.34,
          2.58,
          2.52,
          2.88,
          2.54,
          2.61,
          2.35,
          2.61,
          2.49,
          2.59,
          2.58,
          2.53,
          2.6,
          2.39,
          2.84,
          2.52,
          2.46,
          2.52,
          2.41,
          2.52,
          2.49,
          2.49,
          2.54,
          2.53,
          2.5,
          2.49,
          2.48,
          2.52,
          2.52,
          2.45,
          2.48,
          2.67,
          2.54,
          2.54,
          2.58,
          2.54,
          2.52,
          2.46,
          2.55,
          2.45,
          2.5,
          2.51,
          2.64,
          2.63,
          2.37,
          2.6,
          2.61,
          2.5,
          2.68,
          2.33,
          2.5,
          2.53,
          2.55,
          2.63,
          2.61,
          2.64,
          2.5,
          2.5,
          2.63,
          2.61,
          2.6,
          2.59,
          2.54
         ],
         "lon": [
          99.25,
          98.82,
          98.83,
          98.88,
          98.85,
          98.83,
          98.79,
          98.82,
          98.67,
          98.83,
          98.79,
          98.8,
          98.78,
          98.68,
          98.8,
          98.78,
          98.82,
          98.98,
          98.84,
          98.84,
          98.65,
          98.9,
          98.83,
          98.81,
          98.73,
          98.88,
          98.87,
          98.8,
          98.86,
          99.03,
          98.88,
          98.84,
          98.85,
          98.86,
          98.85,
          98.85,
          98.86,
          98.83,
          98.77,
          98.86,
          98.83,
          98.87,
          98.88,
          98.88,
          98.85,
          98.86,
          98.84,
          98.8,
          98.76,
          98.83,
          98.85,
          98.77,
          98.82,
          98.8,
          98.8,
          98.79,
          98.82,
          98.8,
          98.8,
          98.78,
          98.78,
          98.78,
          98.82,
          98.81,
          98.79,
          98.77,
          98.78,
          98.8,
          98.81,
          98.81,
          98.86,
          98.74,
          98.69,
          98.61,
          98.8,
          98.76,
          98.82,
          98.79,
          98.75,
          98.81,
          98.84,
          98.81,
          98.78,
          98.84,
          98.48,
          98.8,
          97.78,
          98.93,
          98.92,
          98.95,
          98.82,
          98.83,
          98.84,
          98.8,
          98.89,
          98.51,
          98.79,
          98.8,
          98.81,
          98.85,
          98.77,
          98.87,
          98.84,
          98.76,
          98.8,
          98.84,
          98.83,
          98.85,
          98.82,
          98.86,
          98.84,
          98.87,
          98.65,
          98.79,
          98.64,
          98.65,
          98.67,
          98.81,
          98.85,
          98.81,
          98.9,
          98.83,
          98.81,
          98.7,
          98.67,
          98.93,
          98.84,
          98.81,
          98.82,
          98.72,
          98.85,
          98.86,
          98.82,
          98.76,
          98.76,
          98.84,
          98.71,
          98.82,
          98.83,
          98.73,
          98.7,
          98.75,
          98.73,
          98.84
         ],
         "marker": {
          "color": "rgb(27, 27, 27)",
          "line": {
           "color": "white",
           "width": 1
          },
          "opacity": 0.7,
          "size": 10,
          "sizemode": "area",
          "sizeref": 1
         },
         "mode": "markers",
         "text": "Rock Burst",
         "type": "scattergeo"
        }
       ],
       "frames": [
        {
         "data": [
          {
           "hoverinfo": "text",
           "lat": [
            2.5
           ],
           "lon": [
            99.25
           ],
           "marker": {
            "color": "rgb(94, 0, 0)",
            "line": {
             "color": "white",
             "width": 1
            },
            "opacity": 0.7,
            "size": 10,
            "sizemode": "area",
            "sizeref": 1
           },
           "mode": "markers",
           "name": "Earthquake",
           "text": "Earthquake",
           "type": "scattergeo"
          },
          {
           "hoverinfo": "text",
           "lat": [],
           "lon": [],
           "marker": {
            "color": "rgb(0, 11, 84)",
            "line": {
             "color": "white",
             "width": 1
            },
            "opacity": 0.7,
            "size": 10,
            "sizemode": "area",
            "sizeref": 1
           },
           "mode": "markers",
           "name": "Nuclear Explosion",
           "text": "Nuclear Explosion",
           "type": "scattergeo"
          },
          {
           "hoverinfo": "text",
           "lat": [],
           "lon": [],
           "marker": {
            "color": "rgb(99, 110, 250)",
            "line": {
             "color": "white",
             "width": 1
            },
            "opacity": 0.7,
            "size": 10,
            "sizemode": "area",
            "sizeref": 1
           },
           "mode": "markers",
           "name": "Explosion",
           "text": "Explosion",
           "type": "scattergeo"
          },
          {
           "hoverinfo": "text",
           "lat": [],
           "lon": [],
           "marker": {
            "color": "rgb(27, 27, 27)",
            "line": {
             "color": "white",
             "width": 1
            },
            "opacity": 0.7,
            "size": 10,
            "sizemode": "area",
            "sizeref": 1
           },
           "mode": "markers",
           "name": "Rock Burst",
           "text": "Rock Burst",
           "type": "scattergeo"
          }
         ],
         "name": "1"
        },
        {
         "data": [
          {
           "hoverinfo": "text",
           "lat": [
            2.73,
            2.71,
            2.37,
            2.62,
            2.54,
            2.49,
            2.48,
            2.55
           ],
           "lon": [
            98.82,
            98.83,
            98.88,
            98.85,
            98.83,
            98.79,
            98.82,
            98.67
           ],
           "marker": {
            "color": "rgb(94, 0, 0)",
            "line": {
             "color": "white",
             "width": 1
            },
            "opacity": 0.7,
            "size": 10,
            "sizemode": "area",
            "sizeref": 1
           },
           "mode": "markers",
           "name": "Earthquake",
           "text": "Earthquake",
           "type": "scattergeo"
          },
          {
           "hoverinfo": "text",
           "lat": [],
           "lon": [],
           "marker": {
            "color": "rgb(0, 11, 84)",
            "line": {
             "color": "white",
             "width": 1
            },
            "opacity": 0.7,
            "size": 10,
            "sizemode": "area",
            "sizeref": 1
           },
           "mode": "markers",
           "name": "Nuclear Explosion",
           "text": "Nuclear Explosion",
           "type": "scattergeo"
          },
          {
           "hoverinfo": "text",
           "lat": [],
           "lon": [],
           "marker": {
            "color": "rgb(99, 110, 250)",
            "line": {
             "color": "white",
             "width": 1
            },
            "opacity": 0.7,
            "size": 10,
            "sizemode": "area",
            "sizeref": 1
           },
           "mode": "markers",
           "name": "Explosion",
           "text": "Explosion",
           "type": "scattergeo"
          },
          {
           "hoverinfo": "text",
           "lat": [],
           "lon": [],
           "marker": {
            "color": "rgb(27, 27, 27)",
            "line": {
             "color": "white",
             "width": 1
            },
            "opacity": 0.7,
            "size": 10,
            "sizemode": "area",
            "sizeref": 1
           },
           "mode": "markers",
           "name": "Rock Burst",
           "text": "Rock Burst",
           "type": "scattergeo"
          }
         ],
         "name": "2"
        },
        {
         "data": [
          {
           "hoverinfo": "text",
           "lat": [
            2.49,
            2.54,
            2.52,
            2.51,
            2.7,
            2.45,
            2.46,
            2.55,
            2.36,
            2.51,
            2.48,
            2.61,
            2.45,
            2.51,
            2.66,
            2.59,
            2.46,
            2.48,
            2.5,
            2.5,
            2.26
           ],
           "lon": [
            98.83,
            98.79,
            98.8,
            98.78,
            98.68,
            98.8,
            98.78,
            98.82,
            98.98,
            98.84,
            98.84,
            98.65,
            98.9,
            98.83,
            98.81,
            98.73,
            98.88,
            98.87,
            98.8,
            98.86,
            99.03
           ],
           "marker": {
            "color": "rgb(94, 0, 0)",
            "line": {
             "color": "white",
             "width": 1
            },
            "opacity": 0.7,
            "size": 10,
            "sizemode": "area",
            "sizeref": 1
           },
           "mode": "markers",
           "name": "Earthquake",
           "text": "Earthquake",
           "type": "scattergeo"
          },
          {
           "hoverinfo": "text",
           "lat": [],
           "lon": [],
           "marker": {
            "color": "rgb(0, 11, 84)",
            "line": {
             "color": "white",
             "width": 1
            },
            "opacity": 0.7,
            "size": 10,
            "sizemode": "area",
            "sizeref": 1
           },
           "mode": "markers",
           "name": "Nuclear Explosion",
           "text": "Nuclear Explosion",
           "type": "scattergeo"
          },
          {
           "hoverinfo": "text",
           "lat": [],
           "lon": [],
           "marker": {
            "color": "rgb(99, 110, 250)",
            "line": {
             "color": "white",
             "width": 1
            },
            "opacity": 0.7,
            "size": 10,
            "sizemode": "area",
            "sizeref": 1
           },
           "mode": "markers",
           "name": "Explosion",
           "text": "Explosion",
           "type": "scattergeo"
          },
          {
           "hoverinfo": "text",
           "lat": [],
           "lon": [],
           "marker": {
            "color": "rgb(27, 27, 27)",
            "line": {
             "color": "white",
             "width": 1
            },
            "opacity": 0.7,
            "size": 10,
            "sizemode": "area",
            "sizeref": 1
           },
           "mode": "markers",
           "name": "Rock Burst",
           "text": "Rock Burst",
           "type": "scattergeo"
          }
         ],
         "name": "3"
        },
        {
         "data": [
          {
           "hoverinfo": "text",
           "lat": [
            2.38,
            2.39,
            2.39,
            2.39,
            2.39,
            2.39,
            2.39,
            2.55,
            2.56,
            2.39,
            2.42,
            2.38,
            2.38,
            2.42,
            2.37,
            2.41,
            2.36,
            2.65,
            2.62,
            2.57,
            2.58,
            2.63,
            2.57,
            2.56,
            2.5,
            2.56,
            2.46,
            2.54,
            2.63,
            2.43,
            2.5,
            2.54,
            2.47,
            2.53,
            2.54,
            2.55,
            2.52,
            2.57,
            2.53,
            2.56,
            2.45,
            2.61,
            2.63,
            2.58,
            2.56,
            2.53,
            2.56,
            2.51,
            2.56,
            2.54,
            2.48,
            2.34,
            2.58,
            2.52,
            2.88
           ],
           "lon": [
            98.88,
            98.84,
            98.85,
            98.86,
            98.85,
            98.85,
            98.86,
            98.83,
            98.77,
            98.86,
            98.83,
            98.87,
            98.88,
            98.88,
            98.85,
            98.86,
            98.84,
            98.8,
            98.76,
            98.83,
            98.85,
            98.77,
            98.82,
            98.8,
            98.8,
            98.79,
            98.82,
            98.8,
            98.8,
            98.78,
            98.78,
            98.78,
            98.82,
            98.81,
            98.79,
            98.77,
            98.78,
            98.8,
            98.81,
            98.81,
            98.86,
            98.74,
            98.69,
            98.61,
            98.8,
            98.76,
            98.82,
            98.79,
            98.75,
            98.81,
            98.84,
            98.81,
            98.78,
            98.84,
            98.48
           ],
           "marker": {
            "color": "rgb(94, 0, 0)",
            "line": {
             "color": "white",
             "width": 1
            },
            "opacity": 0.7,
            "size": 10,
            "sizemode": "area",
            "sizeref": 1
           },
           "mode": "markers",
           "name": "Earthquake",
           "text": "Earthquake",
           "type": "scattergeo"
          },
          {
           "hoverinfo": "text",
           "lat": [],
           "lon": [],
           "marker": {
            "color": "rgb(0, 11, 84)",
            "line": {
             "color": "white",
             "width": 1
            },
            "opacity": 0.7,
            "size": 10,
            "sizemode": "area",
            "sizeref": 1
           },
           "mode": "markers",
           "name": "Nuclear Explosion",
           "text": "Nuclear Explosion",
           "type": "scattergeo"
          },
          {
           "hoverinfo": "text",
           "lat": [],
           "lon": [],
           "marker": {
            "color": "rgb(99, 110, 250)",
            "line": {
             "color": "white",
             "width": 1
            },
            "opacity": 0.7,
            "size": 10,
            "sizemode": "area",
            "sizeref": 1
           },
           "mode": "markers",
           "name": "Explosion",
           "text": "Explosion",
           "type": "scattergeo"
          },
          {
           "hoverinfo": "text",
           "lat": [],
           "lon": [],
           "marker": {
            "color": "rgb(27, 27, 27)",
            "line": {
             "color": "white",
             "width": 1
            },
            "opacity": 0.7,
            "size": 10,
            "sizemode": "area",
            "sizeref": 1
           },
           "mode": "markers",
           "name": "Rock Burst",
           "text": "Rock Burst",
           "type": "scattergeo"
          }
         ],
         "name": "4"
        },
        {
         "data": [
          {
           "hoverinfo": "text",
           "lat": [
            2.54,
            2.61,
            2.35,
            2.61,
            2.49,
            2.59,
            2.58,
            2.53,
            2.6,
            2.39,
            2.84,
            2.52,
            2.46,
            2.52,
            2.41,
            2.52,
            2.49,
            2.49,
            2.54,
            2.53,
            2.5,
            2.49,
            2.48,
            2.52,
            2.52,
            2.45,
            2.48,
            2.67,
            2.54,
            2.54,
            2.58,
            2.54,
            2.52,
            2.46,
            2.55,
            2.45,
            2.5,
            2.51,
            2.64,
            2.63,
            2.37,
            2.6,
            2.61,
            2.5,
            2.68,
            2.33,
            2.5,
            2.53,
            2.55,
            2.63,
            2.61,
            2.64,
            2.5,
            2.5,
            2.63,
            2.61,
            2.6,
            2.59,
            2.54
           ],
           "lon": [
            98.8,
            97.78,
            98.93,
            98.92,
            98.95,
            98.82,
            98.83,
            98.84,
            98.8,
            98.89,
            98.51,
            98.79,
            98.8,
            98.81,
            98.85,
            98.77,
            98.87,
            98.84,
            98.76,
            98.8,
            98.84,
            98.83,
            98.85,
            98.82,
            98.86,
            98.84,
            98.87,
            98.65,
            98.79,
            98.64,
            98.65,
            98.67,
            98.81,
            98.85,
            98.81,
            98.9,
            98.83,
            98.81,
            98.7,
            98.67,
            98.93,
            98.84,
            98.81,
            98.82,
            98.72,
            98.85,
            98.86,
            98.82,
            98.76,
            98.76,
            98.84,
            98.71,
            98.82,
            98.83,
            98.73,
            98.7,
            98.75,
            98.73,
            98.84
           ],
           "marker": {
            "color": "rgb(94, 0, 0)",
            "line": {
             "color": "white",
             "width": 1
            },
            "opacity": 0.7,
            "size": 10,
            "sizemode": "area",
            "sizeref": 1
           },
           "mode": "markers",
           "name": "Earthquake",
           "text": "Earthquake",
           "type": "scattergeo"
          },
          {
           "hoverinfo": "text",
           "lat": [],
           "lon": [],
           "marker": {
            "color": "rgb(0, 11, 84)",
            "line": {
             "color": "white",
             "width": 1
            },
            "opacity": 0.7,
            "size": 10,
            "sizemode": "area",
            "sizeref": 1
           },
           "mode": "markers",
           "name": "Nuclear Explosion",
           "text": "Nuclear Explosion",
           "type": "scattergeo"
          },
          {
           "hoverinfo": "text",
           "lat": [],
           "lon": [],
           "marker": {
            "color": "rgb(99, 110, 250)",
            "line": {
             "color": "white",
             "width": 1
            },
            "opacity": 0.7,
            "size": 10,
            "sizemode": "area",
            "sizeref": 1
           },
           "mode": "markers",
           "name": "Explosion",
           "text": "Explosion",
           "type": "scattergeo"
          },
          {
           "hoverinfo": "text",
           "lat": [],
           "lon": [],
           "marker": {
            "color": "rgb(27, 27, 27)",
            "line": {
             "color": "white",
             "width": 1
            },
            "opacity": 0.7,
            "size": 10,
            "sizemode": "area",
            "sizeref": 1
           },
           "mode": "markers",
           "name": "Rock Burst",
           "text": "Rock Burst",
           "type": "scattergeo"
          }
         ],
         "name": "5"
        }
       ],
       "layout": {
        "autosize": true,
        "geo": {
         "countrycolor": "rgb(209,209,209)",
         "countrywidth": 0.8,
         "lakecolor": "rgb(211,255,255)",
         "landcolor": "rgb(157,255,125)",
         "showcoastlines": true,
         "showcountries": true,
         "showframe": false,
         "showlakes": true,
         "showland": true,
         "subunitwidth": 1
        },
        "hovermode": "closest",
        "sliders": [
         {
          "active": 0,
          "currentvalue": {
           "font": {
            "size": 20
           },
           "prefix": "Month:",
           "visible": true,
           "xanchor": "right"
          },
          "len": 0.9,
          "pad": {
           "b": 10,
           "t": 50
          },
          "steps": [
           {
            "args": [
             [
              "1"
             ],
             {
              "frame": {
               "duration": 300,
               "redraw": false
              },
              "mode": "immediate",
              "transition": {
               "duration": 300
              }
             }
            ],
            "label": "1",
            "method": "animate"
           },
           {
            "args": [
             [
              "2"
             ],
             {
              "frame": {
               "duration": 300,
               "redraw": false
              },
              "mode": "immediate",
              "transition": {
               "duration": 300
              }
             }
            ],
            "label": "2",
            "method": "animate"
           },
           {
            "args": [
             [
              "3"
             ],
             {
              "frame": {
               "duration": 300,
               "redraw": false
              },
              "mode": "immediate",
              "transition": {
               "duration": 300
              }
             }
            ],
            "label": "3",
            "method": "animate"
           },
           {
            "args": [
             [
              "4"
             ],
             {
              "frame": {
               "duration": 300,
               "redraw": false
              },
              "mode": "immediate",
              "transition": {
               "duration": 300
              }
             }
            ],
            "label": "4",
            "method": "animate"
           },
           {
            "args": [
             [
              "5"
             ],
             {
              "frame": {
               "duration": 300,
               "redraw": false
              },
              "mode": "immediate",
              "transition": {
               "duration": 300
              }
             }
            ],
            "label": "5",
            "method": "animate"
           }
          ],
          "transition": {
           "duration": 300,
           "easing": "cubic-in-out"
          },
          "x": 0.1,
          "xanchor": "left",
          "y": 0,
          "yanchor": "top"
         }
        ],
        "template": {
         "data": {
          "bar": [
           {
            "error_x": {
             "color": "#2a3f5f"
            },
            "error_y": {
             "color": "#2a3f5f"
            },
            "marker": {
             "line": {
              "color": "#E5ECF6",
              "width": 0.5
             },
             "pattern": {
              "fillmode": "overlay",
              "size": 10,
              "solidity": 0.2
             }
            },
            "type": "bar"
           }
          ],
          "barpolar": [
           {
            "marker": {
             "line": {
              "color": "#E5ECF6",
              "width": 0.5
             },
             "pattern": {
              "fillmode": "overlay",
              "size": 10,
              "solidity": 0.2
             }
            },
            "type": "barpolar"
           }
          ],
          "carpet": [
           {
            "aaxis": {
             "endlinecolor": "#2a3f5f",
             "gridcolor": "white",
             "linecolor": "white",
             "minorgridcolor": "white",
             "startlinecolor": "#2a3f5f"
            },
            "baxis": {
             "endlinecolor": "#2a3f5f",
             "gridcolor": "white",
             "linecolor": "white",
             "minorgridcolor": "white",
             "startlinecolor": "#2a3f5f"
            },
            "type": "carpet"
           }
          ],
          "choropleth": [
           {
            "colorbar": {
             "outlinewidth": 0,
             "ticks": ""
            },
            "type": "choropleth"
           }
          ],
          "contour": [
           {
            "colorbar": {
             "outlinewidth": 0,
             "ticks": ""
            },
            "colorscale": [
             [
              0,
              "#0d0887"
             ],
             [
              0.1111111111111111,
              "#46039f"
             ],
             [
              0.2222222222222222,
              "#7201a8"
             ],
             [
              0.3333333333333333,
              "#9c179e"
             ],
             [
              0.4444444444444444,
              "#bd3786"
             ],
             [
              0.5555555555555556,
              "#d8576b"
             ],
             [
              0.6666666666666666,
              "#ed7953"
             ],
             [
              0.7777777777777778,
              "#fb9f3a"
             ],
             [
              0.8888888888888888,
              "#fdca26"
             ],
             [
              1,
              "#f0f921"
             ]
            ],
            "type": "contour"
           }
          ],
          "contourcarpet": [
           {
            "colorbar": {
             "outlinewidth": 0,
             "ticks": ""
            },
            "type": "contourcarpet"
           }
          ],
          "heatmap": [
           {
            "colorbar": {
             "outlinewidth": 0,
             "ticks": ""
            },
            "colorscale": [
             [
              0,
              "#0d0887"
             ],
             [
              0.1111111111111111,
              "#46039f"
             ],
             [
              0.2222222222222222,
              "#7201a8"
             ],
             [
              0.3333333333333333,
              "#9c179e"
             ],
             [
              0.4444444444444444,
              "#bd3786"
             ],
             [
              0.5555555555555556,
              "#d8576b"
             ],
             [
              0.6666666666666666,
              "#ed7953"
             ],
             [
              0.7777777777777778,
              "#fb9f3a"
             ],
             [
              0.8888888888888888,
              "#fdca26"
             ],
             [
              1,
              "#f0f921"
             ]
            ],
            "type": "heatmap"
           }
          ],
          "heatmapgl": [
           {
            "colorbar": {
             "outlinewidth": 0,
             "ticks": ""
            },
            "colorscale": [
             [
              0,
              "#0d0887"
             ],
             [
              0.1111111111111111,
              "#46039f"
             ],
             [
              0.2222222222222222,
              "#7201a8"
             ],
             [
              0.3333333333333333,
              "#9c179e"
             ],
             [
              0.4444444444444444,
              "#bd3786"
             ],
             [
              0.5555555555555556,
              "#d8576b"
             ],
             [
              0.6666666666666666,
              "#ed7953"
             ],
             [
              0.7777777777777778,
              "#fb9f3a"
             ],
             [
              0.8888888888888888,
              "#fdca26"
             ],
             [
              1,
              "#f0f921"
             ]
            ],
            "type": "heatmapgl"
           }
          ],
          "histogram": [
           {
            "marker": {
             "pattern": {
              "fillmode": "overlay",
              "size": 10,
              "solidity": 0.2
             }
            },
            "type": "histogram"
           }
          ],
          "histogram2d": [
           {
            "colorbar": {
             "outlinewidth": 0,
             "ticks": ""
            },
            "colorscale": [
             [
              0,
              "#0d0887"
             ],
             [
              0.1111111111111111,
              "#46039f"
             ],
             [
              0.2222222222222222,
              "#7201a8"
             ],
             [
              0.3333333333333333,
              "#9c179e"
             ],
             [
              0.4444444444444444,
              "#bd3786"
             ],
             [
              0.5555555555555556,
              "#d8576b"
             ],
             [
              0.6666666666666666,
              "#ed7953"
             ],
             [
              0.7777777777777778,
              "#fb9f3a"
             ],
             [
              0.8888888888888888,
              "#fdca26"
             ],
             [
              1,
              "#f0f921"
             ]
            ],
            "type": "histogram2d"
           }
          ],
          "histogram2dcontour": [
           {
            "colorbar": {
             "outlinewidth": 0,
             "ticks": ""
            },
            "colorscale": [
             [
              0,
              "#0d0887"
             ],
             [
              0.1111111111111111,
              "#46039f"
             ],
             [
              0.2222222222222222,
              "#7201a8"
             ],
             [
              0.3333333333333333,
              "#9c179e"
             ],
             [
              0.4444444444444444,
              "#bd3786"
             ],
             [
              0.5555555555555556,
              "#d8576b"
             ],
             [
              0.6666666666666666,
              "#ed7953"
             ],
             [
              0.7777777777777778,
              "#fb9f3a"
             ],
             [
              0.8888888888888888,
              "#fdca26"
             ],
             [
              1,
              "#f0f921"
             ]
            ],
            "type": "histogram2dcontour"
           }
          ],
          "mesh3d": [
           {
            "colorbar": {
             "outlinewidth": 0,
             "ticks": ""
            },
            "type": "mesh3d"
           }
          ],
          "parcoords": [
           {
            "line": {
             "colorbar": {
              "outlinewidth": 0,
              "ticks": ""
             }
            },
            "type": "parcoords"
           }
          ],
          "pie": [
           {
            "automargin": true,
            "type": "pie"
           }
          ],
          "scatter": [
           {
            "marker": {
             "colorbar": {
              "outlinewidth": 0,
              "ticks": ""
             }
            },
            "type": "scatter"
           }
          ],
          "scatter3d": [
           {
            "line": {
             "colorbar": {
              "outlinewidth": 0,
              "ticks": ""
             }
            },
            "marker": {
             "colorbar": {
              "outlinewidth": 0,
              "ticks": ""
             }
            },
            "type": "scatter3d"
           }
          ],
          "scattercarpet": [
           {
            "marker": {
             "colorbar": {
              "outlinewidth": 0,
              "ticks": ""
             }
            },
            "type": "scattercarpet"
           }
          ],
          "scattergeo": [
           {
            "marker": {
             "colorbar": {
              "outlinewidth": 0,
              "ticks": ""
             }
            },
            "type": "scattergeo"
           }
          ],
          "scattergl": [
           {
            "marker": {
             "colorbar": {
              "outlinewidth": 0,
              "ticks": ""
             }
            },
            "type": "scattergl"
           }
          ],
          "scattermapbox": [
           {
            "marker": {
             "colorbar": {
              "outlinewidth": 0,
              "ticks": ""
             }
            },
            "type": "scattermapbox"
           }
          ],
          "scatterpolar": [
           {
            "marker": {
             "colorbar": {
              "outlinewidth": 0,
              "ticks": ""
             }
            },
            "type": "scatterpolar"
           }
          ],
          "scatterpolargl": [
           {
            "marker": {
             "colorbar": {
              "outlinewidth": 0,
              "ticks": ""
             }
            },
            "type": "scatterpolargl"
           }
          ],
          "scatterternary": [
           {
            "marker": {
             "colorbar": {
              "outlinewidth": 0,
              "ticks": ""
             }
            },
            "type": "scatterternary"
           }
          ],
          "surface": [
           {
            "colorbar": {
             "outlinewidth": 0,
             "ticks": ""
            },
            "colorscale": [
             [
              0,
              "#0d0887"
             ],
             [
              0.1111111111111111,
              "#46039f"
             ],
             [
              0.2222222222222222,
              "#7201a8"
             ],
             [
              0.3333333333333333,
              "#9c179e"
             ],
             [
              0.4444444444444444,
              "#bd3786"
             ],
             [
              0.5555555555555556,
              "#d8576b"
             ],
             [
              0.6666666666666666,
              "#ed7953"
             ],
             [
              0.7777777777777778,
              "#fb9f3a"
             ],
             [
              0.8888888888888888,
              "#fdca26"
             ],
             [
              1,
              "#f0f921"
             ]
            ],
            "type": "surface"
           }
          ],
          "table": [
           {
            "cells": {
             "fill": {
              "color": "#EBF0F8"
             },
             "line": {
              "color": "white"
             }
            },
            "header": {
             "fill": {
              "color": "#C8D4E3"
             },
             "line": {
              "color": "white"
             }
            },
            "type": "table"
           }
          ]
         },
         "layout": {
          "annotationdefaults": {
           "arrowcolor": "#2a3f5f",
           "arrowhead": 0,
           "arrowwidth": 1
          },
          "autotypenumbers": "strict",
          "coloraxis": {
           "colorbar": {
            "outlinewidth": 0,
            "ticks": ""
           }
          },
          "colorscale": {
           "diverging": [
            [
             0,
             "#8e0152"
            ],
            [
             0.1,
             "#c51b7d"
            ],
            [
             0.2,
             "#de77ae"
            ],
            [
             0.3,
             "#f1b6da"
            ],
            [
             0.4,
             "#fde0ef"
            ],
            [
             0.5,
             "#f7f7f7"
            ],
            [
             0.6,
             "#e6f5d0"
            ],
            [
             0.7,
             "#b8e186"
            ],
            [
             0.8,
             "#7fbc41"
            ],
            [
             0.9,
             "#4d9221"
            ],
            [
             1,
             "#276419"
            ]
           ],
           "sequential": [
            [
             0,
             "#0d0887"
            ],
            [
             0.1111111111111111,
             "#46039f"
            ],
            [
             0.2222222222222222,
             "#7201a8"
            ],
            [
             0.3333333333333333,
             "#9c179e"
            ],
            [
             0.4444444444444444,
             "#bd3786"
            ],
            [
             0.5555555555555556,
             "#d8576b"
            ],
            [
             0.6666666666666666,
             "#ed7953"
            ],
            [
             0.7777777777777778,
             "#fb9f3a"
            ],
            [
             0.8888888888888888,
             "#fdca26"
            ],
            [
             1,
             "#f0f921"
            ]
           ],
           "sequentialminus": [
            [
             0,
             "#0d0887"
            ],
            [
             0.1111111111111111,
             "#46039f"
            ],
            [
             0.2222222222222222,
             "#7201a8"
            ],
            [
             0.3333333333333333,
             "#9c179e"
            ],
            [
             0.4444444444444444,
             "#bd3786"
            ],
            [
             0.5555555555555556,
             "#d8576b"
            ],
            [
             0.6666666666666666,
             "#ed7953"
            ],
            [
             0.7777777777777778,
             "#fb9f3a"
            ],
            [
             0.8888888888888888,
             "#fdca26"
            ],
            [
             1,
             "#f0f921"
            ]
           ]
          },
          "colorway": [
           "#636efa",
           "#EF553B",
           "#00cc96",
           "#ab63fa",
           "#FFA15A",
           "#19d3f3",
           "#FF6692",
           "#B6E880",
           "#FF97FF",
           "#FECB52"
          ],
          "font": {
           "color": "#2a3f5f"
          },
          "geo": {
           "bgcolor": "white",
           "lakecolor": "white",
           "landcolor": "#E5ECF6",
           "showlakes": true,
           "showland": true,
           "subunitcolor": "white"
          },
          "hoverlabel": {
           "align": "left"
          },
          "hovermode": "closest",
          "mapbox": {
           "style": "light"
          },
          "paper_bgcolor": "white",
          "plot_bgcolor": "#E5ECF6",
          "polar": {
           "angularaxis": {
            "gridcolor": "white",
            "linecolor": "white",
            "ticks": ""
           },
           "bgcolor": "#E5ECF6",
           "radialaxis": {
            "gridcolor": "white",
            "linecolor": "white",
            "ticks": ""
           }
          },
          "scene": {
           "xaxis": {
            "backgroundcolor": "#E5ECF6",
            "gridcolor": "white",
            "gridwidth": 2,
            "linecolor": "white",
            "showbackground": true,
            "ticks": "",
            "zerolinecolor": "white"
           },
           "yaxis": {
            "backgroundcolor": "#E5ECF6",
            "gridcolor": "white",
            "gridwidth": 2,
            "linecolor": "white",
            "showbackground": true,
            "ticks": "",
            "zerolinecolor": "white"
           },
           "zaxis": {
            "backgroundcolor": "#E5ECF6",
            "gridcolor": "white",
            "gridwidth": 2,
            "linecolor": "white",
            "showbackground": true,
            "ticks": "",
            "zerolinecolor": "white"
           }
          },
          "shapedefaults": {
           "line": {
            "color": "#2a3f5f"
           }
          },
          "ternary": {
           "aaxis": {
            "gridcolor": "white",
            "linecolor": "white",
            "ticks": ""
           },
           "baxis": {
            "gridcolor": "white",
            "linecolor": "white",
            "ticks": ""
           },
           "bgcolor": "#E5ECF6",
           "caxis": {
            "gridcolor": "white",
            "linecolor": "white",
            "ticks": ""
           }
          },
          "title": {
           "x": 0.05
          },
          "xaxis": {
           "automargin": true,
           "gridcolor": "white",
           "linecolor": "white",
           "ticks": "",
           "title": {
            "standoff": 15
           },
           "zerolinecolor": "white",
           "zerolinewidth": 2
          },
          "yaxis": {
           "automargin": true,
           "gridcolor": "white",
           "linecolor": "white",
           "ticks": "",
           "title": {
            "standoff": 15
           },
           "zerolinecolor": "white",
           "zerolinewidth": 2
          }
         }
        },
        "title": {
         "text": "EARTHQUAKE"
        },
        "updatemenus": [
         {
          "buttons": [
           {
            "args": [
             null,
             {
              "frame": {
               "duration": 500,
               "redraw": false
              },
              "fromcurrent": true,
              "transition": {
               "duration": 300,
               "easing": "quadratic-in-out"
              }
             }
            ],
            "label": "Play",
            "method": "animate"
           },
           {
            "args": [
             [
              null
             ],
             {
              "frame": {
               "duration": 0,
               "redraw": false
              },
              "mode": "immediate",
              "transition": {
               "duration": 0
              }
             }
            ],
            "label": "Pause",
            "method": "animate"
           }
          ],
          "direction": "left",
          "pad": {
           "r": 10,
           "t": 87
          },
          "showactive": false,
          "type": "buttons",
          "x": 0.1,
          "xanchor": "right",
          "y": 0,
          "yanchor": "top"
         }
        ]
       }
      },
      "text/html": [
       "<div>                            <div id=\"a6a34c26-91cf-4229-b443-79b4ec022270\" class=\"plotly-graph-div\" style=\"height:525px; width:100%;\"></div>            <script type=\"text/javascript\">                require([\"plotly\"], function(Plotly) {                    window.PLOTLYENV=window.PLOTLYENV || {};                                    if (document.getElementById(\"a6a34c26-91cf-4229-b443-79b4ec022270\")) {                    Plotly.newPlot(                        \"a6a34c26-91cf-4229-b443-79b4ec022270\",                        [{\"hoverinfo\":\"text\",\"lat\":[2.5,2.73,2.71,2.37,2.62,2.54,2.49,2.48,2.55,2.49,2.54,2.52,2.51,2.7,2.45,2.46,2.55,2.36,2.51,2.48,2.61,2.45,2.51,2.66,2.59,2.46,2.48,2.5,2.5,2.26,2.38,2.39,2.39,2.39,2.39,2.39,2.39,2.55,2.56,2.39,2.42,2.38,2.38,2.42,2.37,2.41,2.36,2.65,2.62,2.57,2.58,2.63,2.57,2.56,2.5,2.56,2.46,2.54,2.63,2.43,2.5,2.54,2.47,2.53,2.54,2.55,2.52,2.57,2.53,2.56,2.45,2.61,2.63,2.58,2.56,2.53,2.56,2.51,2.56,2.54,2.48,2.34,2.58,2.52,2.88,2.54,2.61,2.35,2.61,2.49,2.59,2.58,2.53,2.6,2.39,2.84,2.52,2.46,2.52,2.41,2.52,2.49,2.49,2.54,2.53,2.5,2.49,2.48,2.52,2.52,2.45,2.48,2.67,2.54,2.54,2.58,2.54,2.52,2.46,2.55,2.45,2.5,2.51,2.64,2.63,2.37,2.6,2.61,2.5,2.68,2.33,2.5,2.53,2.55,2.63,2.61,2.64,2.5,2.5,2.63,2.61,2.6,2.59,2.54],\"lon\":[99.25,98.82,98.83,98.88,98.85,98.83,98.79,98.82,98.67,98.83,98.79,98.8,98.78,98.68,98.8,98.78,98.82,98.98,98.84,98.84,98.65,98.9,98.83,98.81,98.73,98.88,98.87,98.8,98.86,99.03,98.88,98.84,98.85,98.86,98.85,98.85,98.86,98.83,98.77,98.86,98.83,98.87,98.88,98.88,98.85,98.86,98.84,98.8,98.76,98.83,98.85,98.77,98.82,98.8,98.8,98.79,98.82,98.8,98.8,98.78,98.78,98.78,98.82,98.81,98.79,98.77,98.78,98.8,98.81,98.81,98.86,98.74,98.69,98.61,98.8,98.76,98.82,98.79,98.75,98.81,98.84,98.81,98.78,98.84,98.48,98.8,97.78,98.93,98.92,98.95,98.82,98.83,98.84,98.8,98.89,98.51,98.79,98.8,98.81,98.85,98.77,98.87,98.84,98.76,98.8,98.84,98.83,98.85,98.82,98.86,98.84,98.87,98.65,98.79,98.64,98.65,98.67,98.81,98.85,98.81,98.9,98.83,98.81,98.7,98.67,98.93,98.84,98.81,98.82,98.72,98.85,98.86,98.82,98.76,98.76,98.84,98.71,98.82,98.83,98.73,98.7,98.75,98.73,98.84],\"marker\":{\"color\":\"rgb(94, 0, 0)\",\"line\":{\"color\":\"white\",\"width\":1},\"opacity\":0.7,\"size\":10,\"sizemode\":\"area\",\"sizeref\":1},\"mode\":\"markers\",\"text\":\"Earthquake\",\"type\":\"scattergeo\"},{\"hoverinfo\":\"text\",\"lat\":[2.5,2.73,2.71,2.37,2.62,2.54,2.49,2.48,2.55,2.49,2.54,2.52,2.51,2.7,2.45,2.46,2.55,2.36,2.51,2.48,2.61,2.45,2.51,2.66,2.59,2.46,2.48,2.5,2.5,2.26,2.38,2.39,2.39,2.39,2.39,2.39,2.39,2.55,2.56,2.39,2.42,2.38,2.38,2.42,2.37,2.41,2.36,2.65,2.62,2.57,2.58,2.63,2.57,2.56,2.5,2.56,2.46,2.54,2.63,2.43,2.5,2.54,2.47,2.53,2.54,2.55,2.52,2.57,2.53,2.56,2.45,2.61,2.63,2.58,2.56,2.53,2.56,2.51,2.56,2.54,2.48,2.34,2.58,2.52,2.88,2.54,2.61,2.35,2.61,2.49,2.59,2.58,2.53,2.6,2.39,2.84,2.52,2.46,2.52,2.41,2.52,2.49,2.49,2.54,2.53,2.5,2.49,2.48,2.52,2.52,2.45,2.48,2.67,2.54,2.54,2.58,2.54,2.52,2.46,2.55,2.45,2.5,2.51,2.64,2.63,2.37,2.6,2.61,2.5,2.68,2.33,2.5,2.53,2.55,2.63,2.61,2.64,2.5,2.5,2.63,2.61,2.6,2.59,2.54],\"lon\":[99.25,98.82,98.83,98.88,98.85,98.83,98.79,98.82,98.67,98.83,98.79,98.8,98.78,98.68,98.8,98.78,98.82,98.98,98.84,98.84,98.65,98.9,98.83,98.81,98.73,98.88,98.87,98.8,98.86,99.03,98.88,98.84,98.85,98.86,98.85,98.85,98.86,98.83,98.77,98.86,98.83,98.87,98.88,98.88,98.85,98.86,98.84,98.8,98.76,98.83,98.85,98.77,98.82,98.8,98.8,98.79,98.82,98.8,98.8,98.78,98.78,98.78,98.82,98.81,98.79,98.77,98.78,98.8,98.81,98.81,98.86,98.74,98.69,98.61,98.8,98.76,98.82,98.79,98.75,98.81,98.84,98.81,98.78,98.84,98.48,98.8,97.78,98.93,98.92,98.95,98.82,98.83,98.84,98.8,98.89,98.51,98.79,98.8,98.81,98.85,98.77,98.87,98.84,98.76,98.8,98.84,98.83,98.85,98.82,98.86,98.84,98.87,98.65,98.79,98.64,98.65,98.67,98.81,98.85,98.81,98.9,98.83,98.81,98.7,98.67,98.93,98.84,98.81,98.82,98.72,98.85,98.86,98.82,98.76,98.76,98.84,98.71,98.82,98.83,98.73,98.7,98.75,98.73,98.84],\"marker\":{\"color\":\"rgb(0, 11, 84)\",\"line\":{\"color\":\"white\",\"width\":1},\"opacity\":0.7,\"size\":10,\"sizemode\":\"area\",\"sizeref\":1},\"mode\":\"markers\",\"text\":\"Nuclear Explosion\",\"type\":\"scattergeo\"},{\"hoverinfo\":\"text\",\"lat\":[2.5,2.73,2.71,2.37,2.62,2.54,2.49,2.48,2.55,2.49,2.54,2.52,2.51,2.7,2.45,2.46,2.55,2.36,2.51,2.48,2.61,2.45,2.51,2.66,2.59,2.46,2.48,2.5,2.5,2.26,2.38,2.39,2.39,2.39,2.39,2.39,2.39,2.55,2.56,2.39,2.42,2.38,2.38,2.42,2.37,2.41,2.36,2.65,2.62,2.57,2.58,2.63,2.57,2.56,2.5,2.56,2.46,2.54,2.63,2.43,2.5,2.54,2.47,2.53,2.54,2.55,2.52,2.57,2.53,2.56,2.45,2.61,2.63,2.58,2.56,2.53,2.56,2.51,2.56,2.54,2.48,2.34,2.58,2.52,2.88,2.54,2.61,2.35,2.61,2.49,2.59,2.58,2.53,2.6,2.39,2.84,2.52,2.46,2.52,2.41,2.52,2.49,2.49,2.54,2.53,2.5,2.49,2.48,2.52,2.52,2.45,2.48,2.67,2.54,2.54,2.58,2.54,2.52,2.46,2.55,2.45,2.5,2.51,2.64,2.63,2.37,2.6,2.61,2.5,2.68,2.33,2.5,2.53,2.55,2.63,2.61,2.64,2.5,2.5,2.63,2.61,2.6,2.59,2.54],\"lon\":[99.25,98.82,98.83,98.88,98.85,98.83,98.79,98.82,98.67,98.83,98.79,98.8,98.78,98.68,98.8,98.78,98.82,98.98,98.84,98.84,98.65,98.9,98.83,98.81,98.73,98.88,98.87,98.8,98.86,99.03,98.88,98.84,98.85,98.86,98.85,98.85,98.86,98.83,98.77,98.86,98.83,98.87,98.88,98.88,98.85,98.86,98.84,98.8,98.76,98.83,98.85,98.77,98.82,98.8,98.8,98.79,98.82,98.8,98.8,98.78,98.78,98.78,98.82,98.81,98.79,98.77,98.78,98.8,98.81,98.81,98.86,98.74,98.69,98.61,98.8,98.76,98.82,98.79,98.75,98.81,98.84,98.81,98.78,98.84,98.48,98.8,97.78,98.93,98.92,98.95,98.82,98.83,98.84,98.8,98.89,98.51,98.79,98.8,98.81,98.85,98.77,98.87,98.84,98.76,98.8,98.84,98.83,98.85,98.82,98.86,98.84,98.87,98.65,98.79,98.64,98.65,98.67,98.81,98.85,98.81,98.9,98.83,98.81,98.7,98.67,98.93,98.84,98.81,98.82,98.72,98.85,98.86,98.82,98.76,98.76,98.84,98.71,98.82,98.83,98.73,98.7,98.75,98.73,98.84],\"marker\":{\"color\":\"rgb(99, 110, 250)\",\"line\":{\"color\":\"white\",\"width\":1},\"opacity\":0.7,\"size\":10,\"sizemode\":\"area\",\"sizeref\":1},\"mode\":\"markers\",\"text\":\"Explosion\",\"type\":\"scattergeo\"},{\"hoverinfo\":\"text\",\"lat\":[2.5,2.73,2.71,2.37,2.62,2.54,2.49,2.48,2.55,2.49,2.54,2.52,2.51,2.7,2.45,2.46,2.55,2.36,2.51,2.48,2.61,2.45,2.51,2.66,2.59,2.46,2.48,2.5,2.5,2.26,2.38,2.39,2.39,2.39,2.39,2.39,2.39,2.55,2.56,2.39,2.42,2.38,2.38,2.42,2.37,2.41,2.36,2.65,2.62,2.57,2.58,2.63,2.57,2.56,2.5,2.56,2.46,2.54,2.63,2.43,2.5,2.54,2.47,2.53,2.54,2.55,2.52,2.57,2.53,2.56,2.45,2.61,2.63,2.58,2.56,2.53,2.56,2.51,2.56,2.54,2.48,2.34,2.58,2.52,2.88,2.54,2.61,2.35,2.61,2.49,2.59,2.58,2.53,2.6,2.39,2.84,2.52,2.46,2.52,2.41,2.52,2.49,2.49,2.54,2.53,2.5,2.49,2.48,2.52,2.52,2.45,2.48,2.67,2.54,2.54,2.58,2.54,2.52,2.46,2.55,2.45,2.5,2.51,2.64,2.63,2.37,2.6,2.61,2.5,2.68,2.33,2.5,2.53,2.55,2.63,2.61,2.64,2.5,2.5,2.63,2.61,2.6,2.59,2.54],\"lon\":[99.25,98.82,98.83,98.88,98.85,98.83,98.79,98.82,98.67,98.83,98.79,98.8,98.78,98.68,98.8,98.78,98.82,98.98,98.84,98.84,98.65,98.9,98.83,98.81,98.73,98.88,98.87,98.8,98.86,99.03,98.88,98.84,98.85,98.86,98.85,98.85,98.86,98.83,98.77,98.86,98.83,98.87,98.88,98.88,98.85,98.86,98.84,98.8,98.76,98.83,98.85,98.77,98.82,98.8,98.8,98.79,98.82,98.8,98.8,98.78,98.78,98.78,98.82,98.81,98.79,98.77,98.78,98.8,98.81,98.81,98.86,98.74,98.69,98.61,98.8,98.76,98.82,98.79,98.75,98.81,98.84,98.81,98.78,98.84,98.48,98.8,97.78,98.93,98.92,98.95,98.82,98.83,98.84,98.8,98.89,98.51,98.79,98.8,98.81,98.85,98.77,98.87,98.84,98.76,98.8,98.84,98.83,98.85,98.82,98.86,98.84,98.87,98.65,98.79,98.64,98.65,98.67,98.81,98.85,98.81,98.9,98.83,98.81,98.7,98.67,98.93,98.84,98.81,98.82,98.72,98.85,98.86,98.82,98.76,98.76,98.84,98.71,98.82,98.83,98.73,98.7,98.75,98.73,98.84],\"marker\":{\"color\":\"rgb(27, 27, 27)\",\"line\":{\"color\":\"white\",\"width\":1},\"opacity\":0.7,\"size\":10,\"sizemode\":\"area\",\"sizeref\":1},\"mode\":\"markers\",\"text\":\"Rock Burst\",\"type\":\"scattergeo\"}],                        {\"autosize\":true,\"geo\":{\"countrycolor\":\"rgb(209,209,209)\",\"countrywidth\":0.8,\"lakecolor\":\"rgb(211,255,255)\",\"landcolor\":\"rgb(157,255,125)\",\"showcoastlines\":true,\"showcountries\":true,\"showframe\":false,\"showlakes\":true,\"showland\":true,\"subunitwidth\":1},\"hovermode\":\"closest\",\"sliders\":[{\"active\":0,\"currentvalue\":{\"font\":{\"size\":20},\"prefix\":\"Month:\",\"visible\":true,\"xanchor\":\"right\"},\"len\":0.9,\"pad\":{\"b\":10,\"t\":50},\"steps\":[{\"args\":[[\"1\"],{\"frame\":{\"duration\":300,\"redraw\":false},\"mode\":\"immediate\",\"transition\":{\"duration\":300}}],\"label\":\"1\",\"method\":\"animate\"},{\"args\":[[\"2\"],{\"frame\":{\"duration\":300,\"redraw\":false},\"mode\":\"immediate\",\"transition\":{\"duration\":300}}],\"label\":\"2\",\"method\":\"animate\"},{\"args\":[[\"3\"],{\"frame\":{\"duration\":300,\"redraw\":false},\"mode\":\"immediate\",\"transition\":{\"duration\":300}}],\"label\":\"3\",\"method\":\"animate\"},{\"args\":[[\"4\"],{\"frame\":{\"duration\":300,\"redraw\":false},\"mode\":\"immediate\",\"transition\":{\"duration\":300}}],\"label\":\"4\",\"method\":\"animate\"},{\"args\":[[\"5\"],{\"frame\":{\"duration\":300,\"redraw\":false},\"mode\":\"immediate\",\"transition\":{\"duration\":300}}],\"label\":\"5\",\"method\":\"animate\"}],\"transition\":{\"duration\":300,\"easing\":\"cubic-in-out\"},\"x\":0.1,\"xanchor\":\"left\",\"y\":0,\"yanchor\":\"top\"}],\"template\":{\"data\":{\"barpolar\":[{\"marker\":{\"line\":{\"color\":\"#E5ECF6\",\"width\":0.5},\"pattern\":{\"fillmode\":\"overlay\",\"size\":10,\"solidity\":0.2}},\"type\":\"barpolar\"}],\"bar\":[{\"error_x\":{\"color\":\"#2a3f5f\"},\"error_y\":{\"color\":\"#2a3f5f\"},\"marker\":{\"line\":{\"color\":\"#E5ECF6\",\"width\":0.5},\"pattern\":{\"fillmode\":\"overlay\",\"size\":10,\"solidity\":0.2}},\"type\":\"bar\"}],\"carpet\":[{\"aaxis\":{\"endlinecolor\":\"#2a3f5f\",\"gridcolor\":\"white\",\"linecolor\":\"white\",\"minorgridcolor\":\"white\",\"startlinecolor\":\"#2a3f5f\"},\"baxis\":{\"endlinecolor\":\"#2a3f5f\",\"gridcolor\":\"white\",\"linecolor\":\"white\",\"minorgridcolor\":\"white\",\"startlinecolor\":\"#2a3f5f\"},\"type\":\"carpet\"}],\"choropleth\":[{\"colorbar\":{\"outlinewidth\":0,\"ticks\":\"\"},\"type\":\"choropleth\"}],\"contourcarpet\":[{\"colorbar\":{\"outlinewidth\":0,\"ticks\":\"\"},\"type\":\"contourcarpet\"}],\"contour\":[{\"colorbar\":{\"outlinewidth\":0,\"ticks\":\"\"},\"colorscale\":[[0.0,\"#0d0887\"],[0.1111111111111111,\"#46039f\"],[0.2222222222222222,\"#7201a8\"],[0.3333333333333333,\"#9c179e\"],[0.4444444444444444,\"#bd3786\"],[0.5555555555555556,\"#d8576b\"],[0.6666666666666666,\"#ed7953\"],[0.7777777777777778,\"#fb9f3a\"],[0.8888888888888888,\"#fdca26\"],[1.0,\"#f0f921\"]],\"type\":\"contour\"}],\"heatmapgl\":[{\"colorbar\":{\"outlinewidth\":0,\"ticks\":\"\"},\"colorscale\":[[0.0,\"#0d0887\"],[0.1111111111111111,\"#46039f\"],[0.2222222222222222,\"#7201a8\"],[0.3333333333333333,\"#9c179e\"],[0.4444444444444444,\"#bd3786\"],[0.5555555555555556,\"#d8576b\"],[0.6666666666666666,\"#ed7953\"],[0.7777777777777778,\"#fb9f3a\"],[0.8888888888888888,\"#fdca26\"],[1.0,\"#f0f921\"]],\"type\":\"heatmapgl\"}],\"heatmap\":[{\"colorbar\":{\"outlinewidth\":0,\"ticks\":\"\"},\"colorscale\":[[0.0,\"#0d0887\"],[0.1111111111111111,\"#46039f\"],[0.2222222222222222,\"#7201a8\"],[0.3333333333333333,\"#9c179e\"],[0.4444444444444444,\"#bd3786\"],[0.5555555555555556,\"#d8576b\"],[0.6666666666666666,\"#ed7953\"],[0.7777777777777778,\"#fb9f3a\"],[0.8888888888888888,\"#fdca26\"],[1.0,\"#f0f921\"]],\"type\":\"heatmap\"}],\"histogram2dcontour\":[{\"colorbar\":{\"outlinewidth\":0,\"ticks\":\"\"},\"colorscale\":[[0.0,\"#0d0887\"],[0.1111111111111111,\"#46039f\"],[0.2222222222222222,\"#7201a8\"],[0.3333333333333333,\"#9c179e\"],[0.4444444444444444,\"#bd3786\"],[0.5555555555555556,\"#d8576b\"],[0.6666666666666666,\"#ed7953\"],[0.7777777777777778,\"#fb9f3a\"],[0.8888888888888888,\"#fdca26\"],[1.0,\"#f0f921\"]],\"type\":\"histogram2dcontour\"}],\"histogram2d\":[{\"colorbar\":{\"outlinewidth\":0,\"ticks\":\"\"},\"colorscale\":[[0.0,\"#0d0887\"],[0.1111111111111111,\"#46039f\"],[0.2222222222222222,\"#7201a8\"],[0.3333333333333333,\"#9c179e\"],[0.4444444444444444,\"#bd3786\"],[0.5555555555555556,\"#d8576b\"],[0.6666666666666666,\"#ed7953\"],[0.7777777777777778,\"#fb9f3a\"],[0.8888888888888888,\"#fdca26\"],[1.0,\"#f0f921\"]],\"type\":\"histogram2d\"}],\"histogram\":[{\"marker\":{\"pattern\":{\"fillmode\":\"overlay\",\"size\":10,\"solidity\":0.2}},\"type\":\"histogram\"}],\"mesh3d\":[{\"colorbar\":{\"outlinewidth\":0,\"ticks\":\"\"},\"type\":\"mesh3d\"}],\"parcoords\":[{\"line\":{\"colorbar\":{\"outlinewidth\":0,\"ticks\":\"\"}},\"type\":\"parcoords\"}],\"pie\":[{\"automargin\":true,\"type\":\"pie\"}],\"scatter3d\":[{\"line\":{\"colorbar\":{\"outlinewidth\":0,\"ticks\":\"\"}},\"marker\":{\"colorbar\":{\"outlinewidth\":0,\"ticks\":\"\"}},\"type\":\"scatter3d\"}],\"scattercarpet\":[{\"marker\":{\"colorbar\":{\"outlinewidth\":0,\"ticks\":\"\"}},\"type\":\"scattercarpet\"}],\"scattergeo\":[{\"marker\":{\"colorbar\":{\"outlinewidth\":0,\"ticks\":\"\"}},\"type\":\"scattergeo\"}],\"scattergl\":[{\"marker\":{\"colorbar\":{\"outlinewidth\":0,\"ticks\":\"\"}},\"type\":\"scattergl\"}],\"scattermapbox\":[{\"marker\":{\"colorbar\":{\"outlinewidth\":0,\"ticks\":\"\"}},\"type\":\"scattermapbox\"}],\"scatterpolargl\":[{\"marker\":{\"colorbar\":{\"outlinewidth\":0,\"ticks\":\"\"}},\"type\":\"scatterpolargl\"}],\"scatterpolar\":[{\"marker\":{\"colorbar\":{\"outlinewidth\":0,\"ticks\":\"\"}},\"type\":\"scatterpolar\"}],\"scatter\":[{\"marker\":{\"colorbar\":{\"outlinewidth\":0,\"ticks\":\"\"}},\"type\":\"scatter\"}],\"scatterternary\":[{\"marker\":{\"colorbar\":{\"outlinewidth\":0,\"ticks\":\"\"}},\"type\":\"scatterternary\"}],\"surface\":[{\"colorbar\":{\"outlinewidth\":0,\"ticks\":\"\"},\"colorscale\":[[0.0,\"#0d0887\"],[0.1111111111111111,\"#46039f\"],[0.2222222222222222,\"#7201a8\"],[0.3333333333333333,\"#9c179e\"],[0.4444444444444444,\"#bd3786\"],[0.5555555555555556,\"#d8576b\"],[0.6666666666666666,\"#ed7953\"],[0.7777777777777778,\"#fb9f3a\"],[0.8888888888888888,\"#fdca26\"],[1.0,\"#f0f921\"]],\"type\":\"surface\"}],\"table\":[{\"cells\":{\"fill\":{\"color\":\"#EBF0F8\"},\"line\":{\"color\":\"white\"}},\"header\":{\"fill\":{\"color\":\"#C8D4E3\"},\"line\":{\"color\":\"white\"}},\"type\":\"table\"}]},\"layout\":{\"annotationdefaults\":{\"arrowcolor\":\"#2a3f5f\",\"arrowhead\":0,\"arrowwidth\":1},\"autotypenumbers\":\"strict\",\"coloraxis\":{\"colorbar\":{\"outlinewidth\":0,\"ticks\":\"\"}},\"colorscale\":{\"diverging\":[[0,\"#8e0152\"],[0.1,\"#c51b7d\"],[0.2,\"#de77ae\"],[0.3,\"#f1b6da\"],[0.4,\"#fde0ef\"],[0.5,\"#f7f7f7\"],[0.6,\"#e6f5d0\"],[0.7,\"#b8e186\"],[0.8,\"#7fbc41\"],[0.9,\"#4d9221\"],[1,\"#276419\"]],\"sequential\":[[0.0,\"#0d0887\"],[0.1111111111111111,\"#46039f\"],[0.2222222222222222,\"#7201a8\"],[0.3333333333333333,\"#9c179e\"],[0.4444444444444444,\"#bd3786\"],[0.5555555555555556,\"#d8576b\"],[0.6666666666666666,\"#ed7953\"],[0.7777777777777778,\"#fb9f3a\"],[0.8888888888888888,\"#fdca26\"],[1.0,\"#f0f921\"]],\"sequentialminus\":[[0.0,\"#0d0887\"],[0.1111111111111111,\"#46039f\"],[0.2222222222222222,\"#7201a8\"],[0.3333333333333333,\"#9c179e\"],[0.4444444444444444,\"#bd3786\"],[0.5555555555555556,\"#d8576b\"],[0.6666666666666666,\"#ed7953\"],[0.7777777777777778,\"#fb9f3a\"],[0.8888888888888888,\"#fdca26\"],[1.0,\"#f0f921\"]]},\"colorway\":[\"#636efa\",\"#EF553B\",\"#00cc96\",\"#ab63fa\",\"#FFA15A\",\"#19d3f3\",\"#FF6692\",\"#B6E880\",\"#FF97FF\",\"#FECB52\"],\"font\":{\"color\":\"#2a3f5f\"},\"geo\":{\"bgcolor\":\"white\",\"lakecolor\":\"white\",\"landcolor\":\"#E5ECF6\",\"showlakes\":true,\"showland\":true,\"subunitcolor\":\"white\"},\"hoverlabel\":{\"align\":\"left\"},\"hovermode\":\"closest\",\"mapbox\":{\"style\":\"light\"},\"paper_bgcolor\":\"white\",\"plot_bgcolor\":\"#E5ECF6\",\"polar\":{\"angularaxis\":{\"gridcolor\":\"white\",\"linecolor\":\"white\",\"ticks\":\"\"},\"bgcolor\":\"#E5ECF6\",\"radialaxis\":{\"gridcolor\":\"white\",\"linecolor\":\"white\",\"ticks\":\"\"}},\"scene\":{\"xaxis\":{\"backgroundcolor\":\"#E5ECF6\",\"gridcolor\":\"white\",\"gridwidth\":2,\"linecolor\":\"white\",\"showbackground\":true,\"ticks\":\"\",\"zerolinecolor\":\"white\"},\"yaxis\":{\"backgroundcolor\":\"#E5ECF6\",\"gridcolor\":\"white\",\"gridwidth\":2,\"linecolor\":\"white\",\"showbackground\":true,\"ticks\":\"\",\"zerolinecolor\":\"white\"},\"zaxis\":{\"backgroundcolor\":\"#E5ECF6\",\"gridcolor\":\"white\",\"gridwidth\":2,\"linecolor\":\"white\",\"showbackground\":true,\"ticks\":\"\",\"zerolinecolor\":\"white\"}},\"shapedefaults\":{\"line\":{\"color\":\"#2a3f5f\"}},\"ternary\":{\"aaxis\":{\"gridcolor\":\"white\",\"linecolor\":\"white\",\"ticks\":\"\"},\"baxis\":{\"gridcolor\":\"white\",\"linecolor\":\"white\",\"ticks\":\"\"},\"bgcolor\":\"#E5ECF6\",\"caxis\":{\"gridcolor\":\"white\",\"linecolor\":\"white\",\"ticks\":\"\"}},\"title\":{\"x\":0.05},\"xaxis\":{\"automargin\":true,\"gridcolor\":\"white\",\"linecolor\":\"white\",\"ticks\":\"\",\"title\":{\"standoff\":15},\"zerolinecolor\":\"white\",\"zerolinewidth\":2},\"yaxis\":{\"automargin\":true,\"gridcolor\":\"white\",\"linecolor\":\"white\",\"ticks\":\"\",\"title\":{\"standoff\":15},\"zerolinecolor\":\"white\",\"zerolinewidth\":2}}},\"title\":{\"text\":\"EARTHQUAKE\"},\"updatemenus\":[{\"buttons\":[{\"args\":[null,{\"frame\":{\"duration\":500,\"redraw\":false},\"fromcurrent\":true,\"transition\":{\"duration\":300,\"easing\":\"quadratic-in-out\"}}],\"label\":\"Play\",\"method\":\"animate\"},{\"args\":[[null],{\"frame\":{\"duration\":0,\"redraw\":false},\"mode\":\"immediate\",\"transition\":{\"duration\":0}}],\"label\":\"Pause\",\"method\":\"animate\"}],\"direction\":\"left\",\"pad\":{\"r\":10,\"t\":87},\"showactive\":false,\"type\":\"buttons\",\"x\":0.1,\"xanchor\":\"right\",\"y\":0,\"yanchor\":\"top\"}]},                        {\"responsive\": true}                    ).then(function(){\n",
       "                            Plotly.addFrames('a6a34c26-91cf-4229-b443-79b4ec022270', [{\"data\":[{\"hoverinfo\":\"text\",\"lat\":[2.5],\"lon\":[99.25],\"marker\":{\"color\":\"rgb(94, 0, 0)\",\"line\":{\"color\":\"white\",\"width\":1},\"opacity\":0.7,\"size\":10,\"sizemode\":\"area\",\"sizeref\":1},\"mode\":\"markers\",\"name\":\"Earthquake\",\"text\":\"Earthquake\",\"type\":\"scattergeo\"},{\"hoverinfo\":\"text\",\"lat\":[],\"lon\":[],\"marker\":{\"color\":\"rgb(0, 11, 84)\",\"line\":{\"color\":\"white\",\"width\":1},\"opacity\":0.7,\"size\":10,\"sizemode\":\"area\",\"sizeref\":1},\"mode\":\"markers\",\"name\":\"Nuclear Explosion\",\"text\":\"Nuclear Explosion\",\"type\":\"scattergeo\"},{\"hoverinfo\":\"text\",\"lat\":[],\"lon\":[],\"marker\":{\"color\":\"rgb(99, 110, 250)\",\"line\":{\"color\":\"white\",\"width\":1},\"opacity\":0.7,\"size\":10,\"sizemode\":\"area\",\"sizeref\":1},\"mode\":\"markers\",\"name\":\"Explosion\",\"text\":\"Explosion\",\"type\":\"scattergeo\"},{\"hoverinfo\":\"text\",\"lat\":[],\"lon\":[],\"marker\":{\"color\":\"rgb(27, 27, 27)\",\"line\":{\"color\":\"white\",\"width\":1},\"opacity\":0.7,\"size\":10,\"sizemode\":\"area\",\"sizeref\":1},\"mode\":\"markers\",\"name\":\"Rock Burst\",\"text\":\"Rock Burst\",\"type\":\"scattergeo\"}],\"name\":\"1\"},{\"data\":[{\"hoverinfo\":\"text\",\"lat\":[2.73,2.71,2.37,2.62,2.54,2.49,2.48,2.55],\"lon\":[98.82,98.83,98.88,98.85,98.83,98.79,98.82,98.67],\"marker\":{\"color\":\"rgb(94, 0, 0)\",\"line\":{\"color\":\"white\",\"width\":1},\"opacity\":0.7,\"size\":10,\"sizemode\":\"area\",\"sizeref\":1},\"mode\":\"markers\",\"name\":\"Earthquake\",\"text\":\"Earthquake\",\"type\":\"scattergeo\"},{\"hoverinfo\":\"text\",\"lat\":[],\"lon\":[],\"marker\":{\"color\":\"rgb(0, 11, 84)\",\"line\":{\"color\":\"white\",\"width\":1},\"opacity\":0.7,\"size\":10,\"sizemode\":\"area\",\"sizeref\":1},\"mode\":\"markers\",\"name\":\"Nuclear Explosion\",\"text\":\"Nuclear Explosion\",\"type\":\"scattergeo\"},{\"hoverinfo\":\"text\",\"lat\":[],\"lon\":[],\"marker\":{\"color\":\"rgb(99, 110, 250)\",\"line\":{\"color\":\"white\",\"width\":1},\"opacity\":0.7,\"size\":10,\"sizemode\":\"area\",\"sizeref\":1},\"mode\":\"markers\",\"name\":\"Explosion\",\"text\":\"Explosion\",\"type\":\"scattergeo\"},{\"hoverinfo\":\"text\",\"lat\":[],\"lon\":[],\"marker\":{\"color\":\"rgb(27, 27, 27)\",\"line\":{\"color\":\"white\",\"width\":1},\"opacity\":0.7,\"size\":10,\"sizemode\":\"area\",\"sizeref\":1},\"mode\":\"markers\",\"name\":\"Rock Burst\",\"text\":\"Rock Burst\",\"type\":\"scattergeo\"}],\"name\":\"2\"},{\"data\":[{\"hoverinfo\":\"text\",\"lat\":[2.49,2.54,2.52,2.51,2.7,2.45,2.46,2.55,2.36,2.51,2.48,2.61,2.45,2.51,2.66,2.59,2.46,2.48,2.5,2.5,2.26],\"lon\":[98.83,98.79,98.8,98.78,98.68,98.8,98.78,98.82,98.98,98.84,98.84,98.65,98.9,98.83,98.81,98.73,98.88,98.87,98.8,98.86,99.03],\"marker\":{\"color\":\"rgb(94, 0, 0)\",\"line\":{\"color\":\"white\",\"width\":1},\"opacity\":0.7,\"size\":10,\"sizemode\":\"area\",\"sizeref\":1},\"mode\":\"markers\",\"name\":\"Earthquake\",\"text\":\"Earthquake\",\"type\":\"scattergeo\"},{\"hoverinfo\":\"text\",\"lat\":[],\"lon\":[],\"marker\":{\"color\":\"rgb(0, 11, 84)\",\"line\":{\"color\":\"white\",\"width\":1},\"opacity\":0.7,\"size\":10,\"sizemode\":\"area\",\"sizeref\":1},\"mode\":\"markers\",\"name\":\"Nuclear Explosion\",\"text\":\"Nuclear Explosion\",\"type\":\"scattergeo\"},{\"hoverinfo\":\"text\",\"lat\":[],\"lon\":[],\"marker\":{\"color\":\"rgb(99, 110, 250)\",\"line\":{\"color\":\"white\",\"width\":1},\"opacity\":0.7,\"size\":10,\"sizemode\":\"area\",\"sizeref\":1},\"mode\":\"markers\",\"name\":\"Explosion\",\"text\":\"Explosion\",\"type\":\"scattergeo\"},{\"hoverinfo\":\"text\",\"lat\":[],\"lon\":[],\"marker\":{\"color\":\"rgb(27, 27, 27)\",\"line\":{\"color\":\"white\",\"width\":1},\"opacity\":0.7,\"size\":10,\"sizemode\":\"area\",\"sizeref\":1},\"mode\":\"markers\",\"name\":\"Rock Burst\",\"text\":\"Rock Burst\",\"type\":\"scattergeo\"}],\"name\":\"3\"},{\"data\":[{\"hoverinfo\":\"text\",\"lat\":[2.38,2.39,2.39,2.39,2.39,2.39,2.39,2.55,2.56,2.39,2.42,2.38,2.38,2.42,2.37,2.41,2.36,2.65,2.62,2.57,2.58,2.63,2.57,2.56,2.5,2.56,2.46,2.54,2.63,2.43,2.5,2.54,2.47,2.53,2.54,2.55,2.52,2.57,2.53,2.56,2.45,2.61,2.63,2.58,2.56,2.53,2.56,2.51,2.56,2.54,2.48,2.34,2.58,2.52,2.88],\"lon\":[98.88,98.84,98.85,98.86,98.85,98.85,98.86,98.83,98.77,98.86,98.83,98.87,98.88,98.88,98.85,98.86,98.84,98.8,98.76,98.83,98.85,98.77,98.82,98.8,98.8,98.79,98.82,98.8,98.8,98.78,98.78,98.78,98.82,98.81,98.79,98.77,98.78,98.8,98.81,98.81,98.86,98.74,98.69,98.61,98.8,98.76,98.82,98.79,98.75,98.81,98.84,98.81,98.78,98.84,98.48],\"marker\":{\"color\":\"rgb(94, 0, 0)\",\"line\":{\"color\":\"white\",\"width\":1},\"opacity\":0.7,\"size\":10,\"sizemode\":\"area\",\"sizeref\":1},\"mode\":\"markers\",\"name\":\"Earthquake\",\"text\":\"Earthquake\",\"type\":\"scattergeo\"},{\"hoverinfo\":\"text\",\"lat\":[],\"lon\":[],\"marker\":{\"color\":\"rgb(0, 11, 84)\",\"line\":{\"color\":\"white\",\"width\":1},\"opacity\":0.7,\"size\":10,\"sizemode\":\"area\",\"sizeref\":1},\"mode\":\"markers\",\"name\":\"Nuclear Explosion\",\"text\":\"Nuclear Explosion\",\"type\":\"scattergeo\"},{\"hoverinfo\":\"text\",\"lat\":[],\"lon\":[],\"marker\":{\"color\":\"rgb(99, 110, 250)\",\"line\":{\"color\":\"white\",\"width\":1},\"opacity\":0.7,\"size\":10,\"sizemode\":\"area\",\"sizeref\":1},\"mode\":\"markers\",\"name\":\"Explosion\",\"text\":\"Explosion\",\"type\":\"scattergeo\"},{\"hoverinfo\":\"text\",\"lat\":[],\"lon\":[],\"marker\":{\"color\":\"rgb(27, 27, 27)\",\"line\":{\"color\":\"white\",\"width\":1},\"opacity\":0.7,\"size\":10,\"sizemode\":\"area\",\"sizeref\":1},\"mode\":\"markers\",\"name\":\"Rock Burst\",\"text\":\"Rock Burst\",\"type\":\"scattergeo\"}],\"name\":\"4\"},{\"data\":[{\"hoverinfo\":\"text\",\"lat\":[2.54,2.61,2.35,2.61,2.49,2.59,2.58,2.53,2.6,2.39,2.84,2.52,2.46,2.52,2.41,2.52,2.49,2.49,2.54,2.53,2.5,2.49,2.48,2.52,2.52,2.45,2.48,2.67,2.54,2.54,2.58,2.54,2.52,2.46,2.55,2.45,2.5,2.51,2.64,2.63,2.37,2.6,2.61,2.5,2.68,2.33,2.5,2.53,2.55,2.63,2.61,2.64,2.5,2.5,2.63,2.61,2.6,2.59,2.54],\"lon\":[98.8,97.78,98.93,98.92,98.95,98.82,98.83,98.84,98.8,98.89,98.51,98.79,98.8,98.81,98.85,98.77,98.87,98.84,98.76,98.8,98.84,98.83,98.85,98.82,98.86,98.84,98.87,98.65,98.79,98.64,98.65,98.67,98.81,98.85,98.81,98.9,98.83,98.81,98.7,98.67,98.93,98.84,98.81,98.82,98.72,98.85,98.86,98.82,98.76,98.76,98.84,98.71,98.82,98.83,98.73,98.7,98.75,98.73,98.84],\"marker\":{\"color\":\"rgb(94, 0, 0)\",\"line\":{\"color\":\"white\",\"width\":1},\"opacity\":0.7,\"size\":10,\"sizemode\":\"area\",\"sizeref\":1},\"mode\":\"markers\",\"name\":\"Earthquake\",\"text\":\"Earthquake\",\"type\":\"scattergeo\"},{\"hoverinfo\":\"text\",\"lat\":[],\"lon\":[],\"marker\":{\"color\":\"rgb(0, 11, 84)\",\"line\":{\"color\":\"white\",\"width\":1},\"opacity\":0.7,\"size\":10,\"sizemode\":\"area\",\"sizeref\":1},\"mode\":\"markers\",\"name\":\"Nuclear Explosion\",\"text\":\"Nuclear Explosion\",\"type\":\"scattergeo\"},{\"hoverinfo\":\"text\",\"lat\":[],\"lon\":[],\"marker\":{\"color\":\"rgb(99, 110, 250)\",\"line\":{\"color\":\"white\",\"width\":1},\"opacity\":0.7,\"size\":10,\"sizemode\":\"area\",\"sizeref\":1},\"mode\":\"markers\",\"name\":\"Explosion\",\"text\":\"Explosion\",\"type\":\"scattergeo\"},{\"hoverinfo\":\"text\",\"lat\":[],\"lon\":[],\"marker\":{\"color\":\"rgb(27, 27, 27)\",\"line\":{\"color\":\"white\",\"width\":1},\"opacity\":0.7,\"size\":10,\"sizemode\":\"area\",\"sizeref\":1},\"mode\":\"markers\",\"name\":\"Rock Burst\",\"text\":\"Rock Burst\",\"type\":\"scattergeo\"}],\"name\":\"5\"}]);\n",
       "                        }).then(function(){\n",
       "                            Plotly.animate('a6a34c26-91cf-4229-b443-79b4ec022270', null);\n",
       "                        }).then(function(){\n",
       "                            \n",
       "var gd = document.getElementById('a6a34c26-91cf-4229-b443-79b4ec022270');\n",
       "var x = new MutationObserver(function (mutations, observer) {{\n",
       "        var display = window.getComputedStyle(gd).display;\n",
       "        if (!display || display === 'none') {{\n",
       "            console.log([gd, 'removed!']);\n",
       "            Plotly.purge(gd);\n",
       "            observer.disconnect();\n",
       "        }}\n",
       "}});\n",
       "\n",
       "// Listen for the removal of the full notebook cells\n",
       "var notebookContainer = gd.closest('#notebook-container');\n",
       "if (notebookContainer) {{\n",
       "    x.observe(notebookContainer, {childList: true});\n",
       "}}\n",
       "\n",
       "// Listen for the clearing of the current output cell\n",
       "var outputEl = gd.closest('.output');\n",
       "if (outputEl) {{\n",
       "    x.observe(outputEl, {childList: true});\n",
       "}}\n",
       "\n",
       "                        })                };                });            </script>        </div>"
      ]
     },
     "metadata": {},
     "output_type": "display_data"
    }
   ],
   "source": [
    "months = [str(each) for each in list(data.Month.unique())]\n",
    "\n",
    "figure={\n",
    "    'data':[],\n",
    "    'layout':{},\n",
    "    'frames':[]\n",
    "    \n",
    "}\n",
    "\n",
    "figure['layout']['geo']=dict(showframe=False, showland=True, showcoastlines=True, \n",
    "                             showcountries=True, countrywidth=0.8, landcolor='rgb(157,255,125)', subunitwidth=1,\n",
    "                            showlakes=True, lakecolor='rgb(211,255,255)', countrycolor='rgb(209,209,209)')\n",
    "figure['layout']['hovermode']='closest'\n",
    "figure['layout']['sliders']={\n",
    "    'args':[\n",
    "        'transition',{\n",
    "            'duration':700,\n",
    "            'easing':'cubic-in-out'}\n",
    "    ],\n",
    "    'initialValue':'1965',\n",
    "    'plotlycommand':'animate',\n",
    "    'values':months,\n",
    "    'visible': True\n",
    "}\n",
    "figure['layout']['updatemenus']=[\n",
    "    {\n",
    "        'buttons': [{'args':[None,{'frame':{'duration':500, 'redraw':False}, 'fromcurrent':True, \n",
    "                                   'transition':{'duration':300, 'easing':'quadratic-in-out'}}],\n",
    "                    'label':'Play',\n",
    "                    'method':'animate'},\n",
    "                    {'args':[[None],{'frame':{'duration':0, 'redraw':False}, 'mode':'immediate',\n",
    "                                    'transition':{'duration':0}}],\n",
    "                     'label':'Pause',\n",
    "                     'method':'animate'\n",
    "                    }    \n",
    "        ],\n",
    "        'direction':'left',\n",
    "        'pad':{'r':10, 't':87},\n",
    "        'showactive':False,\n",
    "        'type':'buttons',\n",
    "        'x':0.1,\n",
    "        'xanchor':'right',\n",
    "        'y':0,\n",
    "        'yanchor':'top',\n",
    "        \n",
    "    }\n",
    "]\n",
    "sliders_dict={\n",
    "    'active':0,\n",
    "    'yanchor':'top',\n",
    "    'xanchor':'left',\n",
    "    'currentvalue':{\n",
    "        'font':{'size':20},\n",
    "        'prefix':'Month:',\n",
    "        'visible':True,\n",
    "        'xanchor':'right'\n",
    "    },\n",
    "    'transition':{'duration':300, 'easing':'cubic-in-out'},\n",
    "    'pad':{'b':10, 't':50},\n",
    "    'len':0.9,\n",
    "    'x':0.1,\n",
    "    'y':0,\n",
    "    'steps':[]\n",
    "}\n",
    "\n",
    "types = ['Earthquake', 'Nuclear Explosion', 'Explosion', 'Rock Burst']\n",
    "custom_colors = {\n",
    "    'Earthquake': 'rgb(94, 0, 0)',\n",
    "    'Nuclear Explosion': 'rgb(0, 11, 84)',\n",
    "    'Explosion': 'rgb(99, 110, 250)',\n",
    "    'Rock Burst': 'rgb(27, 27, 27)'\n",
    "}\n",
    "month = 2021\n",
    "for ty in types:\n",
    "    dataset_by_month = data[data['Month'] == month]\n",
    "    dataset_by_month_and_cont = dataset_by_month[dataset_by_month['Type'] == ty]\n",
    "    \n",
    "    data_dict = dict(\n",
    "    type='scattergeo',\n",
    "    lon = data['Longitude'],\n",
    "    lat = data['Latitude'],\n",
    "    hoverinfo = 'text',\n",
    "    text = ty,\n",
    "    mode = 'markers',\n",
    "    marker=dict(\n",
    "        sizemode = 'area',\n",
    "        sizeref = 1,\n",
    "        size= 10 ,\n",
    "        line = dict(width=1,color = \"white\"),\n",
    "        color = custom_colors[ty],\n",
    "        opacity = 0.7),\n",
    ")\n",
    "    figure['data'].append(data_dict)\n",
    "    \n",
    "for month in months:\n",
    "    frame = {'data': [], 'name': str(month)}\n",
    "    for ty in types:\n",
    "        dataset_by_month = data[data['Month'] == int(month)]\n",
    "        dataset_by_month_and_cont = dataset_by_month[dataset_by_month['Type'] == ty]\n",
    "\n",
    "        data_dict = dict(\n",
    "                type='scattergeo',\n",
    "                lon = dataset_by_month_and_cont['Longitude'],\n",
    "                lat = dataset_by_month_and_cont['Latitude'],\n",
    "                hoverinfo = 'text',\n",
    "                text = ty,\n",
    "                mode = 'markers',\n",
    "                marker=dict(\n",
    "                    sizemode = 'area',\n",
    "                    sizeref = 1,\n",
    "                    size= 10 ,\n",
    "                    line = dict(width=1,color = \"white\"),\n",
    "                    color = custom_colors[ty],\n",
    "                    opacity = 0.7),\n",
    "                name = ty\n",
    "            )\n",
    "        frame['data'].append(data_dict)\n",
    "\n",
    "    figure['frames'].append(frame)\n",
    "    slider_step = {'args': [\n",
    "        [month],\n",
    "        {'frame': {'duration': 300, 'redraw': False},\n",
    "         'mode': 'immediate',\n",
    "       'transition': {'duration': 300}}\n",
    "     ],\n",
    "     'label': month,\n",
    "     'method': 'animate'}\n",
    "    sliders_dict['steps'].append(slider_step)\n",
    "\n",
    "\n",
    "figure[\"layout\"][\"autosize\"]= True\n",
    "figure[\"layout\"][\"title\"] = \"EARTHQUAKE\"       \n",
    "\n",
    "figure['layout']['sliders'] = [sliders_dict]\n",
    "\n",
    "iplot(figure)\n"
   ]
  },
  {
   "cell_type": "code",
   "execution_count": null,
   "metadata": {},
   "outputs": [],
   "source": []
  },
  {
   "cell_type": "code",
   "execution_count": null,
   "metadata": {},
   "outputs": [],
   "source": []
  }
 ],
 "metadata": {
  "kernelspec": {
   "display_name": "Python 3 (ipykernel)",
   "language": "python",
   "name": "python3"
  },
  "language_info": {
   "codemirror_mode": {
    "name": "ipython",
    "version": 3
   },
   "file_extension": ".py",
   "mimetype": "text/x-python",
   "name": "python",
   "nbconvert_exporter": "python",
   "pygments_lexer": "ipython3",
   "version": "3.9.7"
  }
 },
 "nbformat": 4,
 "nbformat_minor": 1
}
